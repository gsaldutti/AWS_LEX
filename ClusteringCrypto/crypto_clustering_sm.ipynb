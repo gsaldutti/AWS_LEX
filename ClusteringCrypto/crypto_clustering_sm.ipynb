{
 "cells": [
  {
   "cell_type": "markdown",
   "id": "618ff88e",
   "metadata": {},
   "source": [
    "Clustering Crypto"
   ]
  },
  {
   "cell_type": "code",
   "execution_count": 101,
   "id": "d99d0ad5",
   "metadata": {},
   "outputs": [],
   "source": [
    "# Initial imports\n",
    "import requests\n",
    "import pandas as pd\n",
    "import matplotlib.pyplot as plt\n",
    "import hvplot.pandas\n",
    "import plotly.express as px\n",
    "from sklearn.preprocessing import StandardScaler, MinMaxScaler\n",
    "from sklearn.decomposition import PCA\n",
    "from sklearn.cluster import KMeans\n",
    "from sklearn.decomposition import PCA\n",
    "from sklearn.cluster import KMeans\n",
    "import plotly.express as px\n",
    "from pathlib import Path\n",
    "import altair as alt\n",
    "from IPython.display import display"
   ]
  },
  {
   "cell_type": "code",
   "execution_count": 102,
   "id": "05a26037",
   "metadata": {},
   "outputs": [
    {
     "name": "stdout",
     "output_type": "stream",
     "text": [
      "Requirement already satisfied: altair in c:\\users\\gregg\\anaconda3\\envs\\pyvizenv\\lib\\site-packages (4.2.0)\n",
      "Requirement already satisfied: jsonschema>=3.0 in c:\\users\\gregg\\anaconda3\\envs\\pyvizenv\\lib\\site-packages (from altair) (3.2.0)\n",
      "Requirement already satisfied: numpy in c:\\users\\gregg\\anaconda3\\envs\\pyvizenv\\lib\\site-packages (from altair) (1.20.3)\n",
      "Requirement already satisfied: jinja2 in c:\\users\\gregg\\anaconda3\\envs\\pyvizenv\\lib\\site-packages (from altair) (2.11.3)\n",
      "Requirement already satisfied: entrypoints in c:\\users\\gregg\\anaconda3\\envs\\pyvizenv\\lib\\site-packages (from altair) (0.3)\n",
      "Requirement already satisfied: pandas>=0.18 in c:\\users\\gregg\\anaconda3\\envs\\pyvizenv\\lib\\site-packages (from altair) (1.3.5)\n",
      "Requirement already satisfied: toolz in c:\\users\\gregg\\anaconda3\\envs\\pyvizenv\\lib\\site-packages (from altair) (0.11.2)\n",
      "Requirement already satisfied: importlib-metadata in c:\\users\\gregg\\anaconda3\\envs\\pyvizenv\\lib\\site-packages (from jsonschema>=3.0->altair) (4.8.2)\n",
      "Requirement already satisfied: six>=1.11.0 in c:\\users\\gregg\\anaconda3\\envs\\pyvizenv\\lib\\site-packages (from jsonschema>=3.0->altair) (1.16.0)\n",
      "Requirement already satisfied: setuptools in c:\\users\\gregg\\anaconda3\\envs\\pyvizenv\\lib\\site-packages (from jsonschema>=3.0->altair) (58.0.4)\n",
      "Requirement already satisfied: attrs>=17.4.0 in c:\\users\\gregg\\anaconda3\\envs\\pyvizenv\\lib\\site-packages (from jsonschema>=3.0->altair) (21.4.0)\n",
      "Requirement already satisfied: pyrsistent>=0.14.0 in c:\\users\\gregg\\anaconda3\\envs\\pyvizenv\\lib\\site-packages (from jsonschema>=3.0->altair) (0.18.0)\n",
      "Requirement already satisfied: python-dateutil>=2.7.3 in c:\\users\\gregg\\anaconda3\\envs\\pyvizenv\\lib\\site-packages (from pandas>=0.18->altair) (2.8.2)\n",
      "Requirement already satisfied: pytz>=2017.3 in c:\\users\\gregg\\anaconda3\\envs\\pyvizenv\\lib\\site-packages (from pandas>=0.18->altair) (2021.3)\n",
      "Requirement already satisfied: MarkupSafe>=0.23 in c:\\users\\gregg\\anaconda3\\envs\\pyvizenv\\lib\\site-packages (from jinja2->altair) (1.1.1)\n",
      "Requirement already satisfied: typing-extensions>=3.6.4 in c:\\users\\gregg\\anaconda3\\envs\\pyvizenv\\lib\\site-packages (from importlib-metadata->jsonschema>=3.0->altair) (3.10.0.2)\n",
      "Requirement already satisfied: zipp>=0.5 in c:\\users\\gregg\\anaconda3\\envs\\pyvizenv\\lib\\site-packages (from importlib-metadata->jsonschema>=3.0->altair) (3.7.0)\n"
     ]
    }
   ],
   "source": [
    "!pip install -U altair"
   ]
  },
  {
   "cell_type": "code",
   "execution_count": 103,
   "id": "01bcf418",
   "metadata": {},
   "outputs": [],
   "source": [
    "# Use the following endpoint to fetch json data\n",
    "url = \"https://min-api.cryptocompare.com/data/all/coinlist\""
   ]
  },
  {
   "cell_type": "code",
   "execution_count": 104,
   "id": "0eecccc2",
   "metadata": {},
   "outputs": [
    {
     "name": "stdout",
     "output_type": "stream",
     "text": [
      "(1252, 7)\n"
     ]
    },
    {
     "data": {
      "text/html": [
       "<div>\n",
       "<style scoped>\n",
       "    .dataframe tbody tr th:only-of-type {\n",
       "        vertical-align: middle;\n",
       "    }\n",
       "\n",
       "    .dataframe tbody tr th {\n",
       "        vertical-align: top;\n",
       "    }\n",
       "\n",
       "    .dataframe thead th {\n",
       "        text-align: right;\n",
       "    }\n",
       "</style>\n",
       "<table border=\"1\" class=\"dataframe\">\n",
       "  <thead>\n",
       "    <tr style=\"text-align: right;\">\n",
       "      <th></th>\n",
       "      <th>TotalCoinsMined</th>\n",
       "    </tr>\n",
       "  </thead>\n",
       "  <tbody>\n",
       "    <tr>\n",
       "      <th>count</th>\n",
       "      <td>7.440000e+02</td>\n",
       "    </tr>\n",
       "    <tr>\n",
       "      <th>mean</th>\n",
       "      <td>3.883103e+09</td>\n",
       "    </tr>\n",
       "    <tr>\n",
       "      <th>std</th>\n",
       "      <td>3.867263e+10</td>\n",
       "    </tr>\n",
       "    <tr>\n",
       "      <th>min</th>\n",
       "      <td>-5.917978e+09</td>\n",
       "    </tr>\n",
       "    <tr>\n",
       "      <th>25%</th>\n",
       "      <td>6.322164e+05</td>\n",
       "    </tr>\n",
       "    <tr>\n",
       "      <th>50%</th>\n",
       "      <td>1.340427e+07</td>\n",
       "    </tr>\n",
       "    <tr>\n",
       "      <th>75%</th>\n",
       "      <td>9.399895e+07</td>\n",
       "    </tr>\n",
       "    <tr>\n",
       "      <th>max</th>\n",
       "      <td>9.899887e+11</td>\n",
       "    </tr>\n",
       "  </tbody>\n",
       "</table>\n",
       "</div>"
      ],
      "text/plain": [
       "       TotalCoinsMined\n",
       "count     7.440000e+02\n",
       "mean      3.883103e+09\n",
       "std       3.867263e+10\n",
       "min      -5.917978e+09\n",
       "25%       6.322164e+05\n",
       "50%       1.340427e+07\n",
       "75%       9.399895e+07\n",
       "max       9.899887e+11"
      ]
     },
     "execution_count": 104,
     "metadata": {},
     "output_type": "execute_result"
    }
   ],
   "source": [
    "# Create a DataFrame \n",
    "# HINT: You will need to use the 'Data' key from the json response, then transpose the DataFrame.\n",
    "file_path = Path(\"crypto_data.csv\")\n",
    "crypto_df = pd.read_csv(file_path)\n",
    "print(crypto_df.shape)\n",
    "crypto_df.describe()"
   ]
  },
  {
   "cell_type": "code",
   "execution_count": 105,
   "id": "99187500",
   "metadata": {},
   "outputs": [
    {
     "data": {
      "text/html": [
       "<div>\n",
       "<style scoped>\n",
       "    .dataframe tbody tr th:only-of-type {\n",
       "        vertical-align: middle;\n",
       "    }\n",
       "\n",
       "    .dataframe tbody tr th {\n",
       "        vertical-align: top;\n",
       "    }\n",
       "\n",
       "    .dataframe thead th {\n",
       "        text-align: right;\n",
       "    }\n",
       "</style>\n",
       "<table border=\"1\" class=\"dataframe\">\n",
       "  <thead>\n",
       "    <tr style=\"text-align: right;\">\n",
       "      <th></th>\n",
       "      <th>Unnamed: 0</th>\n",
       "      <th>CoinName</th>\n",
       "      <th>Algorithm</th>\n",
       "      <th>IsTrading</th>\n",
       "      <th>ProofType</th>\n",
       "      <th>TotalCoinsMined</th>\n",
       "      <th>TotalCoinSupply</th>\n",
       "    </tr>\n",
       "  </thead>\n",
       "  <tbody>\n",
       "    <tr>\n",
       "      <th>0</th>\n",
       "      <td>42</td>\n",
       "      <td>42 Coin</td>\n",
       "      <td>Scrypt</td>\n",
       "      <td>True</td>\n",
       "      <td>PoW/PoS</td>\n",
       "      <td>4.199995e+01</td>\n",
       "      <td>42</td>\n",
       "    </tr>\n",
       "    <tr>\n",
       "      <th>1</th>\n",
       "      <td>365</td>\n",
       "      <td>365Coin</td>\n",
       "      <td>X11</td>\n",
       "      <td>True</td>\n",
       "      <td>PoW/PoS</td>\n",
       "      <td>NaN</td>\n",
       "      <td>2300000000</td>\n",
       "    </tr>\n",
       "    <tr>\n",
       "      <th>2</th>\n",
       "      <td>404</td>\n",
       "      <td>404Coin</td>\n",
       "      <td>Scrypt</td>\n",
       "      <td>True</td>\n",
       "      <td>PoW/PoS</td>\n",
       "      <td>1.055185e+09</td>\n",
       "      <td>532000000</td>\n",
       "    </tr>\n",
       "    <tr>\n",
       "      <th>3</th>\n",
       "      <td>611</td>\n",
       "      <td>SixEleven</td>\n",
       "      <td>SHA-256</td>\n",
       "      <td>True</td>\n",
       "      <td>PoW</td>\n",
       "      <td>NaN</td>\n",
       "      <td>611000</td>\n",
       "    </tr>\n",
       "    <tr>\n",
       "      <th>4</th>\n",
       "      <td>808</td>\n",
       "      <td>808</td>\n",
       "      <td>SHA-256</td>\n",
       "      <td>True</td>\n",
       "      <td>PoW/PoS</td>\n",
       "      <td>0.000000e+00</td>\n",
       "      <td>0</td>\n",
       "    </tr>\n",
       "  </tbody>\n",
       "</table>\n",
       "</div>"
      ],
      "text/plain": [
       "  Unnamed: 0   CoinName Algorithm  IsTrading ProofType  TotalCoinsMined  \\\n",
       "0         42    42 Coin    Scrypt       True   PoW/PoS     4.199995e+01   \n",
       "1        365    365Coin       X11       True   PoW/PoS              NaN   \n",
       "2        404    404Coin    Scrypt       True   PoW/PoS     1.055185e+09   \n",
       "3        611  SixEleven   SHA-256       True       PoW              NaN   \n",
       "4        808        808   SHA-256       True   PoW/PoS     0.000000e+00   \n",
       "\n",
       "  TotalCoinSupply  \n",
       "0              42  \n",
       "1      2300000000  \n",
       "2       532000000  \n",
       "3          611000  \n",
       "4               0  "
      ]
     },
     "execution_count": 105,
     "metadata": {},
     "output_type": "execute_result"
    }
   ],
   "source": [
    "crypto_df.head()"
   ]
  },
  {
   "cell_type": "markdown",
   "id": "2d2ac279",
   "metadata": {},
   "source": [
    "Data Preprocessing"
   ]
  },
  {
   "cell_type": "code",
   "execution_count": 106,
   "id": "f673daf8",
   "metadata": {},
   "outputs": [
    {
     "name": "stdout",
     "output_type": "stream",
     "text": [
      "<class 'pandas.core.frame.DataFrame'>\n",
      "Int64Index: 1144 entries, 0 to 1247\n",
      "Data columns (total 7 columns):\n",
      " #   Column           Non-Null Count  Dtype  \n",
      "---  ------           --------------  -----  \n",
      " 0   Unnamed: 0       1144 non-null   object \n",
      " 1   CoinName         1144 non-null   object \n",
      " 2   Algorithm        1144 non-null   object \n",
      " 3   IsTrading        1144 non-null   object \n",
      " 4   ProofType        1144 non-null   object \n",
      " 5   TotalCoinsMined  685 non-null    float64\n",
      " 6   TotalCoinSupply  1144 non-null   object \n",
      "dtypes: float64(1), object(6)\n",
      "memory usage: 71.5+ KB\n"
     ]
    }
   ],
   "source": [
    "# Keep only necessary columns:\n",
    "# 'CoinName','Algorithm','IsTrading','ProofType','TotalCoinsMined','TotalCoinSupply'\n",
    "crypto_df['IsTrading'] = crypto_df['IsTrading'].astype(str)\n",
    "\n",
    "bool_list = ['True']\n",
    "\n",
    "crypto_df = crypto_df[crypto_df.IsTrading.isin(bool_list)]\n",
    "\n",
    "crypto_df.info()"
   ]
  },
  {
   "cell_type": "code",
   "execution_count": 107,
   "id": "15bee0cc",
   "metadata": {},
   "outputs": [
    {
     "name": "stdout",
     "output_type": "stream",
     "text": [
      "Ticker\n",
      "CoinName\n",
      "Algorithm\n",
      "IsTrading\n",
      "ProofType\n",
      "TotalCoinsMined\n",
      "TotalCoinSupply\n"
     ]
    }
   ],
   "source": [
    "crypto_df.rename(columns = {'Unnamed: 0':'Ticker'}, inplace = True)\n",
    "for col in crypto_df.columns:\n",
    "    print(col)"
   ]
  },
  {
   "cell_type": "code",
   "execution_count": 108,
   "id": "0d69dd75",
   "metadata": {},
   "outputs": [
    {
     "data": {
      "text/html": [
       "<div>\n",
       "<style scoped>\n",
       "    .dataframe tbody tr th:only-of-type {\n",
       "        vertical-align: middle;\n",
       "    }\n",
       "\n",
       "    .dataframe tbody tr th {\n",
       "        vertical-align: top;\n",
       "    }\n",
       "\n",
       "    .dataframe thead th {\n",
       "        text-align: right;\n",
       "    }\n",
       "</style>\n",
       "<table border=\"1\" class=\"dataframe\">\n",
       "  <thead>\n",
       "    <tr style=\"text-align: right;\">\n",
       "      <th></th>\n",
       "      <th>CoinName</th>\n",
       "      <th>Algorithm</th>\n",
       "      <th>IsTrading</th>\n",
       "      <th>ProofType</th>\n",
       "      <th>TotalCoinsMined</th>\n",
       "      <th>TotalCoinSupply</th>\n",
       "    </tr>\n",
       "    <tr>\n",
       "      <th>Ticker</th>\n",
       "      <th></th>\n",
       "      <th></th>\n",
       "      <th></th>\n",
       "      <th></th>\n",
       "      <th></th>\n",
       "      <th></th>\n",
       "    </tr>\n",
       "  </thead>\n",
       "  <tbody>\n",
       "    <tr>\n",
       "      <th>42</th>\n",
       "      <td>42 Coin</td>\n",
       "      <td>Scrypt</td>\n",
       "      <td>True</td>\n",
       "      <td>PoW/PoS</td>\n",
       "      <td>4.199995e+01</td>\n",
       "      <td>42</td>\n",
       "    </tr>\n",
       "    <tr>\n",
       "      <th>365</th>\n",
       "      <td>365Coin</td>\n",
       "      <td>X11</td>\n",
       "      <td>True</td>\n",
       "      <td>PoW/PoS</td>\n",
       "      <td>NaN</td>\n",
       "      <td>2300000000</td>\n",
       "    </tr>\n",
       "    <tr>\n",
       "      <th>404</th>\n",
       "      <td>404Coin</td>\n",
       "      <td>Scrypt</td>\n",
       "      <td>True</td>\n",
       "      <td>PoW/PoS</td>\n",
       "      <td>1.055185e+09</td>\n",
       "      <td>532000000</td>\n",
       "    </tr>\n",
       "    <tr>\n",
       "      <th>611</th>\n",
       "      <td>SixEleven</td>\n",
       "      <td>SHA-256</td>\n",
       "      <td>True</td>\n",
       "      <td>PoW</td>\n",
       "      <td>NaN</td>\n",
       "      <td>611000</td>\n",
       "    </tr>\n",
       "    <tr>\n",
       "      <th>808</th>\n",
       "      <td>808</td>\n",
       "      <td>SHA-256</td>\n",
       "      <td>True</td>\n",
       "      <td>PoW/PoS</td>\n",
       "      <td>0.000000e+00</td>\n",
       "      <td>0</td>\n",
       "    </tr>\n",
       "  </tbody>\n",
       "</table>\n",
       "</div>"
      ],
      "text/plain": [
       "         CoinName Algorithm IsTrading ProofType  TotalCoinsMined  \\\n",
       "Ticker                                                             \n",
       "42        42 Coin    Scrypt      True   PoW/PoS     4.199995e+01   \n",
       "365       365Coin       X11      True   PoW/PoS              NaN   \n",
       "404       404Coin    Scrypt      True   PoW/PoS     1.055185e+09   \n",
       "611     SixEleven   SHA-256      True       PoW              NaN   \n",
       "808           808   SHA-256      True   PoW/PoS     0.000000e+00   \n",
       "\n",
       "       TotalCoinSupply  \n",
       "Ticker                  \n",
       "42                  42  \n",
       "365         2300000000  \n",
       "404          532000000  \n",
       "611             611000  \n",
       "808                  0  "
      ]
     },
     "execution_count": 108,
     "metadata": {},
     "output_type": "execute_result"
    }
   ],
   "source": [
    "crypto_df.set_index(\"Ticker\", inplace=True)\n",
    "crypto_df.head()"
   ]
  },
  {
   "cell_type": "code",
   "execution_count": 109,
   "id": "733d8aab",
   "metadata": {},
   "outputs": [
    {
     "data": {
      "text/plain": [
       "2835204541736.835"
      ]
     },
     "execution_count": 109,
     "metadata": {},
     "output_type": "execute_result"
    }
   ],
   "source": [
    "# Keep only cryptocurrencies that are trading\n",
    "non_trading = crypto_df[crypto_df[\"IsTrading\"] == False].index\n",
    "crypto_df.drop(non_trading , inplace=True)\n",
    "\n",
    "crypto_df['TotalCoinsMined'].sum()"
   ]
  },
  {
   "cell_type": "code",
   "execution_count": 110,
   "id": "6898a96f",
   "metadata": {},
   "outputs": [],
   "source": [
    "# Keep only cryptocurrencies with a working algorithm\n",
    "crypto_df= crypto_df[crypto_df['Algorithm']!= 'N/A']"
   ]
  },
  {
   "cell_type": "code",
   "execution_count": 111,
   "id": "5b225abf",
   "metadata": {},
   "outputs": [
    {
     "data": {
      "text/html": [
       "<div>\n",
       "<style scoped>\n",
       "    .dataframe tbody tr th:only-of-type {\n",
       "        vertical-align: middle;\n",
       "    }\n",
       "\n",
       "    .dataframe tbody tr th {\n",
       "        vertical-align: top;\n",
       "    }\n",
       "\n",
       "    .dataframe thead th {\n",
       "        text-align: right;\n",
       "    }\n",
       "</style>\n",
       "<table border=\"1\" class=\"dataframe\">\n",
       "  <thead>\n",
       "    <tr style=\"text-align: right;\">\n",
       "      <th></th>\n",
       "      <th>CoinName</th>\n",
       "      <th>Algorithm</th>\n",
       "      <th>ProofType</th>\n",
       "      <th>TotalCoinsMined</th>\n",
       "      <th>TotalCoinSupply</th>\n",
       "    </tr>\n",
       "    <tr>\n",
       "      <th>Ticker</th>\n",
       "      <th></th>\n",
       "      <th></th>\n",
       "      <th></th>\n",
       "      <th></th>\n",
       "      <th></th>\n",
       "    </tr>\n",
       "  </thead>\n",
       "  <tbody>\n",
       "    <tr>\n",
       "      <th>42</th>\n",
       "      <td>42 Coin</td>\n",
       "      <td>Scrypt</td>\n",
       "      <td>PoW/PoS</td>\n",
       "      <td>4.199995e+01</td>\n",
       "      <td>42</td>\n",
       "    </tr>\n",
       "    <tr>\n",
       "      <th>365</th>\n",
       "      <td>365Coin</td>\n",
       "      <td>X11</td>\n",
       "      <td>PoW/PoS</td>\n",
       "      <td>NaN</td>\n",
       "      <td>2300000000</td>\n",
       "    </tr>\n",
       "    <tr>\n",
       "      <th>404</th>\n",
       "      <td>404Coin</td>\n",
       "      <td>Scrypt</td>\n",
       "      <td>PoW/PoS</td>\n",
       "      <td>1.055185e+09</td>\n",
       "      <td>532000000</td>\n",
       "    </tr>\n",
       "    <tr>\n",
       "      <th>611</th>\n",
       "      <td>SixEleven</td>\n",
       "      <td>SHA-256</td>\n",
       "      <td>PoW</td>\n",
       "      <td>NaN</td>\n",
       "      <td>611000</td>\n",
       "    </tr>\n",
       "    <tr>\n",
       "      <th>808</th>\n",
       "      <td>808</td>\n",
       "      <td>SHA-256</td>\n",
       "      <td>PoW/PoS</td>\n",
       "      <td>0.000000e+00</td>\n",
       "      <td>0</td>\n",
       "    </tr>\n",
       "  </tbody>\n",
       "</table>\n",
       "</div>"
      ],
      "text/plain": [
       "         CoinName Algorithm ProofType  TotalCoinsMined TotalCoinSupply\n",
       "Ticker                                                                \n",
       "42        42 Coin    Scrypt   PoW/PoS     4.199995e+01              42\n",
       "365       365Coin       X11   PoW/PoS              NaN      2300000000\n",
       "404       404Coin    Scrypt   PoW/PoS     1.055185e+09       532000000\n",
       "611     SixEleven   SHA-256       PoW              NaN          611000\n",
       "808           808   SHA-256   PoW/PoS     0.000000e+00               0"
      ]
     },
     "execution_count": 111,
     "metadata": {},
     "output_type": "execute_result"
    }
   ],
   "source": [
    "# Remove the \"IsTrading\" column\n",
    "#df.drop(columns=['IsTrading'],inplace=True)\n",
    "\n",
    "# crypto_df.iloc[:,:].isnull().sum()\n",
    "\n",
    "# df.replace('0',' ')\n",
    "\n",
    "# df.TotalCoinsMined.dropna()\n",
    "crypto_df.drop(columns=['IsTrading'], inplace=True)\n",
    "crypto_df.head()"
   ]
  },
  {
   "cell_type": "code",
   "execution_count": 112,
   "id": "54b3d54e",
   "metadata": {},
   "outputs": [
    {
     "name": "stdout",
     "output_type": "stream",
     "text": [
      "<class 'pandas.core.frame.DataFrame'>\n",
      "Index: 1144 entries, 42 to XBC\n",
      "Data columns (total 5 columns):\n",
      " #   Column           Non-Null Count  Dtype  \n",
      "---  ------           --------------  -----  \n",
      " 0   CoinName         1144 non-null   object \n",
      " 1   Algorithm        1144 non-null   object \n",
      " 2   ProofType        1144 non-null   object \n",
      " 3   TotalCoinsMined  685 non-null    float64\n",
      " 4   TotalCoinSupply  1144 non-null   object \n",
      "dtypes: float64(1), object(4)\n",
      "memory usage: 53.6+ KB\n"
     ]
    }
   ],
   "source": [
    "crypto_df.info()"
   ]
  },
  {
   "cell_type": "code",
   "execution_count": 113,
   "id": "48e8ceda",
   "metadata": {},
   "outputs": [],
   "source": [
    "# Remove rows with at least 1 null value\n",
    "crypto_df = crypto_df.dropna()"
   ]
  },
  {
   "cell_type": "code",
   "execution_count": 114,
   "id": "a7e0979d",
   "metadata": {},
   "outputs": [],
   "source": [
    "# Remove rows with cryptocurrencies having no coins mined\n",
    "rypto_df= crypto_df[crypto_df[\"TotalCoinsMined\"]>0]"
   ]
  },
  {
   "cell_type": "code",
   "execution_count": 115,
   "id": "d7a07f40",
   "metadata": {},
   "outputs": [],
   "source": [
    "# Drop rows where there are 'N/A' text values\n",
    "crypto_df= crypto_df[crypto_df!='N/A']"
   ]
  },
  {
   "cell_type": "code",
   "execution_count": 116,
   "id": "4c3bab95",
   "metadata": {},
   "outputs": [
    {
     "data": {
      "text/html": [
       "<div>\n",
       "<style scoped>\n",
       "    .dataframe tbody tr th:only-of-type {\n",
       "        vertical-align: middle;\n",
       "    }\n",
       "\n",
       "    .dataframe tbody tr th {\n",
       "        vertical-align: top;\n",
       "    }\n",
       "\n",
       "    .dataframe thead th {\n",
       "        text-align: right;\n",
       "    }\n",
       "</style>\n",
       "<table border=\"1\" class=\"dataframe\">\n",
       "  <thead>\n",
       "    <tr style=\"text-align: right;\">\n",
       "      <th></th>\n",
       "      <th>CoinName</th>\n",
       "    </tr>\n",
       "    <tr>\n",
       "      <th>Ticker</th>\n",
       "      <th></th>\n",
       "    </tr>\n",
       "  </thead>\n",
       "  <tbody>\n",
       "    <tr>\n",
       "      <th>42</th>\n",
       "      <td>42 Coin</td>\n",
       "    </tr>\n",
       "    <tr>\n",
       "      <th>404</th>\n",
       "      <td>404Coin</td>\n",
       "    </tr>\n",
       "    <tr>\n",
       "      <th>808</th>\n",
       "      <td>808</td>\n",
       "    </tr>\n",
       "    <tr>\n",
       "      <th>1337</th>\n",
       "      <td>EliteCoin</td>\n",
       "    </tr>\n",
       "    <tr>\n",
       "      <th>BTC</th>\n",
       "      <td>Bitcoin</td>\n",
       "    </tr>\n",
       "    <tr>\n",
       "      <th>...</th>\n",
       "      <td>...</td>\n",
       "    </tr>\n",
       "    <tr>\n",
       "      <th>ZEPH</th>\n",
       "      <td>ZEPHYR</td>\n",
       "    </tr>\n",
       "    <tr>\n",
       "      <th>GAP</th>\n",
       "      <td>Gapcoin</td>\n",
       "    </tr>\n",
       "    <tr>\n",
       "      <th>BDX</th>\n",
       "      <td>Beldex</td>\n",
       "    </tr>\n",
       "    <tr>\n",
       "      <th>ZEN</th>\n",
       "      <td>Horizen</td>\n",
       "    </tr>\n",
       "    <tr>\n",
       "      <th>XBC</th>\n",
       "      <td>BitcoinPlus</td>\n",
       "    </tr>\n",
       "  </tbody>\n",
       "</table>\n",
       "<p>685 rows × 1 columns</p>\n",
       "</div>"
      ],
      "text/plain": [
       "           CoinName\n",
       "Ticker             \n",
       "42          42 Coin\n",
       "404         404Coin\n",
       "808             808\n",
       "1337      EliteCoin\n",
       "BTC         Bitcoin\n",
       "...             ...\n",
       "ZEPH         ZEPHYR\n",
       "GAP         Gapcoin\n",
       "BDX          Beldex\n",
       "ZEN         Horizen\n",
       "XBC     BitcoinPlus\n",
       "\n",
       "[685 rows x 1 columns]"
      ]
     },
     "execution_count": 116,
     "metadata": {},
     "output_type": "execute_result"
    }
   ],
   "source": [
    "# Store the 'CoinName'column in its own DataFrame prior to dropping it from crypto_df\n",
    "coins_name = pd.DataFrame(crypto_df['CoinName'])\n",
    "\n",
    "coins_name\n",
    "# y = coins_name['CoinName']\n",
    "\n",
    "# y.head()"
   ]
  },
  {
   "cell_type": "code",
   "execution_count": 117,
   "id": "b8768007",
   "metadata": {},
   "outputs": [
    {
     "data": {
      "text/plain": [
       "Ticker\n",
       "42        42 Coin\n",
       "404       404Coin\n",
       "808           808\n",
       "1337    EliteCoin\n",
       "BTC       Bitcoin\n",
       "Name: CoinName, dtype: object"
      ]
     },
     "execution_count": 117,
     "metadata": {},
     "output_type": "execute_result"
    }
   ],
   "source": [
    "y = coins_name['CoinName']\n",
    "y.head()"
   ]
  },
  {
   "cell_type": "code",
   "execution_count": 118,
   "id": "0e2b1dc7",
   "metadata": {},
   "outputs": [],
   "source": [
    "# Drop the 'CoinName' column since it's not going to be used on the clustering algorithm\n",
    "from sklearn.preprocessing import OneHotEncoder, StandardScaler\n",
    "crypto_df.drop(columns='CoinName', inplace=True)"
   ]
  },
  {
   "cell_type": "code",
   "execution_count": 119,
   "id": "e788c7d7",
   "metadata": {},
   "outputs": [
    {
     "data": {
      "text/html": [
       "<div>\n",
       "<style scoped>\n",
       "    .dataframe tbody tr th:only-of-type {\n",
       "        vertical-align: middle;\n",
       "    }\n",
       "\n",
       "    .dataframe tbody tr th {\n",
       "        vertical-align: top;\n",
       "    }\n",
       "\n",
       "    .dataframe thead th {\n",
       "        text-align: right;\n",
       "    }\n",
       "</style>\n",
       "<table border=\"1\" class=\"dataframe\">\n",
       "  <thead>\n",
       "    <tr style=\"text-align: right;\">\n",
       "      <th></th>\n",
       "      <th>TotalCoinsMined</th>\n",
       "      <th>TotalCoinSupply</th>\n",
       "      <th>Algorithm_1GB AES Pattern Search</th>\n",
       "      <th>Algorithm_536</th>\n",
       "      <th>Algorithm_Argon2</th>\n",
       "      <th>Algorithm_Argon2d</th>\n",
       "      <th>Algorithm_BLAKE256</th>\n",
       "      <th>Algorithm_Blake</th>\n",
       "      <th>Algorithm_Blake2S</th>\n",
       "      <th>Algorithm_Blake2b</th>\n",
       "      <th>...</th>\n",
       "      <th>ProofType_PoW/PoS</th>\n",
       "      <th>ProofType_PoW/PoS</th>\n",
       "      <th>ProofType_PoW/PoW</th>\n",
       "      <th>ProofType_PoW/nPoS</th>\n",
       "      <th>ProofType_Pos</th>\n",
       "      <th>ProofType_Proof of Authority</th>\n",
       "      <th>ProofType_Proof of Trust</th>\n",
       "      <th>ProofType_TPoS</th>\n",
       "      <th>ProofType_Zero-Knowledge Proof</th>\n",
       "      <th>ProofType_dPoW/PoW</th>\n",
       "    </tr>\n",
       "    <tr>\n",
       "      <th>Ticker</th>\n",
       "      <th></th>\n",
       "      <th></th>\n",
       "      <th></th>\n",
       "      <th></th>\n",
       "      <th></th>\n",
       "      <th></th>\n",
       "      <th></th>\n",
       "      <th></th>\n",
       "      <th></th>\n",
       "      <th></th>\n",
       "      <th></th>\n",
       "      <th></th>\n",
       "      <th></th>\n",
       "      <th></th>\n",
       "      <th></th>\n",
       "      <th></th>\n",
       "      <th></th>\n",
       "      <th></th>\n",
       "      <th></th>\n",
       "      <th></th>\n",
       "      <th></th>\n",
       "    </tr>\n",
       "  </thead>\n",
       "  <tbody>\n",
       "    <tr>\n",
       "      <th>42</th>\n",
       "      <td>4.199995e+01</td>\n",
       "      <td>42</td>\n",
       "      <td>0</td>\n",
       "      <td>0</td>\n",
       "      <td>0</td>\n",
       "      <td>0</td>\n",
       "      <td>0</td>\n",
       "      <td>0</td>\n",
       "      <td>0</td>\n",
       "      <td>0</td>\n",
       "      <td>...</td>\n",
       "      <td>1</td>\n",
       "      <td>0</td>\n",
       "      <td>0</td>\n",
       "      <td>0</td>\n",
       "      <td>0</td>\n",
       "      <td>0</td>\n",
       "      <td>0</td>\n",
       "      <td>0</td>\n",
       "      <td>0</td>\n",
       "      <td>0</td>\n",
       "    </tr>\n",
       "    <tr>\n",
       "      <th>404</th>\n",
       "      <td>1.055185e+09</td>\n",
       "      <td>532000000</td>\n",
       "      <td>0</td>\n",
       "      <td>0</td>\n",
       "      <td>0</td>\n",
       "      <td>0</td>\n",
       "      <td>0</td>\n",
       "      <td>0</td>\n",
       "      <td>0</td>\n",
       "      <td>0</td>\n",
       "      <td>...</td>\n",
       "      <td>1</td>\n",
       "      <td>0</td>\n",
       "      <td>0</td>\n",
       "      <td>0</td>\n",
       "      <td>0</td>\n",
       "      <td>0</td>\n",
       "      <td>0</td>\n",
       "      <td>0</td>\n",
       "      <td>0</td>\n",
       "      <td>0</td>\n",
       "    </tr>\n",
       "    <tr>\n",
       "      <th>808</th>\n",
       "      <td>0.000000e+00</td>\n",
       "      <td>0</td>\n",
       "      <td>0</td>\n",
       "      <td>0</td>\n",
       "      <td>0</td>\n",
       "      <td>0</td>\n",
       "      <td>0</td>\n",
       "      <td>0</td>\n",
       "      <td>0</td>\n",
       "      <td>0</td>\n",
       "      <td>...</td>\n",
       "      <td>1</td>\n",
       "      <td>0</td>\n",
       "      <td>0</td>\n",
       "      <td>0</td>\n",
       "      <td>0</td>\n",
       "      <td>0</td>\n",
       "      <td>0</td>\n",
       "      <td>0</td>\n",
       "      <td>0</td>\n",
       "      <td>0</td>\n",
       "    </tr>\n",
       "    <tr>\n",
       "      <th>1337</th>\n",
       "      <td>2.927942e+10</td>\n",
       "      <td>314159265359</td>\n",
       "      <td>0</td>\n",
       "      <td>0</td>\n",
       "      <td>0</td>\n",
       "      <td>0</td>\n",
       "      <td>0</td>\n",
       "      <td>0</td>\n",
       "      <td>0</td>\n",
       "      <td>0</td>\n",
       "      <td>...</td>\n",
       "      <td>1</td>\n",
       "      <td>0</td>\n",
       "      <td>0</td>\n",
       "      <td>0</td>\n",
       "      <td>0</td>\n",
       "      <td>0</td>\n",
       "      <td>0</td>\n",
       "      <td>0</td>\n",
       "      <td>0</td>\n",
       "      <td>0</td>\n",
       "    </tr>\n",
       "    <tr>\n",
       "      <th>BTC</th>\n",
       "      <td>1.792718e+07</td>\n",
       "      <td>21000000</td>\n",
       "      <td>0</td>\n",
       "      <td>0</td>\n",
       "      <td>0</td>\n",
       "      <td>0</td>\n",
       "      <td>0</td>\n",
       "      <td>0</td>\n",
       "      <td>0</td>\n",
       "      <td>0</td>\n",
       "      <td>...</td>\n",
       "      <td>0</td>\n",
       "      <td>0</td>\n",
       "      <td>0</td>\n",
       "      <td>0</td>\n",
       "      <td>0</td>\n",
       "      <td>0</td>\n",
       "      <td>0</td>\n",
       "      <td>0</td>\n",
       "      <td>0</td>\n",
       "      <td>0</td>\n",
       "    </tr>\n",
       "  </tbody>\n",
       "</table>\n",
       "<p>5 rows × 109 columns</p>\n",
       "</div>"
      ],
      "text/plain": [
       "        TotalCoinsMined TotalCoinSupply  Algorithm_1GB AES Pattern Search  \\\n",
       "Ticker                                                                      \n",
       "42         4.199995e+01              42                                 0   \n",
       "404        1.055185e+09       532000000                                 0   \n",
       "808        0.000000e+00               0                                 0   \n",
       "1337       2.927942e+10    314159265359                                 0   \n",
       "BTC        1.792718e+07        21000000                                 0   \n",
       "\n",
       "        Algorithm_536  Algorithm_Argon2  Algorithm_Argon2d  \\\n",
       "Ticker                                                       \n",
       "42                  0                 0                  0   \n",
       "404                 0                 0                  0   \n",
       "808                 0                 0                  0   \n",
       "1337                0                 0                  0   \n",
       "BTC                 0                 0                  0   \n",
       "\n",
       "        Algorithm_BLAKE256  Algorithm_Blake  Algorithm_Blake2S  \\\n",
       "Ticker                                                           \n",
       "42                       0                0                  0   \n",
       "404                      0                0                  0   \n",
       "808                      0                0                  0   \n",
       "1337                     0                0                  0   \n",
       "BTC                      0                0                  0   \n",
       "\n",
       "        Algorithm_Blake2b  ...  ProofType_PoW/PoS  ProofType_PoW/PoS   \\\n",
       "Ticker                     ...                                          \n",
       "42                      0  ...                  1                   0   \n",
       "404                     0  ...                  1                   0   \n",
       "808                     0  ...                  1                   0   \n",
       "1337                    0  ...                  1                   0   \n",
       "BTC                     0  ...                  0                   0   \n",
       "\n",
       "        ProofType_PoW/PoW  ProofType_PoW/nPoS  ProofType_Pos  \\\n",
       "Ticker                                                         \n",
       "42                      0                   0              0   \n",
       "404                     0                   0              0   \n",
       "808                     0                   0              0   \n",
       "1337                    0                   0              0   \n",
       "BTC                     0                   0              0   \n",
       "\n",
       "        ProofType_Proof of Authority  ProofType_Proof of Trust  \\\n",
       "Ticker                                                           \n",
       "42                                 0                         0   \n",
       "404                                0                         0   \n",
       "808                                0                         0   \n",
       "1337                               0                         0   \n",
       "BTC                                0                         0   \n",
       "\n",
       "        ProofType_TPoS  ProofType_Zero-Knowledge Proof  ProofType_dPoW/PoW  \n",
       "Ticker                                                                      \n",
       "42                   0                               0                   0  \n",
       "404                  0                               0                   0  \n",
       "808                  0                               0                   0  \n",
       "1337                 0                               0                   0  \n",
       "BTC                  0                               0                   0  \n",
       "\n",
       "[5 rows x 109 columns]"
      ]
     },
     "execution_count": 119,
     "metadata": {},
     "output_type": "execute_result"
    }
   ],
   "source": [
    "# Create dummy variables for text features\n",
    "crypto_dummies= pd.get_dummies(crypto_df, columns=['Algorithm', 'ProofType'])\n",
    "crypto_dummies.head()"
   ]
  },
  {
   "cell_type": "code",
   "execution_count": 120,
   "id": "f5416321",
   "metadata": {},
   "outputs": [
    {
     "data": {
      "text/plain": [
       "array([[-0.10282804, -0.03823841, -0.03823596, ..., -0.03823596,\n",
       "        -0.03823596, -0.03823596],\n",
       "       [-0.07661326, -0.03823825, -0.03823596, ..., -0.03823596,\n",
       "        -0.03823596, -0.03823596],\n",
       "       [-0.10282804, -0.03823841, -0.03823596, ..., -0.03823596,\n",
       "        -0.03823596, -0.03823596],\n",
       "       ...,\n",
       "       [-0.0784756 , -0.03823801, -0.03823596, ..., -0.03823596,\n",
       "        -0.03823596, -0.03823596],\n",
       "       [-0.10264677, -0.0382384 , -0.03823596, ..., -0.03823596,\n",
       "        -0.03823596, -0.03823596],\n",
       "       [-0.10282485, -0.03823841, -0.03823596, ..., -0.03823596,\n",
       "        -0.03823596, -0.03823596]])"
      ]
     },
     "execution_count": 120,
     "metadata": {},
     "output_type": "execute_result"
    }
   ],
   "source": [
    "# Standardize data\n",
    "crypto_scaled= StandardScaler().fit_transform(crypto_dummies)\n",
    "crypto_scaled"
   ]
  },
  {
   "cell_type": "markdown",
   "id": "630e2a45",
   "metadata": {},
   "source": [
    "Reducing Dimensions Using PCA"
   ]
  },
  {
   "cell_type": "code",
   "execution_count": 121,
   "id": "87b69de8",
   "metadata": {},
   "outputs": [],
   "source": [
    "# Use PCA to reduce dimensions to 3 principal components\n",
    "pca = PCA(n_components=3)\n",
    "crypto_pca = pca.fit_transform(crypto_scaled)"
   ]
  },
  {
   "cell_type": "code",
   "execution_count": 122,
   "id": "cbba3b8d",
   "metadata": {},
   "outputs": [
    {
     "data": {
      "text/html": [
       "<div>\n",
       "<style scoped>\n",
       "    .dataframe tbody tr th:only-of-type {\n",
       "        vertical-align: middle;\n",
       "    }\n",
       "\n",
       "    .dataframe tbody tr th {\n",
       "        vertical-align: top;\n",
       "    }\n",
       "\n",
       "    .dataframe thead th {\n",
       "        text-align: right;\n",
       "    }\n",
       "</style>\n",
       "<table border=\"1\" class=\"dataframe\">\n",
       "  <thead>\n",
       "    <tr style=\"text-align: right;\">\n",
       "      <th></th>\n",
       "      <th>PC 1</th>\n",
       "      <th>PC 2</th>\n",
       "      <th>PC 3</th>\n",
       "    </tr>\n",
       "  </thead>\n",
       "  <tbody>\n",
       "    <tr>\n",
       "      <th>0</th>\n",
       "      <td>-0.311909</td>\n",
       "      <td>1.223115</td>\n",
       "      <td>-0.395829</td>\n",
       "    </tr>\n",
       "    <tr>\n",
       "      <th>1</th>\n",
       "      <td>-0.298060</td>\n",
       "      <td>1.221307</td>\n",
       "      <td>-0.396157</td>\n",
       "    </tr>\n",
       "    <tr>\n",
       "      <th>2</th>\n",
       "      <td>-0.140324</td>\n",
       "      <td>0.793454</td>\n",
       "      <td>-0.275268</td>\n",
       "    </tr>\n",
       "    <tr>\n",
       "      <th>3</th>\n",
       "      <td>0.287620</td>\n",
       "      <td>1.871280</td>\n",
       "      <td>-0.456194</td>\n",
       "    </tr>\n",
       "    <tr>\n",
       "      <th>4</th>\n",
       "      <td>-0.161219</td>\n",
       "      <td>-1.456436</td>\n",
       "      <td>0.085173</td>\n",
       "    </tr>\n",
       "  </tbody>\n",
       "</table>\n",
       "</div>"
      ],
      "text/plain": [
       "       PC 1      PC 2      PC 3\n",
       "0 -0.311909  1.223115 -0.395829\n",
       "1 -0.298060  1.221307 -0.396157\n",
       "2 -0.140324  0.793454 -0.275268\n",
       "3  0.287620  1.871280 -0.456194\n",
       "4 -0.161219 -1.456436  0.085173"
      ]
     },
     "execution_count": 122,
     "metadata": {},
     "output_type": "execute_result"
    }
   ],
   "source": [
    "# Create a DataFrame with the principal components data\n",
    "pca_df = pd.DataFrame(\n",
    "         data=crypto_pca, columns=[\"PC 1\", \"PC 2\", \"PC 3\"]\n",
    ")\n",
    "pca_df.head()"
   ]
  },
  {
   "cell_type": "markdown",
   "id": "e6ad1b46",
   "metadata": {},
   "source": [
    "Clustering Crytocurrencies Using K-Means\n",
    "Find the Best Value for k Using the Elbow Curve"
   ]
  },
  {
   "cell_type": "code",
   "execution_count": 123,
   "id": "29b996a8",
   "metadata": {},
   "outputs": [
    {
     "name": "stderr",
     "output_type": "stream",
     "text": [
      "C:\\Users\\gregg\\Anaconda3\\envs\\pyvizenv\\lib\\site-packages\\sklearn\\cluster\\_kmeans.py:1037: UserWarning:\n",
      "\n",
      "KMeans is known to have a memory leak on Windows with MKL, when there are less chunks than available threads. You can avoid it by setting the environment variable OMP_NUM_THREADS=3.\n",
      "\n"
     ]
    },
    {
     "data": {},
     "metadata": {},
     "output_type": "display_data"
    },
    {
     "data": {
      "application/vnd.holoviews_exec.v0+json": "",
      "text/html": [
       "<div id='1515'>\n",
       "\n",
       "\n",
       "\n",
       "\n",
       "\n",
       "  <div class=\"bk-root\" id=\"fc3c46de-d8c0-476f-b9e8-3c267c129ef4\" data-root-id=\"1515\"></div>\n",
       "</div>\n",
       "<script type=\"application/javascript\">(function(root) {\n",
       "  function embed_document(root) {\n",
       "    var docs_json = {\"83116afb-bbf1-4d3c-afee-cf935f036afa\":{\"defs\":[{\"extends\":null,\"module\":null,\"name\":\"ReactiveHTML1\",\"overrides\":[],\"properties\":[]},{\"extends\":null,\"module\":null,\"name\":\"FlexBox1\",\"overrides\":[],\"properties\":[{\"default\":\"flex-start\",\"kind\":null,\"name\":\"align_content\"},{\"default\":\"flex-start\",\"kind\":null,\"name\":\"align_items\"},{\"default\":\"row\",\"kind\":null,\"name\":\"flex_direction\"},{\"default\":\"wrap\",\"kind\":null,\"name\":\"flex_wrap\"},{\"default\":\"flex-start\",\"kind\":null,\"name\":\"justify_content\"}]},{\"extends\":null,\"module\":null,\"name\":\"TemplateActions1\",\"overrides\":[],\"properties\":[{\"default\":0,\"kind\":null,\"name\":\"open_modal\"},{\"default\":0,\"kind\":null,\"name\":\"close_modal\"}]},{\"extends\":null,\"module\":null,\"name\":\"MaterialTemplateActions1\",\"overrides\":[],\"properties\":[{\"default\":0,\"kind\":null,\"name\":\"open_modal\"},{\"default\":0,\"kind\":null,\"name\":\"close_modal\"}]}],\"roots\":{\"references\":[{\"attributes\":{},\"id\":\"1574\",\"type\":\"UnionRenderers\"},{\"attributes\":{\"axis\":{\"id\":\"1529\"},\"coordinates\":null,\"grid_line_color\":null,\"group\":null,\"ticker\":null},\"id\":\"1532\",\"type\":\"Grid\"},{\"attributes\":{\"axis_label\":\"inertia\",\"coordinates\":null,\"formatter\":{\"id\":\"1566\"},\"group\":null,\"major_label_policy\":{\"id\":\"1567\"},\"ticker\":{\"id\":\"1534\"}},\"id\":\"1533\",\"type\":\"LinearAxis\"},{\"attributes\":{\"children\":[{\"id\":\"1516\"},{\"id\":\"1520\"},{\"id\":\"1586\"}],\"margin\":[0,0,0,0],\"name\":\"Row02488\",\"tags\":[\"embedded\"]},\"id\":\"1515\",\"type\":\"Row\"},{\"attributes\":{},\"id\":\"1534\",\"type\":\"BasicTicker\"},{\"attributes\":{},\"id\":\"1525\",\"type\":\"LinearScale\"},{\"attributes\":{},\"id\":\"1567\",\"type\":\"AllLabels\"},{\"attributes\":{},\"id\":\"1562\",\"type\":\"AllLabels\"},{\"attributes\":{},\"id\":\"1561\",\"type\":\"BasicTickFormatter\"},{\"attributes\":{\"axis\":{\"id\":\"1533\"},\"coordinates\":null,\"dimension\":1,\"grid_line_color\":null,\"group\":null,\"ticker\":null},\"id\":\"1536\",\"type\":\"Grid\"},{\"attributes\":{\"margin\":[5,5,5,5],\"name\":\"HSpacer02492\",\"sizing_mode\":\"stretch_width\"},\"id\":\"1516\",\"type\":\"Spacer\"},{\"attributes\":{\"end\":10.0,\"reset_end\":10.0,\"reset_start\":1.0,\"start\":1.0,\"tags\":[[[\"k\",\"k\",null]]]},\"id\":\"1517\",\"type\":\"Range1d\"},{\"attributes\":{\"line_color\":\"#30a2da\",\"line_width\":2,\"x\":{\"field\":\"k\"},\"y\":{\"field\":\"inertia\"}},\"id\":\"1558\",\"type\":\"Line\"},{\"attributes\":{\"axis_label\":\"k\",\"coordinates\":null,\"formatter\":{\"id\":\"1561\"},\"group\":null,\"major_label_policy\":{\"id\":\"1562\"},\"ticker\":{\"id\":\"1559\"}},\"id\":\"1529\",\"type\":\"LinearAxis\"},{\"attributes\":{\"coordinates\":null,\"data_source\":{\"id\":\"1550\"},\"glyph\":{\"id\":\"1553\"},\"group\":null,\"hover_glyph\":null,\"muted_glyph\":{\"id\":\"1555\"},\"nonselection_glyph\":{\"id\":\"1554\"},\"selection_glyph\":{\"id\":\"1558\"},\"view\":{\"id\":\"1557\"}},\"id\":\"1556\",\"type\":\"GlyphRenderer\"},{\"attributes\":{\"source\":{\"id\":\"1550\"}},\"id\":\"1557\",\"type\":\"CDSView\"},{\"attributes\":{\"tools\":[{\"id\":\"1519\"},{\"id\":\"1537\"},{\"id\":\"1538\"},{\"id\":\"1539\"},{\"id\":\"1540\"},{\"id\":\"1541\"}]},\"id\":\"1543\",\"type\":\"Toolbar\"},{\"attributes\":{\"line_color\":\"#30a2da\",\"line_width\":2,\"x\":{\"field\":\"k\"},\"y\":{\"field\":\"inertia\"}},\"id\":\"1553\",\"type\":\"Line\"},{\"attributes\":{\"bottom_units\":\"screen\",\"coordinates\":null,\"fill_alpha\":0.5,\"fill_color\":\"lightgrey\",\"group\":null,\"left_units\":\"screen\",\"level\":\"overlay\",\"line_alpha\":1.0,\"line_color\":\"black\",\"line_dash\":[4,4],\"line_width\":2,\"right_units\":\"screen\",\"syncable\":false,\"top_units\":\"screen\"},\"id\":\"1542\",\"type\":\"BoxAnnotation\"},{\"attributes\":{\"line_alpha\":0.2,\"line_color\":\"#30a2da\",\"line_width\":2,\"x\":{\"field\":\"k\"},\"y\":{\"field\":\"inertia\"}},\"id\":\"1555\",\"type\":\"Line\"},{\"attributes\":{},\"id\":\"1537\",\"type\":\"SaveTool\"},{\"attributes\":{\"end\":4756.461852577293,\"reset_end\":4756.461852577293,\"reset_start\":-291.63131214121137,\"start\":-291.63131214121137,\"tags\":[[[\"inertia\",\"inertia\",null]]]},\"id\":\"1518\",\"type\":\"Range1d\"},{\"attributes\":{},\"id\":\"1538\",\"type\":\"PanTool\"},{\"attributes\":{},\"id\":\"1541\",\"type\":\"ResetTool\"},{\"attributes\":{\"line_alpha\":0.1,\"line_color\":\"#30a2da\",\"line_width\":2,\"x\":{\"field\":\"k\"},\"y\":{\"field\":\"inertia\"}},\"id\":\"1554\",\"type\":\"Line\"},{\"attributes\":{\"callback\":null,\"renderers\":[{\"id\":\"1556\"}],\"tags\":[\"hv_created\"],\"tooltips\":[[\"k\",\"@{k}\"],[\"inertia\",\"@{inertia}\"]]},\"id\":\"1519\",\"type\":\"HoverTool\"},{\"attributes\":{},\"id\":\"1539\",\"type\":\"WheelZoomTool\"},{\"attributes\":{\"margin\":[5,5,5,5],\"name\":\"HSpacer02493\",\"sizing_mode\":\"stretch_width\"},\"id\":\"1586\",\"type\":\"Spacer\"},{\"attributes\":{\"overlay\":{\"id\":\"1542\"}},\"id\":\"1540\",\"type\":\"BoxZoomTool\"},{\"attributes\":{\"below\":[{\"id\":\"1529\"}],\"center\":[{\"id\":\"1532\"},{\"id\":\"1536\"}],\"height\":300,\"left\":[{\"id\":\"1533\"}],\"margin\":[5,5,5,5],\"min_border_bottom\":10,\"min_border_left\":10,\"min_border_right\":10,\"min_border_top\":10,\"renderers\":[{\"id\":\"1556\"}],\"sizing_mode\":\"fixed\",\"title\":{\"id\":\"1521\"},\"toolbar\":{\"id\":\"1543\"},\"width\":700,\"x_range\":{\"id\":\"1517\"},\"x_scale\":{\"id\":\"1525\"},\"y_range\":{\"id\":\"1518\"},\"y_scale\":{\"id\":\"1527\"}},\"id\":\"1520\",\"subtype\":\"Figure\",\"type\":\"Plot\"},{\"attributes\":{\"coordinates\":null,\"group\":null,\"text\":\"Elbow Curve\",\"text_color\":\"black\",\"text_font_size\":\"12pt\"},\"id\":\"1521\",\"type\":\"Title\"},{\"attributes\":{},\"id\":\"1551\",\"type\":\"Selection\"},{\"attributes\":{},\"id\":\"1566\",\"type\":\"BasicTickFormatter\"},{\"attributes\":{},\"id\":\"1527\",\"type\":\"LinearScale\"},{\"attributes\":{\"ticks\":[1,2,3,4,5,6,7,8,9,10]},\"id\":\"1559\",\"type\":\"FixedTicker\"},{\"attributes\":{\"data\":{\"inertia\":{\"__ndarray__\":\"yRCAlMnvsEBgl6d9uvunQIKcvgx3Ap5Ad2fv4x2BjkCgS/gcLDCAQAeQtsuvznRAaNRc42BGb0Dkn7+/D/1nQEPZ4jHXRmNADkaHOWEhYEA=\",\"dtype\":\"float64\",\"order\":\"little\",\"shape\":[10]},\"k\":[1,2,3,4,5,6,7,8,9,10]},\"selected\":{\"id\":\"1551\"},\"selection_policy\":{\"id\":\"1574\"}},\"id\":\"1550\",\"type\":\"ColumnDataSource\"}],\"root_ids\":[\"1515\"]},\"title\":\"Bokeh Application\",\"version\":\"2.4.2\"}};\n",
       "    var render_items = [{\"docid\":\"83116afb-bbf1-4d3c-afee-cf935f036afa\",\"root_ids\":[\"1515\"],\"roots\":{\"1515\":\"fc3c46de-d8c0-476f-b9e8-3c267c129ef4\"}}];\n",
       "    root.Bokeh.embed.embed_items_notebook(docs_json, render_items);\n",
       "  }\n",
       "  if (root.Bokeh !== undefined && root.Bokeh.Panel !== undefined) {\n",
       "    embed_document(root);\n",
       "  } else {\n",
       "    var attempts = 0;\n",
       "    var timer = setInterval(function(root) {\n",
       "      if (root.Bokeh !== undefined && root.Bokeh.Panel !== undefined) {\n",
       "        clearInterval(timer);\n",
       "        embed_document(root);\n",
       "      } else if (document.readyState == \"complete\") {\n",
       "        attempts++;\n",
       "        if (attempts > 200) {\n",
       "          clearInterval(timer);\n",
       "          console.log(\"Bokeh: ERROR: Unable to run BokehJS code because BokehJS library is missing\");\n",
       "        }\n",
       "      }\n",
       "    }, 25, root)\n",
       "  }\n",
       "})(window);</script>"
      ],
      "text/plain": [
       ":Curve   [k]   (inertia)"
      ]
     },
     "execution_count": 123,
     "metadata": {
      "application/vnd.holoviews_exec.v0+json": {
       "id": "1515"
      }
     },
     "output_type": "execute_result"
    }
   ],
   "source": [
    "inertia = []\n",
    "k = list(range(1, 11))\n",
    "\n",
    "# Calculate the inertia for the range ok k values\n",
    "for i in k:\n",
    "    km = KMeans(n_clusters=i, random_state=0)\n",
    "    km.fit(pca_df)\n",
    "    inertia.append(km.inertia_)\n",
    "\n",
    "# Create the Elbow Curve using hvPlot\n",
    "elbow_data = {\"k\": k, \"inertia\": inertia}\n",
    "df_elbow = pd.DataFrame(elbow_data)\n",
    "df_elbow.hvplot.line(x=\"k\", y=\"inertia\", xticks=k, title=\"Elbow Curve\")"
   ]
  },
  {
   "cell_type": "code",
   "execution_count": null,
   "id": "fe83401d",
   "metadata": {},
   "outputs": [],
   "source": []
  },
  {
   "cell_type": "code",
   "execution_count": 124,
   "id": "ff4f632a",
   "metadata": {},
   "outputs": [],
   "source": [
    "km = KMeans(n_clusters=4, random_state=0)\n",
    "# Fit the model\n",
    "km.fit(pca_df)\n",
    "# Predict clusters\n",
    "predictions = km.predict(pca_df)\n",
    "# Creating a new DataFrame including predicted clusters and cryptocurrencies features\n",
    "pca_df['class'] = km.labels_\n",
    "pca_df.index = crypto_df.index"
   ]
  },
  {
   "cell_type": "code",
   "execution_count": 125,
   "id": "dccbc01b",
   "metadata": {},
   "outputs": [
    {
     "data": {
      "text/html": [
       "<div>\n",
       "<style scoped>\n",
       "    .dataframe tbody tr th:only-of-type {\n",
       "        vertical-align: middle;\n",
       "    }\n",
       "\n",
       "    .dataframe tbody tr th {\n",
       "        vertical-align: top;\n",
       "    }\n",
       "\n",
       "    .dataframe thead th {\n",
       "        text-align: right;\n",
       "    }\n",
       "</style>\n",
       "<table border=\"1\" class=\"dataframe\">\n",
       "  <thead>\n",
       "    <tr style=\"text-align: right;\">\n",
       "      <th></th>\n",
       "      <th>Algorithm</th>\n",
       "      <th>ProofType</th>\n",
       "      <th>TotalCoinsMined</th>\n",
       "      <th>TotalCoinSupply</th>\n",
       "      <th>PC 1</th>\n",
       "      <th>PC 2</th>\n",
       "      <th>PC 3</th>\n",
       "      <th>class</th>\n",
       "      <th>CoinName</th>\n",
       "    </tr>\n",
       "    <tr>\n",
       "      <th>Ticker</th>\n",
       "      <th></th>\n",
       "      <th></th>\n",
       "      <th></th>\n",
       "      <th></th>\n",
       "      <th></th>\n",
       "      <th></th>\n",
       "      <th></th>\n",
       "      <th></th>\n",
       "      <th></th>\n",
       "    </tr>\n",
       "  </thead>\n",
       "  <tbody>\n",
       "    <tr>\n",
       "      <th>42</th>\n",
       "      <td>Scrypt</td>\n",
       "      <td>PoW/PoS</td>\n",
       "      <td>4.199995e+01</td>\n",
       "      <td>42</td>\n",
       "      <td>-0.311909</td>\n",
       "      <td>1.223115</td>\n",
       "      <td>-0.395829</td>\n",
       "      <td>0</td>\n",
       "      <td>42 Coin</td>\n",
       "    </tr>\n",
       "    <tr>\n",
       "      <th>404</th>\n",
       "      <td>Scrypt</td>\n",
       "      <td>PoW/PoS</td>\n",
       "      <td>1.055185e+09</td>\n",
       "      <td>532000000</td>\n",
       "      <td>-0.298060</td>\n",
       "      <td>1.221307</td>\n",
       "      <td>-0.396157</td>\n",
       "      <td>0</td>\n",
       "      <td>404Coin</td>\n",
       "    </tr>\n",
       "    <tr>\n",
       "      <th>808</th>\n",
       "      <td>SHA-256</td>\n",
       "      <td>PoW/PoS</td>\n",
       "      <td>0.000000e+00</td>\n",
       "      <td>0</td>\n",
       "      <td>-0.140324</td>\n",
       "      <td>0.793454</td>\n",
       "      <td>-0.275268</td>\n",
       "      <td>0</td>\n",
       "      <td>808</td>\n",
       "    </tr>\n",
       "    <tr>\n",
       "      <th>1337</th>\n",
       "      <td>X13</td>\n",
       "      <td>PoW/PoS</td>\n",
       "      <td>2.927942e+10</td>\n",
       "      <td>314159265359</td>\n",
       "      <td>0.287620</td>\n",
       "      <td>1.871280</td>\n",
       "      <td>-0.456194</td>\n",
       "      <td>0</td>\n",
       "      <td>EliteCoin</td>\n",
       "    </tr>\n",
       "    <tr>\n",
       "      <th>BTC</th>\n",
       "      <td>SHA-256</td>\n",
       "      <td>PoW</td>\n",
       "      <td>1.792718e+07</td>\n",
       "      <td>21000000</td>\n",
       "      <td>-0.161219</td>\n",
       "      <td>-1.456436</td>\n",
       "      <td>0.085173</td>\n",
       "      <td>2</td>\n",
       "      <td>Bitcoin</td>\n",
       "    </tr>\n",
       "  </tbody>\n",
       "</table>\n",
       "</div>"
      ],
      "text/plain": [
       "       Algorithm ProofType  TotalCoinsMined TotalCoinSupply      PC 1  \\\n",
       "Ticker                                                                  \n",
       "42        Scrypt   PoW/PoS     4.199995e+01              42 -0.311909   \n",
       "404       Scrypt   PoW/PoS     1.055185e+09       532000000 -0.298060   \n",
       "808      SHA-256   PoW/PoS     0.000000e+00               0 -0.140324   \n",
       "1337         X13   PoW/PoS     2.927942e+10    314159265359  0.287620   \n",
       "BTC      SHA-256       PoW     1.792718e+07        21000000 -0.161219   \n",
       "\n",
       "            PC 2      PC 3  class   CoinName  \n",
       "Ticker                                        \n",
       "42      1.223115 -0.395829      0    42 Coin  \n",
       "404     1.221307 -0.396157      0    404Coin  \n",
       "808     0.793454 -0.275268      0        808  \n",
       "1337    1.871280 -0.456194      0  EliteCoin  \n",
       "BTC    -1.456436  0.085173      2    Bitcoin  "
      ]
     },
     "execution_count": 125,
     "metadata": {},
     "output_type": "execute_result"
    }
   ],
   "source": [
    "crypto_df.head()\n",
    "clustered_df = pd.concat([crypto_df, pca_df,coins_name], axis=1, )\n",
    "clustered_df.head()"
   ]
  },
  {
   "cell_type": "markdown",
   "id": "74feb393",
   "metadata": {},
   "source": [
    "Visualizing Results\n",
    "3D-Scatter with Clusters"
   ]
  },
  {
   "cell_type": "code",
   "execution_count": 126,
   "id": "f727b698",
   "metadata": {},
   "outputs": [
    {
     "data": {
      "application/vnd.plotly.v1+json": {
       "config": {
        "plotlyServerURL": "https://plot.ly"
       },
       "data": [
        {
         "customdata": [
          [
           "Scrypt"
          ],
          [
           "Scrypt"
          ],
          [
           "SHA-256"
          ],
          [
           "X13"
          ],
          [
           "SHA-256"
          ],
          [
           "Ethash"
          ],
          [
           "Scrypt"
          ],
          [
           "X11"
          ],
          [
           "CryptoNight-V7"
          ],
          [
           "Ethash"
          ],
          [
           "Equihash"
          ],
          [
           "SHA-512"
          ],
          [
           "Multiple"
          ],
          [
           "SHA-256"
          ],
          [
           "X11"
          ],
          [
           "SHA-256"
          ],
          [
           "Scrypt"
          ],
          [
           "X15"
          ],
          [
           "X11"
          ],
          [
           "SHA-256"
          ],
          [
           "X13"
          ],
          [
           "X13"
          ],
          [
           "Scrypt"
          ],
          [
           "Scrypt"
          ],
          [
           "Scrypt"
          ],
          [
           "SHA-256"
          ],
          [
           "Scrypt"
          ],
          [
           "Multiple"
          ],
          [
           "Scrypt"
          ],
          [
           "SHA-256"
          ],
          [
           "Scrypt"
          ],
          [
           "Scrypt"
          ],
          [
           "Scrypt"
          ],
          [
           "Quark"
          ],
          [
           "Groestl"
          ],
          [
           "Scrypt"
          ],
          [
           "X11"
          ],
          [
           "Scrypt"
          ],
          [
           "Scrypt"
          ],
          [
           "Scrypt"
          ],
          [
           "Scrypt"
          ],
          [
           "Scrypt"
          ],
          [
           "Scrypt"
          ],
          [
           "Multiple"
          ],
          [
           "Scrypt"
          ],
          [
           "X11"
          ],
          [
           "Scrypt"
          ],
          [
           "SHA-256"
          ],
          [
           "Groestl"
          ],
          [
           "Multiple"
          ],
          [
           "X11"
          ],
          [
           "Scrypt"
          ],
          [
           "SHA-256"
          ],
          [
           "Scrypt"
          ],
          [
           "Scrypt"
          ],
          [
           "Scrypt"
          ],
          [
           "Scrypt"
          ],
          [
           "Scrypt"
          ],
          [
           "PoS"
          ],
          [
           "Scrypt"
          ],
          [
           "X11"
          ],
          [
           "NIST5"
          ],
          [
           "SHA-256"
          ],
          [
           "Scrypt"
          ],
          [
           "Scrypt"
          ],
          [
           "NeoScrypt"
          ],
          [
           "Scrypt"
          ],
          [
           "Scrypt"
          ],
          [
           "Scrypt"
          ],
          [
           "X11"
          ],
          [
           "X15"
          ],
          [
           "Scrypt"
          ],
          [
           "Multiple"
          ],
          [
           "X11"
          ],
          [
           "Scrypt"
          ],
          [
           "X11"
          ],
          [
           "SHA-256"
          ],
          [
           "X11"
          ],
          [
           "X13"
          ],
          [
           "Scrypt"
          ],
          [
           "Scrypt"
          ],
          [
           "Scrypt"
          ],
          [
           "Scrypt"
          ],
          [
           "X11"
          ],
          [
           "SHA3"
          ],
          [
           "Scrypt"
          ],
          [
           "HybridScryptHash256"
          ],
          [
           "Scrypt"
          ],
          [
           "Scrypt"
          ],
          [
           "SHA-256"
          ],
          [
           "Scrypt"
          ],
          [
           "X13"
          ],
          [
           "SHA-256"
          ],
          [
           "Scrypt"
          ],
          [
           "SHA-256"
          ],
          [
           "Scrypt"
          ],
          [
           "X13"
          ],
          [
           "NeoScrypt"
          ],
          [
           "Scrypt"
          ],
          [
           "Scrypt"
          ],
          [
           "Scrypt"
          ],
          [
           "Scrypt"
          ],
          [
           "Scrypt"
          ],
          [
           "Scrypt"
          ],
          [
           "X15"
          ],
          [
           "Scrypt"
          ],
          [
           "Scrypt"
          ],
          [
           "Scrypt-n"
          ],
          [
           "Scrypt"
          ],
          [
           "X11"
          ],
          [
           "X11"
          ],
          [
           "SHA-256"
          ],
          [
           "Multiple"
          ],
          [
           "SHA-256"
          ],
          [
           "PHI1612"
          ],
          [
           "X11"
          ],
          [
           "SHA-256"
          ],
          [
           "SHA-256"
          ],
          [
           "SHA-256"
          ],
          [
           "SHA-256"
          ],
          [
           "X11"
          ],
          [
           "Scrypt"
          ],
          [
           "Scrypt"
          ],
          [
           "X13"
          ],
          [
           "Scrypt"
          ],
          [
           "X11"
          ],
          [
           "Scrypt"
          ],
          [
           "Lyra2REv2"
          ],
          [
           "Scrypt"
          ],
          [
           "Scrypt"
          ],
          [
           "X11"
          ],
          [
           "Multiple"
          ],
          [
           "SHA-256"
          ],
          [
           "X13"
          ],
          [
           "Scrypt"
          ],
          [
           "Scrypt"
          ],
          [
           "CryptoNight"
          ],
          [
           "CryptoNight"
          ],
          [
           "Shabal256"
          ],
          [
           "Counterparty"
          ],
          [
           "Scrypt"
          ],
          [
           "SHA-256"
          ],
          [
           "SHA-256"
          ],
          [
           "Scrypt"
          ],
          [
           "Groestl"
          ],
          [
           "Scrypt"
          ],
          [
           "Scrypt"
          ],
          [
           "Scrypt"
          ],
          [
           "X13"
          ],
          [
           "Scrypt"
          ],
          [
           "Scrypt"
          ],
          [
           "Scrypt"
          ],
          [
           "SHA-256"
          ],
          [
           "Scrypt"
          ],
          [
           "X13"
          ],
          [
           "X13"
          ],
          [
           "Scrypt"
          ],
          [
           "X11"
          ],
          [
           "Momentum"
          ],
          [
           "Stanford Folding"
          ],
          [
           "X11"
          ],
          [
           "Multiple"
          ],
          [
           "QuBit"
          ],
          [
           "X15"
          ],
          [
           "Scrypt"
          ],
          [
           "Scrypt"
          ],
          [
           "Scrypt"
          ],
          [
           "Scrypt"
          ],
          [
           "SHA-256"
          ],
          [
           "M7 POW"
          ],
          [
           "Scrypt"
          ],
          [
           "X11"
          ],
          [
           "Scrypt"
          ],
          [
           "SHA-256"
          ],
          [
           "Scrypt"
          ],
          [
           "Scrypt"
          ],
          [
           "X11"
          ],
          [
           "X11"
          ],
          [
           "SHA3"
          ],
          [
           "X11"
          ],
          [
           "Scrypt"
          ],
          [
           "Lyra2RE"
          ],
          [
           "SHA-256"
          ],
          [
           "QUAIT"
          ],
          [
           "X11"
          ],
          [
           "vDPOS"
          ],
          [
           "X11"
          ],
          [
           "X11"
          ],
          [
           "Scrypt"
          ],
          [
           "Scrypt"
          ],
          [
           "Scrypt"
          ],
          [
           "Ethash"
          ],
          [
           "X11"
          ],
          [
           "X13"
          ],
          [
           "Blake2b"
          ],
          [
           "SHA-256"
          ],
          [
           "X13"
          ],
          [
           "X15"
          ],
          [
           "X11"
          ],
          [
           "SHA-256"
          ],
          [
           "BLAKE256"
          ],
          [
           "Scrypt"
          ],
          [
           "Scrypt"
          ],
          [
           "1GB AES Pattern Search"
          ],
          [
           "SHA-256"
          ],
          [
           "X11"
          ],
          [
           "Scrypt"
          ],
          [
           "CryptoNight"
          ],
          [
           "SHA-256"
          ],
          [
           "Quark"
          ],
          [
           "SHA-256"
          ],
          [
           "NIST5"
          ],
          [
           "Blake"
          ],
          [
           "Scrypt"
          ],
          [
           "Scrypt"
          ],
          [
           "SHA-256"
          ],
          [
           "X11"
          ],
          [
           "Scrypt"
          ],
          [
           "Scrypt-n"
          ],
          [
           "X11"
          ],
          [
           "Scrypt"
          ],
          [
           "Dagger"
          ],
          [
           "Scrypt"
          ],
          [
           "SHA-256"
          ],
          [
           "CryptoNight-Lite"
          ],
          [
           "X11GOST"
          ],
          [
           "X11"
          ],
          [
           "SHA-256"
          ],
          [
           "Scrypt"
          ],
          [
           "SHA-256"
          ],
          [
           "Scrypt"
          ],
          [
           "PoS"
          ],
          [
           "Scrypt"
          ],
          [
           "X11"
          ],
          [
           "X11"
          ],
          [
           "X11"
          ],
          [
           "X11"
          ],
          [
           "PoS"
          ],
          [
           "SHA-256"
          ],
          [
           "SHA-256"
          ],
          [
           "SHA-256"
          ],
          [
           "NIST5"
          ],
          [
           "X15"
          ],
          [
           "X11"
          ],
          [
           "NIST5"
          ],
          [
           "Scrypt"
          ],
          [
           "Scrypt"
          ],
          [
           "Scrypt"
          ],
          [
           "POS 3.0"
          ],
          [
           "Scrypt"
          ],
          [
           "Scrypt"
          ],
          [
           "Scrypt"
          ],
          [
           "X13"
          ],
          [
           "X11"
          ],
          [
           "X11"
          ],
          [
           "Equihash"
          ],
          [
           "X11"
          ],
          [
           "X11"
          ],
          [
           "Scrypt"
          ],
          [
           "CryptoNight"
          ],
          [
           "SHA-256"
          ],
          [
           "SHA-256"
          ],
          [
           "X11"
          ],
          [
           "Scrypt"
          ],
          [
           "Multiple"
          ],
          [
           "Scrypt"
          ],
          [
           "Scrypt"
          ],
          [
           "X11"
          ],
          [
           "Scrypt"
          ],
          [
           "SHA-256"
          ],
          [
           "Scrypt"
          ],
          [
           "Scrypt"
          ],
          [
           "SHA-256D"
          ],
          [
           "PoS"
          ],
          [
           "Scrypt"
          ],
          [
           "Scrypt"
          ],
          [
           "X11"
          ],
          [
           "Scrypt-n"
          ],
          [
           "Lyra2Z"
          ],
          [
           "SHA-256"
          ],
          [
           "PoS"
          ],
          [
           "X13"
          ],
          [
           "Quark"
          ],
          [
           "X14"
          ],
          [
           "PoS"
          ],
          [
           "SHA-256D"
          ],
          [
           "Ethash"
          ],
          [
           "SHA-256"
          ],
          [
           "Equihash"
          ],
          [
           "DPoS"
          ],
          [
           "X11"
          ],
          [
           "Scrypt"
          ],
          [
           "Scrypt"
          ],
          [
           "Equihash"
          ],
          [
           "X11"
          ],
          [
           "X13"
          ],
          [
           "X11"
          ],
          [
           "PoS"
          ],
          [
           "SHA-256D"
          ],
          [
           "Scrypt"
          ],
          [
           "Scrypt"
          ],
          [
           "Scrypt"
          ],
          [
           "X11"
          ],
          [
           "PoS"
          ],
          [
           "X11"
          ],
          [
           "SHA-256"
          ],
          [
           "Scrypt"
          ],
          [
           "X11"
          ],
          [
           "Scrypt"
          ],
          [
           "Scrypt"
          ],
          [
           "X11"
          ],
          [
           "CryptoNight"
          ],
          [
           "Scrypt"
          ],
          [
           "Scrypt"
          ],
          [
           "Scrypt"
          ],
          [
           "Scrypt"
          ],
          [
           "Quark"
          ],
          [
           "QuBit"
          ],
          [
           "Scrypt"
          ],
          [
           "CryptoNight"
          ],
          [
           "X11"
          ],
          [
           "Lyra2RE"
          ],
          [
           "X13"
          ],
          [
           "PoS"
          ],
          [
           "Scrypt"
          ],
          [
           "SHA-256"
          ],
          [
           "X11"
          ],
          [
           "X11"
          ],
          [
           "X11"
          ],
          [
           "Scrypt"
          ],
          [
           "X11"
          ],
          [
           "Scrypt"
          ],
          [
           "Scrypt"
          ],
          [
           "CryptoNight-V7"
          ],
          [
           "Scrypt"
          ],
          [
           "Scrypt"
          ],
          [
           "Keccak"
          ],
          [
           "Scrypt"
          ],
          [
           "X13"
          ],
          [
           "X11"
          ],
          [
           "Equihash"
          ],
          [
           "Scrypt"
          ],
          [
           "Scrypt"
          ],
          [
           "Lyra2RE"
          ],
          [
           "Ethash"
          ],
          [
           "X11"
          ],
          [
           "Scrypt"
          ],
          [
           "Dagger-Hashimoto"
          ],
          [
           "X11"
          ],
          [
           "Blake2S"
          ],
          [
           "X11"
          ],
          [
           "Scrypt"
          ],
          [
           "Scrypt"
          ],
          [
           "PoS"
          ],
          [
           "X11"
          ],
          [
           "NIST5"
          ],
          [
           "PoS"
          ],
          [
           "X11"
          ],
          [
           "Scrypt"
          ],
          [
           "Scrypt"
          ],
          [
           "Scrypt"
          ],
          [
           "Scrypt"
          ],
          [
           "SHA-256"
          ],
          [
           "X11"
          ],
          [
           "Scrypt"
          ],
          [
           "Scrypt"
          ],
          [
           "Scrypt"
          ],
          [
           "SHA-256"
          ],
          [
           "PoS"
          ],
          [
           "Scrypt"
          ],
          [
           "X11"
          ],
          [
           "X15"
          ],
          [
           "SHA-256"
          ],
          [
           "Scrypt"
          ],
          [
           "POS 3.0"
          ],
          [
           "CryptoNight-V7"
          ],
          [
           "536"
          ],
          [
           "Argon2d"
          ],
          [
           "Blake2b"
          ],
          [
           "Cloverhash"
          ],
          [
           "CryptoNight"
          ],
          [
           "NIST5"
          ],
          [
           "X11"
          ],
          [
           "NIST5"
          ],
          [
           "Skein"
          ],
          [
           "Scrypt"
          ],
          [
           "X13"
          ],
          [
           "Scrypt"
          ],
          [
           "X11"
          ],
          [
           "X11"
          ],
          [
           "X11"
          ],
          [
           "Scrypt"
          ],
          [
           "CryptoNight"
          ],
          [
           "X13"
          ],
          [
           "Time Travel"
          ],
          [
           "Scrypt"
          ],
          [
           "Keccak"
          ],
          [
           "SkunkHash v2 Raptor"
          ],
          [
           "X11"
          ],
          [
           "Skein"
          ],
          [
           "SHA-256"
          ],
          [
           "X11"
          ],
          [
           "Scrypt"
          ],
          [
           "Scrypt"
          ],
          [
           "VeChainThor Authority"
          ],
          [
           "Scrypt"
          ],
          [
           "PoS"
          ],
          [
           "Scrypt"
          ],
          [
           "Scrypt"
          ],
          [
           "Scrypt"
          ],
          [
           "Scrypt"
          ],
          [
           "Scrypt"
          ],
          [
           "Scrypt"
          ],
          [
           "Scrypt"
          ],
          [
           "Scrypt"
          ],
          [
           "CryptoNight"
          ],
          [
           "SHA-512"
          ],
          [
           "Ouroboros"
          ],
          [
           "X11"
          ],
          [
           "Equihash"
          ],
          [
           "NeoScrypt"
          ],
          [
           "X11"
          ],
          [
           "Scrypt"
          ],
          [
           "NeoScrypt"
          ],
          [
           "Lyra2REv2"
          ],
          [
           "Equihash"
          ],
          [
           "Scrypt"
          ],
          [
           "SHA-256"
          ],
          [
           "NIST5"
          ],
          [
           "PHI1612"
          ],
          [
           "Dagger"
          ],
          [
           "Scrypt"
          ],
          [
           "Quark"
          ],
          [
           "Scrypt"
          ],
          [
           "POS 2.0"
          ],
          [
           "Scrypt"
          ],
          [
           "SkunkHash"
          ],
          [
           "X11"
          ],
          [
           "Quark"
          ],
          [
           "SHA-256"
          ],
          [
           "X11"
          ],
          [
           "NeoScrypt"
          ],
          [
           "Scrypt"
          ],
          [
           "Ethash"
          ],
          [
           "Scrypt"
          ],
          [
           "NeoScrypt"
          ],
          [
           "Quark"
          ],
          [
           "X11"
          ],
          [
           "DPoS"
          ],
          [
           "NIST5"
          ],
          [
           "X13"
          ],
          [
           "Multiple"
          ],
          [
           "Scrypt"
          ],
          [
           "CryptoNight"
          ],
          [
           "CryptoNight"
          ],
          [
           "Ethash"
          ],
          [
           "NIST5"
          ],
          [
           "Quark"
          ],
          [
           "X11"
          ],
          [
           "SHA-256"
          ],
          [
           "CryptoNight-V7"
          ],
          [
           "Scrypt"
          ],
          [
           "Scrypt"
          ],
          [
           "Scrypt"
          ],
          [
           "X11"
          ],
          [
           "SHA-256"
          ],
          [
           "BLAKE256"
          ],
          [
           "X11"
          ],
          [
           "Scrypt"
          ],
          [
           "NeoScrypt"
          ],
          [
           "Quark"
          ],
          [
           "NeoScrypt"
          ],
          [
           "Scrypt"
          ],
          [
           "Scrypt"
          ],
          [
           "Scrypt"
          ],
          [
           "X11"
          ],
          [
           "X11"
          ],
          [
           "SHA-256"
          ],
          [
           "C11"
          ],
          [
           "Scrypt"
          ],
          [
           "Scrypt"
          ],
          [
           "POS 3.0"
          ],
          [
           "Ethash"
          ],
          [
           "Scrypt"
          ],
          [
           "CryptoNight"
          ],
          [
           "SkunkHash"
          ],
          [
           "Scrypt"
          ],
          [
           "CryptoNight"
          ],
          [
           "Equihash"
          ],
          [
           "Skein"
          ],
          [
           "Scrypt"
          ],
          [
           "Dagger"
          ],
          [
           "Lyra2REv2"
          ],
          [
           "X13"
          ],
          [
           "Proof-of-BibleHash"
          ],
          [
           "SHA-256 + Hive"
          ],
          [
           "Scrypt"
          ],
          [
           "Scrypt"
          ],
          [
           "Scrypt"
          ],
          [
           "NeoScrypt"
          ],
          [
           "Equihash"
          ],
          [
           "X11"
          ],
          [
           "C11"
          ],
          [
           "Proof-of-Authority"
          ],
          [
           "X11"
          ],
          [
           "XEVAN"
          ],
          [
           "Scrypt"
          ],
          [
           "VBFT"
          ],
          [
           "Ethash"
          ],
          [
           "X11"
          ],
          [
           "CryptoNight"
          ],
          [
           "NeoScrypt"
          ],
          [
           "Scrypt"
          ],
          [
           "IMesh"
          ],
          [
           "NIST5"
          ],
          [
           "Equihash"
          ],
          [
           "Scrypt"
          ],
          [
           "Scrypt"
          ],
          [
           "Equihash"
          ],
          [
           "Equihash"
          ],
          [
           "Scrypt"
          ],
          [
           "Lyra2Z"
          ],
          [
           "Equihash"
          ],
          [
           "Green Protocol"
          ],
          [
           "PoS"
          ],
          [
           "Scrypt"
          ],
          [
           "Scrypt"
          ],
          [
           "Semux BFT consensus"
          ],
          [
           "Scrypt"
          ],
          [
           "X11"
          ],
          [
           "Quark"
          ],
          [
           "PoS"
          ],
          [
           "CryptoNight"
          ],
          [
           "X16R"
          ],
          [
           "Scrypt"
          ],
          [
           "NIST5"
          ],
          [
           "Lyra2RE"
          ],
          [
           "XEVAN"
          ],
          [
           "Tribus"
          ],
          [
           "Scrypt"
          ],
          [
           "Lyra2Z"
          ],
          [
           "CryptoNight"
          ],
          [
           "CryptoNight Heavy"
          ],
          [
           "CryptoNight"
          ],
          [
           "Scrypt"
          ],
          [
           "Scrypt"
          ],
          [
           "Jump Consistent Hash"
          ],
          [
           "SHA-256D"
          ],
          [
           "CryptoNight"
          ],
          [
           "Scrypt"
          ],
          [
           "X15"
          ],
          [
           "Scrypt"
          ],
          [
           "Quark"
          ],
          [
           "SHA-256"
          ],
          [
           "DPoS"
          ],
          [
           "X16R"
          ],
          [
           "HMQ1725"
          ],
          [
           "X11"
          ],
          [
           "X16R"
          ],
          [
           "Quark"
          ],
          [
           "Quark"
          ],
          [
           "Scrypt"
          ],
          [
           "Zhash"
          ],
          [
           "Lyra2REv2"
          ],
          [
           "Quark"
          ],
          [
           "Scrypt"
          ],
          [
           "Scrypt"
          ],
          [
           "CryptoNight-V7"
          ],
          [
           "Cryptonight-GPU"
          ],
          [
           "Scrypt"
          ],
          [
           "XEVAN"
          ],
          [
           "CryptoNight Heavy"
          ],
          [
           "X11"
          ],
          [
           "X11"
          ],
          [
           "Scrypt"
          ],
          [
           "PoS"
          ],
          [
           "Lyra2REv2"
          ],
          [
           "Scrypt"
          ],
          [
           "SHA-256"
          ],
          [
           "Scrypt"
          ],
          [
           "Keccak"
          ],
          [
           "X11"
          ],
          [
           "X11"
          ],
          [
           "Quark"
          ],
          [
           "Scrypt"
          ],
          [
           "SHA-512"
          ],
          [
           "X16R"
          ],
          [
           "ECC 256K1"
          ],
          [
           "NeoScrypt"
          ],
          [
           "Equihash"
          ],
          [
           "XEVAN"
          ],
          [
           "Quark"
          ],
          [
           "CryptoNight Heavy X"
          ],
          [
           "Lyra2Z"
          ],
          [
           "Ethash"
          ],
          [
           "SHA-256"
          ],
          [
           "XEVAN"
          ],
          [
           "Ethash"
          ],
          [
           "X11"
          ],
          [
           "CryptoNight"
          ],
          [
           "Quark"
          ],
          [
           "SkunkHash"
          ],
          [
           "Quark"
          ],
          [
           "Argon2"
          ],
          [
           "Blake"
          ],
          [
           "Blake"
          ],
          [
           "SHA-256"
          ],
          [
           "Equihash"
          ],
          [
           "Exosis"
          ],
          [
           "Scrypt"
          ],
          [
           "Scrypt"
          ],
          [
           "Equihash"
          ],
          [
           "Quark"
          ],
          [
           "Equihash"
          ],
          [
           "Quark"
          ],
          [
           "Scrypt"
          ],
          [
           "QuBit"
          ],
          [
           "X11"
          ],
          [
           "Scrypt"
          ],
          [
           "Equihash1927"
          ],
          [
           "XEVAN"
          ],
          [
           "SHA-256D"
          ],
          [
           "X11"
          ],
          [
           "SHA-256"
          ],
          [
           "SHA-256"
          ],
          [
           "X13"
          ],
          [
           "SHA-256"
          ],
          [
           "X11"
          ],
          [
           "DPoS"
          ],
          [
           "X11"
          ],
          [
           "Scrypt"
          ],
          [
           "X11"
          ],
          [
           "Scrypt"
          ],
          [
           "X11"
          ],
          [
           "NeoScrypt"
          ],
          [
           "QuBit"
          ],
          [
           "Scrypt"
          ],
          [
           "Blake"
          ],
          [
           "Scrypt"
          ],
          [
           "SHA-256"
          ],
          [
           "Scrypt"
          ],
          [
           "X11"
          ],
          [
           "CryptoNight"
          ],
          [
           "Scrypt"
          ],
          [
           "Scrypt"
          ],
          [
           "SHA-256"
          ],
          [
           "X11"
          ],
          [
           "SHA-256"
          ],
          [
           "Scrypt"
          ],
          [
           "CryptoNight"
          ],
          [
           "Scrypt"
          ],
          [
           "SHA-256"
          ],
          [
           "Scrypt"
          ],
          [
           "Groestl"
          ],
          [
           "X11"
          ],
          [
           "Scrypt"
          ],
          [
           "PoS"
          ],
          [
           "Scrypt"
          ],
          [
           "Scrypt"
          ],
          [
           "X11"
          ],
          [
           "SHA-256"
          ],
          [
           "DPoS"
          ],
          [
           "Scrypt"
          ],
          [
           "Scrypt"
          ],
          [
           "Scrypt"
          ],
          [
           "NeoScrypt"
          ],
          [
           "Scrypt"
          ],
          [
           "SHA3-256"
          ],
          [
           "Multiple"
          ],
          [
           "X13"
          ],
          [
           "Equihash+Scrypt"
          ],
          [
           "DPoS"
          ],
          [
           "Ethash"
          ],
          [
           "DPoS"
          ],
          [
           "Ethash"
          ],
          [
           "SHA-256"
          ],
          [
           "Leased POS"
          ],
          [
           "PoS"
          ],
          [
           "TRC10"
          ],
          [
           "PoS"
          ],
          [
           "SHA-256"
          ],
          [
           "Scrypt"
          ],
          [
           "CryptoNight"
          ],
          [
           "Equihash"
          ],
          [
           "Scrypt"
          ]
         ],
         "hovertemplate": "<b>%{hovertext}</b><br><br>PC 1=%{x}<br>PC 2=%{y}<br>PC 3=%{z}<br>Algorithm=%{customdata[0]}<br>class=%{marker.color}<extra></extra>",
         "hovertext": [
          "42 Coin",
          "404Coin",
          "808",
          "EliteCoin",
          "Bitcoin",
          "Ethereum",
          "Litecoin",
          "Dash",
          "Monero",
          "Ethereum Classic",
          "ZCash",
          "Bitshares",
          "DigiByte",
          "BitcoinDark",
          "Bitstake",
          "PayCoin",
          "ProsperCoin",
          "KoboCoin",
          "Spreadcoin",
          "ACoin",
          "Aero Coin",
          "ApexCoin",
          "ArchCoin",
          "Argentum",
          "Aurora Coin",
          "BetaCoin",
          "BlueCoin",
          "MyriadCoin",
          "MoonCoin",
          "ZetaCoin",
          "SexCoin",
          "Quatloo",
          "EnergyCoin",
          "QuarkCoin",
          "Riecoin",
          "Digitalcoin ",
          "LimeCoinX",
          "BitBar",
          "BitMark",
          "CashCoin",
          "Catcoin",
          "CryptoBullion",
          "CannaCoin",
          "CinderCoin",
          "CoolCoin",
          "CryptCoin",
          "CasinoCoin",
          "eMark",
          "Diamond",
          "Verge",
          "DarkCash",
          "DarkShibe",
          "DevCoin",
          "EarthCoin",
          "E-Gulden",
          "Elacoin",
          "Einsteinium",
          "Emerald",
          "Exclusive Coin",
          "Flappy Coin",
          "Fuel2Coin",
          "FIBRE",
          "FireRoosterCoin",
          "FlutterCoin",
          "Franko",
          "FeatherCoin",
          "GrandCoin",
          "GlobalCoin",
          "GoldCoin",
          "GlyphCoin",
          "Halcyon",
          "HoboNickels",
          "HunterCoin",
          "HyperStake",
          "Infinite Coin",
          "IOCoin",
          "IXcoin",
          "JumBucks Coin",
          "JudgeCoin",
          "KrugerCoin",
          "LuckyCoin",
          "Litebar ",
          "LitecoinDark",
          "LibrexCoin",
          "MaxCoin",
          "MegaCoin",
          "MediterraneanCoin",
          "MintCoin",
          "MinCoin",
          "MazaCoin",
          "Nautilus Coin",
          "NavCoin",
          "NoirBits",
          "NobleCoin",
          "Namecoin",
          "NyanCoin",
          "OpalCoin",
          "Orbitcoin",
          "PotCoin",
          "PhoenixCoin",
          "Reddcoin",
          "RipOffCoin",
          "RonPaulCoin",
          "StableCoin",
          "ShieldCoin",
          "SilkCoin",
          "SmartCoin",
          "SpainCoin",
          "SecureCoin",
          "SuperCoin",
          "SyncCoin",
          "SysCoin",
          "TeslaCoin",
          "TigerCoin",
          "TittieCoin",
          "TorCoin",
          "TerraCoin",
          "Umbrella",
          "UnbreakableCoin",
          "Unobtanium",
          "UroCoin",
          "UnitaryStatus Dollar",
          "UltraCoin",
          "Utility Coin",
          "ViaCoin",
          "VootCoin",
          "VeriCoin",
          "Vertcoin",
          "WorldCoin",
          "SocialXbotCoin",
          "X11 Coin",
          "Crypti",
          "JouleCoin",
          "StealthCoin",
          "XXXCoin",
          "ZCC Coin",
          "ByteCoin",
          "DigitalNote ",
          "BurstCoin",
          "StorjCoin",
          "MonaCoin",
          "Neutron",
          "Sling Coin",
          "KryptCoin",
          "FairCoin",
          "Gulden",
          "RubyCoin",
          "PesetaCoin",
          "Kore",
          "Wild Beast Coin",
          "Dnotes",
          "Flo",
          "MaieutiCoin",
          "8BIT Coin",
          "Sativa Coin",
          "AeroMe",
          "ArtByte",
          "MasterTraderCoin",
          "BitCredit",
          "Folding Coin",
          "Ucoin",
          "Unitus",
          "CypherPunkCoin",
          "MaryJane Coin",
          "OmniCron",
          "CyberCoin",
          "Vtorrent",
          "GreenCoin",
          "Unattanium",
          "Cryptonite",
          "Gridmaster",
          "ConSpiracy Coin ",
          "MasterCoin",
          "SoonCoin",
          "1Credit",
          "ViorCoin",
          "IslaCoin",
          "Quicksilver coin",
          "Nexus",
          "MarsCoin ",
          "Singular",
          "Crypto",
          "Anarchists Prime",
          "Droidz",
          "BowsCoin",
          "CryptoCircuits",
          "Squall Coin",
          "Milllionaire Coin",
          "Song Coin",
          "BitZeny",
          "Diggits",
          "Expanse",
          "MapCoin",
          "Paycon",
          "Siacoin",
          "Emercoin",
          "BlitzCoin",
          "EverGreenCoin",
          "MindCoin",
          "I0coin",
          "Decred",
          "DogeCoinDark",
          "Revolution VR",
          "HOdlcoin",
          "EDRCoin",
          "Hitcoin",
          "Gamecredits",
          "Dashcoin",
          "DubaiCoin",
          "BiosCrypto",
          "CarpeDiemCoin",
          "PWR Coin",
          "TrumpCoin",
          "BillaryCoin",
          "EthereumScrypt",
          "Phalanx",
          "SunShotCoin",
          "GPU Coin",
          "HempCoin",
          "Adzcoin",
          "VirtaCoin",
          "SoilCoin",
          "YoCoin",
          "Universal Currency",
          "AEON",
          "SibCoin",
          "EuropeCoin",
          "Anti Bitcoin",
          "ZeitCoin",
          "SwingCoin",
          "SafeExchangeCoin",
          "Nebuchadnezzar",
          "Francs",
          "BolivarCoin",
          "GIZMOcoin",
          "SecretCoin",
          "Ratecoin",
          "Digital Bullion Gold",
          "Revenu",
          "Clinton",
          "Clockcoin",
          "VIP Tokens",
          "OrlyCoin",
          "BitSend",
          "16BitCoin",
          "ChessCoin",
          "ReeCoin",
          "Omni",
          "Let it Ride",
          "PutinCoin",
          "iBankCoin",
          "Frankywillcoin",
          "MudraCoin",
          "PizzaCoin",
          "Lutetium Coin",
          "Komodo",
          "GoldBlocks",
          "WayCoin",
          "CarterCoin",
          "Karbo",
          "BitTokens",
          "ZayedCoin",
          "MustangCoin",
          "ZoneCoin",
          "Circuits of Value",
          "RootCoin",
          "DopeCoin",
          "PROUD Money",
          "BitCurrency",
          "DollarCoin",
          "Swiscoin",
          "Shilling",
          "BuzzCoin",
          "Opair",
          "PesoBit",
          "GBR Coin",
          "Halloween Coin",
          "FujiCoin",
          "ZCoin",
          "LeaCoin",
          "CoffeeCoin",
          "RoyalCoin",
          "Zurcoin",
          "GanjaCoin V2",
          "TeamUP",
          "LanaCoin",
          "Elementrem",
          "CashOut",
          "ZClassic",
          "ARK",
          "InsaneCoin",
          "LuckChain",
          "KiloCoin",
          "Hush",
          "ArtexCoin",
          "EmberCoin",
          "XenixCoin",
          "FreeCoin",
          "NPCcoin",
          "PLNCoin",
          "Icobid",
          "AquariusCoin",
          "Kurrent",
          "Creatio",
          "Eternity",
          "Eurocoin",
          "BitcoinFast",
          "Stakenet",
          "BitConnect Coin",
          "MoneyCoin",
          "Enigma",
          "Cannabis Industry Coin",
          "Russiacoin",
          "PandaCoin",
          "GameUnits",
          "GAKHcoin",
          "Allsafe",
          "LiteCreed",
          "OsmiumCoin",
          "Bikercoins",
          "NeptuneClassic",
          "HexxCoin",
          "GoldenBird",
          "Ride My Car",
          "Klingon Empire Darsek",
          "Internet of People",
          "KushCoin",
          "Eryllium",
          "MarxCoin",
          "Printerium",
          "PacCoin",
          "Impeach",
          "Solarflarecoin",
          "Citadel",
          "Zilbercoin",
          "FirstCoin",
          "CreativeChain",
          "BeaverCoin",
          "FindCoin",
          "VaultCoin",
          "Zero",
          "OpenChat",
          "Canada eCoin",
          "Zoin",
          "Musicoin",
          "BnrtxCoin",
          "RenosCoin",
          "DubaiCoin",
          "VirtacoinPlus",
          "TajCoin",
          "Impact",
          "EB3coin",
          "Universe",
          "Atmos",
          "HappyCoin",
          "Coinonat",
          "MacronCoin",
          "Condensate",
          "Independent Money System",
          "ArgusCoin",
          "LomoCoin",
          "Bitcoin Scrypt",
          "ProCurrency",
          "GoldReserve",
          "BenjiRolls",
          "ParallelCoin",
          "GrowthCoin",
          "ILCoin",
          "Phreak",
          "Degas Coin",
          "ZSEcoin",
          "HTML5 Coin",
          "Ultimate Secure Cash",
          "EquiTrader",
          "QTUM",
          "Quantum Resistant Ledger",
          "Espers",
          "Dynamic",
          "Nano",
          "ChanCoin",
          "Dinastycoin",
          "Denarius",
          "DigitalPrice",
          "Virta Unique Coin",
          "Bitcoin Planet",
          "Unify",
          "BritCoin",
          "SocialCoin",
          "Octanox",
          "ArcticCoin",
          "DAS",
          "Linda",
          "LeviarCoin",
          "DeepOnion",
          "Bitcore",
          "gCn Coin",
          "SmartCash",
          "Signatum",
          "Onix",
          "Cream",
          "Bitcoin Cash",
          "Monoeci",
          "CampusCoin",
          "Draftcoin",
          "Vechain",
          "Sojourn Coin",
          "Stakecoin",
          "NewYorkCoin",
          "LiteBitcoin",
          "FrazCoin",
          "Kronecoin",
          "AdCoin",
          "Linx",
          "CoinonatX",
          "Ethereum Dark",
          "Sumokoin",
          "Obsidian",
          "Cardano",
          "Regalcoin",
          "BitcoinZ",
          "TrezarCoin",
          "Elements",
          "TerraNovaCoin",
          "VIVO Coin",
          "Rupee",
          "Bitcoin Gold",
          "WomenCoin",
          "Theresa May Coin",
          "NamoCoin",
          "LUXCoin",
          "Pirl",
          "Xios",
          "Bitcloud 2.0",
          "eBoost",
          "KekCoin",
          "BlackholeCoin",
          "AltCommunity Coin",
          "Pure",
          "Rupaya",
          "Infinity Economics",
          "Pura",
          "Innova",
          "Bitdeal",
          "Ellaism",
          "Sakuracoin",
          "GoByte",
          "Castle",
          "Magnet",
          "Lamden Tau",
          "Electra",
          "Bitcoin Diamond",
          "SHIELD",
          "Cash & Back Coin",
          "UltraNote",
          "BitCoal",
          "DaxxCoin",
          "Bulwark",
          "Kalkulus",
          "AC3",
          "CHIPS",
          "Lethean",
          "GermanCoin",
          "LiteCoin Ultra",
          "PopularCoin",
          "PhantomX",
          "HTML Coin",
          "Photon",
          "Sucre",
          "Fantasy Cash",
          "SparksPay",
          "Digiwage",
          "GunCoin",
          "IrishCoin",
          "Trollcoin",
          "Litecoin Plus",
          "Monkey Project",
          "Pioneer Coin",
          "UnitedBitcoin",
          "Interzone",
          "OP Coin",
          "Valorbit",
          "TokenPay",
          "1717 Masonic Commemorative Token",
          "My Big Coin",
          "TurtleCoin",
          "MUNcoin",
          "Unified Society USDEX",
          "Niobio Cash",
          "Bitcoin Private",
          "Skeincoin",
          "ShareChain",
          "Travelflex",
          "KREDS",
          "Tokyo Coin",
          "BiblePay",
          "LitecoinCash",
          "BitFlip",
          "LottoCoin",
          "LeafCoin",
          "Cerberus",
          "Bitcoin Hush",
          "Crypto Improvement Fund",
          "Stipend",
          "Poa Network",
          "Pushi",
          "Ellerium",
          "Velox",
          "Ontology",
          "Callisto Network",
          "Curium",
          "BitTube",
          "Dinero",
          "Poseidon",
          "Aidos Kuneen",
          "Bitspace",
          "Snowgem",
          "Briacoin",
          "Ignition",
          "Bitrolium",
          "Bitcoin Interest",
          "MedicCoin",
          "Alpenschillling",
          "Zelcash",
          "Bitcoin Green",
          "Deviant Coin",
          "Abjcoin",
          "Profit Hunters Coin",
          "Semux",
          "BitBlocks",
          "FuturoCoin",
          "Carebit",
          "Zealium",
          "Monero Classic",
          "Proton",
          "iDealCash",
          "Jumpcoin",
          "Infinex",
          "Bitcoin Incognito",
          "KEYCO",
          "HollyWoodCoin",
          "GINcoin",
          "PlatinCoin",
          "Loki",
          "Newton Coin",
          "Swisscoin",
          "Xt3ch",
          "MassGrid",
          "TheVig",
          "PluraCoin",
          "EmaratCoin",
          "Dekado",
          "Lynx",
          "Poseidon Quark",
          "BitcoinWSpectrum",
          "Muse",
          "Motion",
          "PlusOneCoin",
          "Axe",
          "Trivechain",
          "Dystem",
          "Giant",
          "Peony Coin",
          "SafeCoin",
          "Absolute Coin",
          "Vitae",
          "HexCoin",
          "TPCash",
          "Webchain",
          "Ryo",
          "MUSDcoin",
          "Urals Coin",
          "Qwertycoin",
          "ARENON",
          "EUNO",
          "MMOCoin",
          "Ketan",
          "NIX",
          "Safe Trade Coin",
          "Project Pai",
          "Mont Blanc",
          "XDNA",
          "PAXEX",
          "Azart",
          "Apollon",
          "ThunderStake",
          "Kcash",
          "Xchange",
          "Acute Angle Cloud",
          "Traid",
          "CrypticCoin",
          "Bettex coin",
          "ZestCoin",
          "X-CASH",
          "Actinium",
          "ETHER-1",
          "Bitcoin SV",
          "BitMoney",
          "Bitcoiin2Gen",
          "Junson Ming Chan Coin",
          "FREDEnergy",
          "Zenad",
          "C25 Coin",
          "HerbCoin",
          "Aquachain",
          "Universal Molecule",
          "Lithium",
          "Smart Bitcoin",
          "PirateCash",
          "Exosis",
          "Block-Logic",
          "Oduwa",
          "Beam",
          "Galilel",
          "Bithereum",
          "Crypto Sports",
          "Credit",
          "SLICE",
          "Dash Platinum",
          "Nasdacoin",
          "Vidulum",
          "Beetle Coin",
          "Titan Coin",
          "Award",
          "BlockStamp",
          "BLAST",
          "Bitcoin Rhodium",
          "GlobalToken",
          "Insane Coin",
          "ALAX",
          "The Freedom Coin",
          "LiteDoge",
          "Boolberry",
          "SolarCoin",
          "TruckCoin",
          "UFO Coin",
          "Ascension Coin",
          "OrangeCoin",
          "BlakeCoin",
          "BitstarCoin",
          "NeosCoin",
          "HyperCoin",
          "PinkCoin",
          "FantomCoin ",
          "Crypto Escudo",
          "AudioCoin",
          "IncaKoin",
          "Piggy Coin",
          "Crown Coin",
          "Genstake",
          "Quazar Coin",
          "SmileyCoin",
          "ParkByte",
          "XiaoMiCoin",
          "Groestlcoin",
          "CapriCoin",
          " ClubCoin",
          "Radium",
          "Bata",
          "Pakcoin",
          "Creditbit ",
          "OKCash",
          "Lisk",
          "HiCoin",
          "WhiteCoin",
          "Dotcoin",
          "FriendshipCoin",
          "The Hempcoin",
          "Fiii",
          "JoinCoin",
          "Triangles Coin",
          "Vollar",
          "EOS",
          "Reality Clash",
          "Oxycoin",
          "iOlite",
          "TigerCash",
          "Waves",
          "Particl",
          "BitTorrent",
          "Nxt",
          "ZEPHYR",
          "Gapcoin",
          "Beldex",
          "Horizen",
          "BitcoinPlus"
         ],
         "legendgroup": "",
         "marker": {
          "color": [
           0,
           0,
           0,
           0,
           2,
           2,
           2,
           0,
           2,
           2,
           2,
           0,
           2,
           0,
           0,
           0,
           2,
           0,
           2,
           2,
           0,
           0,
           0,
           2,
           0,
           2,
           0,
           2,
           2,
           2,
           2,
           2,
           0,
           2,
           2,
           2,
           2,
           0,
           2,
           0,
           2,
           0,
           2,
           0,
           0,
           2,
           0,
           0,
           0,
           2,
           0,
           2,
           2,
           2,
           2,
           2,
           2,
           2,
           0,
           2,
           0,
           0,
           2,
           0,
           2,
           2,
           2,
           2,
           2,
           0,
           0,
           0,
           2,
           0,
           2,
           0,
           2,
           0,
           0,
           2,
           2,
           2,
           2,
           0,
           0,
           2,
           2,
           0,
           2,
           0,
           0,
           0,
           2,
           2,
           2,
           2,
           0,
           0,
           0,
           0,
           0,
           2,
           2,
           2,
           0,
           0,
           2,
           2,
           2,
           0,
           0,
           2,
           0,
           2,
           0,
           0,
           2,
           2,
           2,
           2,
           2,
           0,
           0,
           0,
           2,
           2,
           0,
           2,
           2,
           0,
           0,
           0,
           2,
           0,
           0,
           0,
           2,
           2,
           2,
           0,
           2,
           0,
           2,
           0,
           0,
           2,
           0,
           2,
           0,
           2,
           0,
           2,
           0,
           0,
           0,
           0,
           2,
           0,
           2,
           2,
           0,
           2,
           2,
           0,
           2,
           0,
           0,
           2,
           2,
           2,
           2,
           2,
           2,
           2,
           2,
           0,
           0,
           2,
           0,
           2,
           0,
           2,
           2,
           0,
           2,
           0,
           0,
           0,
           2,
           2,
           0,
           2,
           0,
           0,
           2,
           0,
           0,
           0,
           2,
           2,
           0,
           2,
           2,
           2,
           0,
           0,
           2,
           2,
           0,
           0,
           2,
           0,
           0,
           0,
           0,
           2,
           2,
           0,
           2,
           2,
           2,
           2,
           2,
           0,
           2,
           2,
           0,
           2,
           0,
           0,
           0,
           0,
           2,
           2,
           0,
           0,
           0,
           0,
           0,
           2,
           0,
           0,
           0,
           0,
           0,
           0,
           0,
           2,
           0,
           0,
           0,
           0,
           0,
           2,
           0,
           2,
           0,
           0,
           0,
           2,
           0,
           2,
           0,
           0,
           2,
           0,
           2,
           0,
           0,
           2,
           0,
           2,
           0,
           0,
           0,
           2,
           0,
           2,
           2,
           2,
           0,
           0,
           2,
           0,
           0,
           0,
           2,
           2,
           2,
           0,
           0,
           0,
           2,
           2,
           2,
           0,
           0,
           0,
           0,
           0,
           0,
           0,
           2,
           0,
           0,
           0,
           0,
           0,
           0,
           0,
           0,
           2,
           0,
           0,
           0,
           0,
           0,
           0,
           2,
           2,
           0,
           2,
           0,
           0,
           0,
           0,
           0,
           0,
           2,
           0,
           2,
           0,
           2,
           2,
           0,
           0,
           2,
           2,
           0,
           2,
           2,
           0,
           2,
           2,
           2,
           2,
           0,
           2,
           0,
           0,
           0,
           2,
           0,
           0,
           0,
           2,
           0,
           0,
           0,
           0,
           0,
           2,
           0,
           0,
           2,
           2,
           0,
           2,
           0,
           0,
           0,
           0,
           0,
           2,
           0,
           2,
           0,
           2,
           2,
           2,
           2,
           0,
           2,
           0,
           0,
           2,
           0,
           2,
           0,
           2,
           2,
           0,
           2,
           0,
           2,
           2,
           2,
           0,
           2,
           0,
           2,
           0,
           2,
           0,
           3,
           2,
           0,
           2,
           2,
           2,
           2,
           2,
           2,
           0,
           0,
           2,
           0,
           0,
           0,
           2,
           0,
           2,
           0,
           2,
           0,
           2,
           0,
           0,
           0,
           0,
           2,
           0,
           0,
           2,
           0,
           0,
           0,
           0,
           0,
           0,
           2,
           2,
           2,
           2,
           2,
           2,
           0,
           0,
           0,
           0,
           0,
           2,
           0,
           2,
           2,
           2,
           0,
           0,
           2,
           2,
           2,
           0,
           0,
           2,
           0,
           0,
           2,
           2,
           0,
           2,
           0,
           2,
           2,
           0,
           0,
           0,
           2,
           2,
           2,
           0,
           0,
           0,
           2,
           0,
           2,
           2,
           0,
           2,
           2,
           2,
           2,
           2,
           2,
           0,
           3,
           3,
           2,
           2,
           2,
           2,
           2,
           2,
           0,
           0,
           0,
           0,
           0,
           0,
           2,
           2,
           2,
           2,
           2,
           2,
           0,
           2,
           0,
           0,
           2,
           2,
           0,
           2,
           0,
           0,
           0,
           0,
           0,
           0,
           0,
           2,
           0,
           0,
           2,
           0,
           0,
           2,
           2,
           0,
           2,
           0,
           2,
           2,
           2,
           2,
           0,
           0,
           2,
           0,
           2,
           0,
           0,
           0,
           0,
           0,
           0,
           2,
           2,
           2,
           0,
           0,
           0,
           0,
           0,
           0,
           0,
           2,
           0,
           2,
           2,
           0,
           2,
           2,
           0,
           0,
           0,
           0,
           2,
           0,
           2,
           0,
           0,
           0,
           2,
           0,
           0,
           0,
           2,
           3,
           0,
           2,
           0,
           2,
           2,
           2,
           2,
           2,
           0,
           2,
           0,
           2,
           0,
           2,
           0,
           2,
           2,
           2,
           2,
           2,
           2,
           2,
           0,
           2,
           0,
           2,
           0,
           0,
           2,
           0,
           0,
           2,
           0,
           0,
           0,
           2,
           2,
           2,
           2,
           0,
           0,
           0,
           0,
           2,
           2,
           0,
           2,
           0,
           0,
           2,
           0,
           0,
           0,
           0,
           2,
           2,
           0,
           0,
           0,
           2,
           0,
           2,
           2,
           0,
           0,
           2,
           0,
           0,
           0,
           2,
           2,
           0,
           0,
           0,
           0,
           0,
           2,
           0,
           0,
           0,
           2,
           0,
           2,
           0,
           2,
           0,
           2,
           0,
           3,
           0,
           1,
           0,
           0,
           0,
           2,
           2,
           0
          ],
          "coloraxis": "coloraxis",
          "symbol": "circle"
         },
         "mode": "markers",
         "name": "",
         "scene": "scene",
         "showlegend": false,
         "type": "scatter3d",
         "x": [
          -0.3119094208043732,
          -0.29805967515233145,
          -0.1403243402748375,
          0.2876196954572108,
          -0.16121901251604495,
          -0.254303128358081,
          -0.3322119788370868,
          -0.2128172905929323,
          -0.17495233237697086,
          -0.2542286359807877,
          -0.21187105184158514,
          0.21489832532217504,
          -0.01664680590915982,
          -0.14030742348963388,
          -0.21293583008097652,
          0.017640444841415293,
          -0.3329636838408428,
          -0.10811481457786376,
          -0.233919459093219,
          -0.1614543142028828,
          0.061123258375698035,
          -0.0966840829368785,
          -0.15410208009451162,
          -0.3328791892661873,
          -0.31167139055656845,
          -0.16145431430442775,
          -0.30356921400556136,
          -0.14419914047538004,
          -0.33304067679530847,
          -0.15922031018532393,
          -0.3313469916118122,
          -0.3329428214447766,
          -0.31029417005883325,
          0.008892669480572097,
          -0.26232582801575033,
          -0.33260044207723255,
          -0.23406580406947933,
          -0.31190886248366967,
          -0.33303939537046195,
          -0.3119094215140791,
          -0.332944630364842,
          -0.3118957825135798,
          -0.3329776549147111,
          -0.1452282110922533,
          -0.15410208037374945,
          -0.2340002165027402,
          0.2620925024836278,
          -0.1403243402748392,
          -0.24180282715778612,
          0.04272358523922274,
          -0.2129358300890599,
          -0.3330393952851642,
          0.0849604330888744,
          -0.16845956444402824,
          -0.33276493647302424,
          -0.3330393955288586,
          -0.3301666100972876,
          -0.33278349182149847,
          0.05268121774835107,
          -0.3330397293075054,
          -0.055128489094746366,
          -0.19727671134972039,
          -0.16145431420623121,
          -0.4184001434328489,
          -0.3330243964732536,
          -0.23776668381905644,
          -0.3214348750565031,
          -0.3321774132889977,
          -0.3324926081510316,
          -0.2129358301000161,
          -0.10845006998795562,
          -0.310737755509049,
          -0.16635818477445172,
          -0.03309720287691504,
          0.8560678651080217,
          -0.21270415444125199,
          -0.16117750764531827,
          -0.21293583008763392,
          -0.09668408298898722,
          -0.3310515817279529,
          -0.3327857292350504,
          -0.33302490029790943,
          -0.3330393955522512,
          -0.21293583007997433,
          0.06473210270907993,
          -0.33253863428773267,
          -0.3232788736128674,
          0.12538969468341285,
          -0.3329632126685185,
          -0.11914206719968042,
          -0.1538897107527256,
          -0.09581666183693009,
          -0.16145431436455296,
          -0.3019838247267909,
          -0.16126089278701064,
          -0.32864619632792086,
          -0.09648514922675867,
          -0.21933330690901973,
          -0.3089866900173169,
          -0.3109386749329285,
          0.07286979260730753,
          -0.3330393953184201,
          -0.3330249028154759,
          -0.3327215616148863,
          -0.108450069991296,
          -0.3119094213589773,
          -0.33270346682820845,
          -0.22742387501241132,
          -0.3330393953484829,
          -0.05446292926063024,
          -0.2129358146280147,
          -0.15406028687572224,
          0.013632582791724844,
          -0.1608828754468462,
          0.047761464657555736,
          -0.21291703646026325,
          -0.161153277568052,
          -0.16145431420630663,
          -0.16142441278279082,
          -0.1614516771461626,
          -0.2340499575451223,
          -0.2974852092758188,
          -0.311250063303558,
          -0.09668408291683699,
          -0.33273553010706663,
          -0.23406580399933336,
          -0.36152744228738143,
          -0.2291996765868758,
          -0.3314695044934727,
          -0.31190942136231753,
          -0.21284459749798673,
          0.013891672885299017,
          -0.16093985369643554,
          -0.09624971377849392,
          -0.3119094215226514,
          -0.30996699025094426,
          2.303136540913478,
          -0.022165946953633386,
          -0.23044255520396548,
          0.015892961822867514,
          -0.33214431168850106,
          -0.13981085172724725,
          -0.16145431420087872,
          -0.15410208009650503,
          -0.24114800841933035,
          -0.32759192489832484,
          -0.1537452721094963,
          -0.3312344184763088,
          -0.09665753725016349,
          -0.3330370075201257,
          -0.15180977762262607,
          -0.331040778955168,
          0.017483001041071346,
          -0.3118901553218964,
          -0.09659093400338851,
          -0.0966840829569203,
          -0.32263701212095547,
          -0.21293583011040448,
          -0.18359749096014466,
          -0.30424749129778883,
          -0.05509318390774779,
          -0.16550354501495723,
          -0.22790310354780366,
          -0.10845006998795562,
          -0.3329063029189869,
          -0.311909421355637,
          -0.3117571045396185,
          -0.2725267584787275,
          -0.16145431419753864,
          -0.3130424755133485,
          -0.33303939555892115,
          -0.2340658041095628,
          -0.3330312643697352,
          -0.16129073711088387,
          -0.33303854475225,
          -0.311909421355637,
          -0.21291596207162736,
          -0.2340658041095628,
          0.5116644777214711,
          -0.23364288231648409,
          -0.311909421355637,
          -0.26412761511976707,
          -0.1612607511418697,
          -0.21829424446229942,
          -0.23385758449492766,
          0.07991737129085333,
          -0.06137993486026379,
          -0.2129358300766342,
          -0.33261196264921644,
          -0.3320469238304621,
          -0.15278953809290746,
          -0.2555787744058694,
          -0.0551284887681622,
          -0.09638163916374443,
          0.349723290454656,
          -0.13975916560227433,
          0.06112325838621275,
          -0.10827247580197828,
          -0.23385753384690788,
          -0.1611787135059212,
          -0.08994046971434574,
          -0.33303945039314964,
          -0.33028305719002965,
          -0.37007019742634367,
          -0.14027617409128415,
          -0.06860459437611534,
          -0.33212276721913,
          -0.11281779616200864,
          -0.14025701983257188,
          0.026615846628420994,
          0.12389193697569828,
          -0.0651109353557765,
          -0.047620813419692834,
          -0.3117913091861443,
          -0.3119094213696663,
          -0.16145431424764284,
          -0.23406581151498956,
          -0.1535708024878161,
          -0.22742389154685536,
          -0.233473712204393,
          -0.33303946542446233,
          -0.19995070317679098,
          -0.33303104200047934,
          -0.14032434097630042,
          -0.1667377449630724,
          -0.30643825779816897,
          -0.21279923154305463,
          -0.1614543143378307,
          0.3311606941356698,
          -0.1402668893616586,
          -0.2347376171331844,
          0.05286917760816102,
          -0.3329531507164544,
          -0.23388658847698288,
          -0.21293583007696823,
          -0.21293583014678022,
          -0.2111697398335845,
          0.05260666916869437,
          -0.14030864924770256,
          -0.161454314205626,
          -0.14010563547081153,
          -0.19618138982535444,
          -0.10845007010820613,
          -0.21261573134552245,
          -0.19727671140108077,
          -0.3119094216050455,
          -0.311909422524739,
          -0.3330313041397563,
          0.02778565635402757,
          -0.3012372473101274,
          -0.3118500115874553,
          -0.3105968794088243,
          0.06118888484506366,
          -0.2340477183396208,
          -0.046505088170156465,
          0.0060834734807958925,
          -0.21273154782998707,
          -0.055128489094746366,
          -0.31134285621802643,
          -0.1127151233968959,
          -0.14031652508760786,
          -0.1613723611901111,
          -0.2129271983315661,
          -0.3118755319778544,
          -0.15323276583408899,
          -0.3118839594923109,
          -0.3315057529257487,
          -0.212935863479551,
          -0.15187602649699738,
          -0.16133478476142799,
          -0.3752469982718934,
          -0.33289345117725405,
          0.04283995236508586,
          0.05357839398791772,
          -0.3114694183712236,
          -0.33303939557061213,
          -0.2094618184137526,
          -0.22742387487879953,
          -0.22470975061589335,
          -0.16145432087812162,
          0.05455864017390931,
          0.061156073575302165,
          0.005485872352285965,
          -0.24570267269384388,
          0.05284054595068027,
          -0.19992289919009942,
          -0.2553725706188754,
          -0.1614543145315674,
          -0.21189427735927885,
          7.392990436203611,
          -0.2126950730007219,
          -0.3119094246959288,
          -0.33046293481544353,
          -0.2119679575764853,
          -0.22325045727534074,
          1.1133856923850578,
          -0.21288525354633722,
          0.05326294019220547,
          -0.21412673963880707,
          -0.3116851132587452,
          -0.3119094220236953,
          -0.3118772697566509,
          -0.23326036564473504,
          0.05286917760816102,
          -0.21285616575855984,
          -0.14016136782057126,
          -0.3116437100962384,
          -0.16883902079717558,
          -0.311763982282945,
          -0.31176616717807276,
          -0.2129251371920107,
          -0.1128049576038441,
          -0.3117994587112788,
          0.28970962049447596,
          -0.3118638370287791,
          -0.3118659002341443,
          0.1845612381758795,
          -0.20645992494606097,
          -0.33302766081815127,
          -0.11269498044764313,
          -0.21293583091170695,
          -0.2642833689648883,
          -0.0966840844199682,
          0.05260666888476895,
          -0.3115948673855219,
          -0.14029118449695033,
          -0.21286155206760082,
          -0.21293583041066333,
          -0.2340658043355002,
          -0.3117542562441168,
          -0.22701802126670978,
          -0.31190537644922495,
          -0.3330393953451424,
          -0.17503412832795606,
          -0.1540637196794499,
          -0.3863395143579425,
          -0.21670573200809995,
          -0.3329985062111527,
          0.06131390316750256,
          -0.2336669842798627,
          -0.2118771079291556,
          -0.2987840018875081,
          -0.3317289086635864,
          -0.26406457330846383,
          -0.2557165308301323,
          -0.23406580470079463,
          -0.1536289038716915,
          -0.2665855752055814,
          -0.21276306376359075,
          -0.20885826884954686,
          -0.21148375982806913,
          -0.332198120856653,
          -0.15410208041383294,
          0.05406537369873341,
          -0.21265335395988685,
          -0.21827381415133704,
          0.05787549349515552,
          -0.21133892125277653,
          -0.31183895189771116,
          -0.31189434921314835,
          -0.3119028619845247,
          -0.3330393953484829,
          0.018802455933913716,
          -0.21271044856129073,
          -0.33277326302278154,
          -0.3330393952816769,
          -0.15022830893854347,
          -0.14415832945602833,
          0.05275617065038541,
          -0.3116290788982024,
          -0.2129358370695346,
          0.42521645786182183,
          0.0176187581040188,
          -0.3328599262781791,
          0.028591690857905167,
          -0.17427197809431144,
          0.3739200339865481,
          -0.28885464673722466,
          -0.08295690664008946,
          -0.31533538824302837,
          -0.08906778147115477,
          -0.1972219602285936,
          -0.23360459042943293,
          -0.1964505704016569,
          -0.24705597354729344,
          -0.3328013894914843,
          -0.09640493031721734,
          -0.33297156629700464,
          -0.2129358301030411,
          -0.23372398715641712,
          -0.23403137757473663,
          -0.19319104546719804,
          -0.11263191662866202,
          -0.0963964128513657,
          -0.2569600375914243,
          1.807127032419072,
          -0.18729155572433998,
          0.1560033138782537,
          -0.23245826313605775,
          -0.24652403375568396,
          -0.16121811454488202,
          -0.2127708532232167,
          -0.3330393986520313,
          -0.15385711642915648,
          7.8181426562976375,
          -0.3330330617124967,
          0.052659170704270376,
          1.5439836095054762,
          -0.3330393986186284,
          -0.33291202569094164,
          -0.33281030771839804,
          -0.3326108934638506,
          -0.3325968519529846,
          -0.3116529561628102,
          -0.3118542945938707,
          -0.1127003677939605,
          0.179242207205195,
          0.7019127824932143,
          -0.2128405080694075,
          -0.1435641876524137,
          -0.21697837396185848,
          -0.19858968656802783,
          -0.31189444878009565,
          -0.24045087277385432,
          -0.05061902776221413,
          -0.211742169313889,
          0.3241415601688331,
          -0.13911613493901484,
          -0.18991908608263663,
          -0.1312305734839419,
          -0.199579451907085,
          -0.31188120586187695,
          0.027018948113605234,
          -0.33172698456614935,
          0.09309186143585384,
          -0.3116946560837923,
          -0.2377213105802961,
          -0.2129358300889493,
          0.1844231877612576,
          0.13561177612298392,
          -0.23176602293631976,
          -0.24042187494939457,
          -0.33303939628042417,
          -0.2555490975355462,
          -0.3330393956294014,
          -0.2404290013820329,
          4.395643731854508,
          -0.21243445784974951,
          7.395351547355222,
          0.17547404232345942,
          -0.09427512194188832,
          -0.16003526947283123,
          -0.3104528023081222,
          0.14026397854336098,
          -0.1127587317395071,
          -0.24887963786362513,
          -0.039295495300470516,
          0.18464573952835353,
          -0.23301162166125025,
          -0.16145431426768442,
          -0.1693865121147084,
          -0.24744407071054358,
          -0.3117989136414235,
          -0.28100759449069096,
          -0.2123428995834449,
          -0.1403246409010914,
          0.2837328711880963,
          -0.234010296120783,
          -0.31190942137100236,
          -0.24040255216918316,
          0.18478150745347918,
          -0.2365705795494164,
          -0.3324424112389139,
          -0.3041520009050049,
          -0.31187654892834143,
          -0.055070641784939964,
          -0.23395452537208747,
          -0.16118962698854433,
          -0.2690946969306451,
          -0.31190942803622046,
          -0.6199969498244837,
          0.027547509404906526,
          -0.07675797671018425,
          -0.35560686815725373,
          0.5846616687584473,
          -0.25878804180527126,
          -0.3088269655972151,
          -0.1110598769554188,
          -0.2119679575764853,
          -0.2682752573209399,
          -0.2017852005970473,
          -0.19861685570684443,
          -0.2214212632010906,
          0.06414602648979657,
          -0.5281890144297186,
          1.105868998287416,
          -0.33287603508709607,
          -0.14283876556447261,
          -0.33303946542446233,
          -0.2405055528747135,
          -0.2119679575764853,
          -0.23129243482573952,
          -0.24797345462952064,
          1.8100110691655644,
          -0.21290737651287833,
          -0.19906188376907308,
          -0.15376646322030513,
          -0.02224050542986992,
          -0.25246653288428,
          -0.23406580407281963,
          -0.1117671213821185,
          -0.2405055531035235,
          -0.3329859720931032,
          -0.2133757807816919,
          -0.19709574009304023,
          -0.2119679577872446,
          -0.31189832201181333,
          -0.31189390510782666,
          -0.21103138693483806,
          -0.21196795758082787,
          -0.15059368669255618,
          -0.22445023279386175,
          -0.1908379842851008,
          0.11175025793148398,
          0.05289380837690401,
          -0.3117797356846565,
          -0.31190942168966623,
          7.852963620384138,
          -0.31190942302578306,
          -0.2336483967093606,
          0.028449987315033273,
          0.05275203634425653,
          -0.11260756804978733,
          -0.06366941037518552,
          -0.2934792772006551,
          -0.21813014126262367,
          -0.2642410849017905,
          -0.04737268022717445,
          -0.2822446016398116,
          -0.1535940368867545,
          -0.22471738802078978,
          -0.11281669163142498,
          0.2085366074548931,
          0.42918962417985024,
          -0.17803014278072227,
          -0.15400193321046254,
          -0.12246109017645032,
          -0.21369045137605155,
          -0.10546643450631481,
          -0.31162592117063337,
          0.049754763909093155,
          1.4346980098142095,
          0.18445883796655768,
          0.018241794537287744,
          3.1805885106777247,
          -0.2425578718601076,
          -0.24273291472293712,
          -0.23400026843048127,
          -0.22104992198393117,
          0.18451614733437618,
          0.026693542484673954,
          -0.1540884595698362,
          -0.20134039128459702,
          -0.20856638307310815,
          0.18529017274972207,
          -0.33302080105045645,
          -0.31183849750339665,
          -0.1749736137956799,
          -0.2607076844672934,
          -0.31190942168966623,
          -0.2200038118652661,
          1.5149612598379705,
          -0.054875568479159614,
          -0.2125319462049215,
          -0.15268763457830575,
          0.05272909106313883,
          -0.22987135365261707,
          -0.15410208284556512,
          -0.13389093331446775,
          -0.1541020802735402,
          -0.195514430204029,
          -0.055069363803271744,
          -0.2339999685190611,
          0.02661584586079001,
          -0.2979971360176755,
          0.3948521974187924,
          -0.24253650539431382,
          1.154742773180904,
          -0.2193755796885487,
          -0.15638035376174955,
          -0.04117095802362779,
          0.005485872675292359,
          -0.22764494091022408,
          -0.2246301245451496,
          -0.255716529356288,
          -0.16121815490555705,
          -0.21006645102004345,
          -0.2557165296446684,
          0.17075903667424028,
          -0.08831193847157355,
          0.29029999728693234,
          -0.2588512845066696,
          0.027079333883663008,
          -0.24623573846617744,
          -0.22653741335980757,
          -0.2263501337859863,
          -0.1614543142676838,
          -0.03285376547072115,
          -0.19338566659909584,
          -0.33257626884758795,
          -0.31171545984191357,
          -0.21149954459518375,
          0.026855582627515612,
          -0.21163784288960524,
          0.18444858174461554,
          0.09269080591069247,
          -0.22781699447432335,
          -0.05511909549375256,
          -0.3116397397662726,
          -0.37370154185765597,
          -0.1964562411479449,
          -0.20236161363917415,
          -0.21273343438142808,
          -0.16145431454826908,
          -0.1607679356953028,
          -0.11779869626267944,
          -0.16034373204607621,
          -0.21262376064495656,
          7.40469565798802,
          -0.05512848884422419,
          -0.11084266837307728,
          -0.23406580406096172,
          -0.33231040783999855,
          -0.20975194238319697,
          -0.1903049582391318,
          -0.20685667668202576,
          -0.31186299543440854,
          -0.22625158425410857,
          -0.3116393458544372,
          0.01754065121750077,
          -0.31178300778357537,
          -0.20720850593135787,
          -0.11281779616185231,
          -0.32279880330147454,
          -0.29903692732386916,
          0.09514213537732664,
          -0.20644871570618523,
          -0.1611526011745174,
          -0.3111218960372362,
          -0.11281779616200864,
          0.055262805930222404,
          -0.1403243403583464,
          -0.3066025980018087,
          -0.2620141042983157,
          -0.21029283883539543,
          -0.31054934095318926,
          0.052656824654748316,
          -0.33297307836232726,
          -0.33212475794546226,
          -0.06227866422896742,
          -0.13934418569944676,
          7.393145448065362,
          -0.022844673889677664,
          -0.3086017427776224,
          -0.3330393982511961,
          -0.2193608735208753,
          -0.3119094223577243,
          0.23175958637906033,
          -0.1663144386265122,
          -0.09668223514970298,
          -0.174377830559497,
          7.404965316880035,
          -0.2553951147724692,
          7.406301980541806,
          -0.25571653265093053,
          0.0306084205092071,
          -0.36145874843621284,
          0.0527285142953674,
          31.084984223120834,
          0.06404295960476433,
          4.254954383925462,
          -0.311713445896958,
          -0.09995196477180088,
          -0.21187218743676037,
          -0.15410039569697562
         ],
         "y": [
          1.2231149145755897,
          1.2213073426167977,
          0.7934543665138036,
          1.8712804618783683,
          -1.456435575898372,
          -2.1136996388651803,
          -1.0268523058874481,
          1.4060307937226362,
          -2.1675135272046093,
          -2.1137093582320525,
          -2.0694218771816573,
          1.3448146189274104,
          -1.8592420447510631,
          0.7934521589477971,
          1.4060462644450022,
          0.42978014999763364,
          -1.0267541990773557,
          1.9441038483717283,
          -0.843832067936032,
          -1.4564048661104707,
          1.5577793057920093,
          1.9214329739190499,
          0.8594612467396848,
          -1.026765226170032,
          1.223083848637245,
          -1.4564048656778714,
          1.2220264046834988,
          -1.8425950004526517,
          -1.0267388537388342,
          -1.4566964315572646,
          -1.0269651961401869,
          -1.0267569208127165,
          1.222904102486974,
          -0.7128529018956155,
          -1.3696220676778394,
          -1.026801606670126,
          -0.8438129679217029,
          1.2231148417140745,
          -1.0267443176070354,
          1.2231149153225263,
          -1.0267566858139083,
          1.223113134607806,
          -1.0267523757715067,
          0.41015626146697143,
          0.8594612479292886,
          -0.8438215280284314,
          0.01614881804762934,
          0.7934543665138015,
          0.8803163820726941,
          -1.8669907458331665,
          1.406046264479439,
          -1.0267443179704192,
          -1.4885650367929153,
          -1.0482240276860648,
          -1.0267801382993815,
          -1.0267443169322377,
          -1.027119251220296,
          -1.026777716423477,
          1.4759188168465622,
          -1.0267428949756983,
          1.0423925977082558,
          1.783775720675949,
          -1.456404866096206,
          0.4687654628691737,
          -1.0267462753916239,
          -1.6449404380672552,
          -1.0282588453873711,
          -1.0268568173525225,
          -1.0268156801251256,
          1.4060462645261138,
          1.944147598913237,
          1.222961998048542,
          -1.8397029722046454,
          1.0395172152307288,
          -1.1819376631565923,
          1.4060160279232696,
          -1.456440992845869,
          1.406046264473363,
          1.9214329741410419,
          -1.027003750916398,
          -1.026777424576251,
          -1.0267462097720537,
          -1.0267443168325803,
          1.4060462644407326,
          2.5649107651117795,
          -1.0268096735084287,
          -2.2838583120858793,
          0.822983786308657,
          -1.0267542607234594,
          0.7906898264953987,
          0.8594335296625722,
          1.9213197636401014,
          -1.4564048654217265,
          -1.0307972834543677,
          -1.4564301099560586,
          -1.0273176852864196,
          1.9214070102940655,
          0.6052707324120162,
          1.2227334644352554,
          1.2229882204498137,
          1.1728960183093364,
          -1.0267443178287425,
          -1.026746209172419,
          -1.0267857961466609,
          1.9441475989274672,
          1.223114914661765,
          -1.0267881605035831,
          -2.0644130475890985,
          -1.0267443177006705,
          1.0423057317605158,
          1.4060462624102623,
          -1.45736987454543,
          0.0463651033114242,
          -1.4564794459775117,
          1.5047234167164432,
          1.4060438117430922,
          -1.4564441549092848,
          -1.4564048660958846,
          -1.4564087675691084,
          -1.4564052103006937,
          -0.8438150363973322,
          1.221232381775424,
          1.2230288608751632,
          1.9214329738336682,
          -1.026783976200637,
          -0.843812968220538,
          0.48384838077648196,
          -1.4574269551523913,
          -1.0269492063379038,
          1.223114914675995,
          1.4060343574158043,
          0.04633128716737379,
          -1.4564720095723553,
          1.921376282780879,
          1.2231149153590464,
          1.2228614148871608,
          -2.611393658012185,
          -2.3079126114135184,
          -0.4877956381765716,
          1.3569719718766529,
          -1.026861137075042,
          0.7933873502450441,
          -1.4564048661190085,
          0.8594612467481785,
          0.8802309193023538,
          -1.0274552634543679,
          0.8594146782411131,
          -1.0269798896117148,
          1.92142950943034,
          -1.0267446295980245,
          0.8591620769061257,
          -1.0270051622786927,
          0.42980069837255963,
          1.2231124001693194,
          1.921420816777411,
          1.9214329740044314,
          -1.0281019560286402,
          1.4060462645703702,
          -2.353993817381108,
          -1.9667153140403435,
          1.0423879887998695,
          -1.8398145148422334,
          -1.2656141765637174,
          1.944147598913237,
          -1.0267616883076216,
          1.2231149146475349,
          1.2230950355169539,
          -1.0346418983437042,
          -1.456404866133239,
          -2.1274167677611278,
          -1.0267443168041657,
          -0.8438129677509401,
          -1.0267453791846044,
          -1.456426214867778,
          -1.0267431599304733,
          1.2231149146475349,
          1.4060436713828879,
          -0.8438129677509401,
          3.2744892633598295,
          -0.8438681647702048,
          1.2231149146475349,
          -2.272804716357763,
          -1.4564301279907665,
          2.0240498378756495,
          -0.8438401433949366,
          1.330857111998825,
          0.9706369790218724,
          1.4060462644265026,
          -1.0268001008438281,
          -1.0268738455103803,
          0.8592899433932084,
          -2.1135331495537835,
          1.042392596316951,
          1.9213935015192973,
          -2.442670752564995,
          0.7933806173623122,
          1.5577793057472151,
          1.9441244208305628,
          -0.8438401500741605,
          -1.4564408354647358,
          1.0162425176942254,
          -1.0267440832005774,
          -1.0271040545369234,
          -2.2912209249648265,
          0.7934480804782762,
          1.3872094505339614,
          -1.026863949211287,
          -2.29608145558848,
          0.7934455804295808,
          1.5374509607210916,
          -1.4936461164429993,
          1.7665262977171283,
          0.0614935399114665,
          1.2230994999898424,
          1.2231149147073013,
          -1.4564048659197852,
          -0.8438129362025021,
          0.8593919106428792,
          -2.0644129771494204,
          -0.8438902430564502,
          -1.0267440191645059,
          -2.1835472784175245,
          -1.0267454058930618,
          0.7934543695021515,
          -2.15940287075986,
          -2.3720136995245626,
          1.406028441765685,
          -1.4564048655355688,
          0.7961292509068459,
          0.7934468689436659,
          0.08099135230491593,
          1.4758942858162525,
          -1.026755573806474,
          -0.8438363579274625,
          1.406046264427926,
          1.4060462647253376,
          1.405815766776059,
          1.4759285466523175,
          0.7934523216946764,
          -1.4564048660987838,
          0.7934258298181777,
          1.7836327676220756,
          1.9441475994255255,
          1.4060044891261885,
          1.7837757208947533,
          1.2231149157100591,
          1.2231149196281184,
          -1.02674537399412,
          1.6114666451662394,
          1.2217220790495127,
          1.2231071614800788,
          1.2229436115344785,
          1.557770743311642,
          -0.8438153282991061,
          1.041267134832454,
          -1.651299141418658,
          1.4060196035175756,
          1.0423925977082558,
          1.2230409714687345,
          -2.296094855890767,
          0.7934533468157503,
          -1.4564155619758388,
          1.4060451379083028,
          1.2231104919146396,
          -1.8414160010868286,
          1.2231115915296829,
          -1.0269444763292148,
          1.4060464067288834,
          0.8591707163839276,
          -1.4564204661960236,
          0.4320797517078399,
          -1.026763365266574,
          2.1216002840530215,
          1.475801724222629,
          1.2230574883015657,
          -1.0267443167543597,
          1.4055928795667851,
          -2.064413048158309,
          -2.324212722578764,
          -1.4564048376727627,
          1.4756737883563502,
          1.5577750229021552,
          -0.7124082704202548,
          2.051289437987905,
          1.4758980265113466,
          2.15328395021673,
          -2.113560061811177,
          -1.4564048647102152,
          -2.0694188459371845,
          0.6029432206575255,
          1.406014842782696,
          1.223114928877773,
          -1.0270804430256804,
          -2.069409229671399,
          -0.8452245104827174,
          1.7635024986647738,
          1.4060396635577772,
          1.4758428948823352,
          2.1551377366986655,
          1.2230856399359704,
          1.2231149174935827,
          1.2231107190079775,
          -0.8439180856842693,
          1.4758942858162525,
          1.4060358679822023,
          0.7934330966781794,
          1.223080236186351,
          0.9266890116481727,
          1.2230959332659193,
          1.2230962270134584,
          1.4060448689292764,
          -2.2960831311589005,
          1.2231005650202131,
          0.8015382600432521,
          1.2231089654551113,
          1.223109234597755,
          1.1737792750841627,
          0.9842041797202014,
          -1.026745849467972,
          -2.296097484611414,
          1.4060462679840622,
          -2.272784389142041,
          1.9214329802372758,
          1.4759285478618873,
          1.2230738679933295,
          0.7934500395256234,
          1.4060365702698236,
          1.4060462658495267,
          -0.8438129667884068,
          1.2230946637758326,
          -0.8447314198474288,
          1.2231143870350452,
          -1.026744317714901,
          -2.1675028491737574,
          0.8594562407186347,
          0.4028187324938424,
          -1.6199625386089123,
          -1.0267496545299564,
          1.5577544241696408,
          -0.8438650057986323,
          -2.069421086835422,
          1.2214018835169738,
          -1.0269153528639037,
          -2.2728129447853944,
          -2.113515164433765,
          -0.843812965232188,
          0.8593994910856425,
          -2.324558508597877,
          1.4060237174632697,
          1.5771225050285431,
          1.4058567511191584,
          -1.0268540605230772,
          0.8594612481000509,
          1.4757381672785164,
          1.406009398848699,
          -0.46610085279412994,
          1.475240899062251,
          1.4058378531041138,
          1.2231057177219071,
          1.2231129479234188,
          1.2231140723550922,
          -1.0267443177006705,
          0.4296295262183661,
          1.4060168496394387,
          -1.02677905137162,
          -1.0267443179852753,
          0.858955694525282,
          -1.458662191799223,
          1.4759090348920072,
          1.2230783276101271,
          1.406046294217506,
          1.8744981340490308,
          0.42978298299803563,
          -1.0267677401403839,
          1.611361447669179,
          -2.167602321200335,
          2.0548733605588825,
          -2.072051933173515,
          -2.386200124778641,
          -2.214060095771977,
          -2.29918112668534,
          1.7837685750427885,
          -0.8438731614556212,
          1.78366789974512,
          1.3130017413264325,
          -1.0267753807107631,
          1.921396541054242,
          -1.0267531695652268,
          1.406046264539002,
          -0.8438575791181979,
          -0.8438174610742806,
          1.2076212491683698,
          -2.296105714893478,
          1.921395429256502,
          -2.331888761947895,
          -1.3060622502788903,
          -1.6238014194207835,
          1.30664435891453,
          -0.8440227588914304,
          1.312932315982537,
          -1.4564356930957634,
          1.4060247328449176,
          -1.026744303626965,
          0.8594292756790134,
          3.081277287472278,
          -1.0267449997755975,
          1.4759216951340026,
          -1.271721230163813,
          -1.0267443037692674,
          -1.0267609411790297,
          -1.0267742158686108,
          -1.0268002419076743,
          -1.0268020745149282,
          1.2230814431335966,
          1.2231077199167864,
          -2.296096780608488,
          1.3494681766267063,
          1.360030029460285,
          1.4060338239865917,
          -2.0783365582664346,
          0.6049633872484157,
          -0.8484430569705468,
          1.2231129607407667,
          -1.6445901193341075,
          0.42882515832108387,
          -2.069438698096257,
          1.140101995929396,
          0.7932966807409273,
          1.7828154675198997,
          1.8711419436802952,
          -2.1835957299916924,
          1.2231112324333142,
          1.5373983530006665,
          -1.0269156039846665,
          1.3066982525347757,
          1.2230868850761858,
          0.7454105805161236,
          1.4060462644789675,
          1.1737972933597736,
          0.4143834182146131,
          -0.8441131159543532,
          -1.6445939036944586,
          -1.026744313730434,
          -2.113537019157921,
          -1.0267443165039074,
          -1.6445929737806095,
          0.69721568909079,
          1.4059808305499872,
          0.602635068861753,
          1.735127115059764,
          1.9211185747121324,
          -1.84052818972257,
          1.2229248090397766,
          -2.3291108810008825,
          -2.296089164377227,
          -2.1144073398519043,
          1.4200993599018805,
          1.173768246582706,
          -0.8439505456997052,
          -1.456404865834404,
          -2.168239928308522,
          1.2147020034083624,
          1.2231004939639836,
          -1.0335351034069675,
          1.4059688796601095,
          0.7934556472352281,
          -1.2851426509579962,
          -0.8438202124769949,
          1.2231149147129936,
          -1.6445964259099188,
          1.1737505284099594,
          -1.645096543604341,
          -1.026822231615437,
          1.222102478678161,
          1.223110624405942,
          1.0423850467614748,
          -0.8438274912705498,
          -1.4564394111190173,
          -1.2775222954852843,
          1.2231149431080108,
          2.535622708395933,
          1.6114977264497434,
          -0.22731237814220642,
          0.5138785075131909,
          -2.387098173799481,
          -1.5044569059990982,
          1.2227126156428505,
          -2.296310883462202,
          -2.069409229671399,
          -0.9368458363209606,
          -1.0438746293051144,
          -2.1837213626035994,
          -1.4584421293838559,
          1.5573848045715195,
          2.5839647783252495,
          2.0051530676838927,
          -1.0267656381641657,
          -1.0515678210909654,
          -1.0267440191645059,
          -1.6445829827786442,
          -2.069409229671399,
          -0.8441749235448001,
          0.9723380767060963,
          2.1522223457387986,
          1.4060425511961017,
          1.6256405137081036,
          0.8594174456784378,
          1.5926908790976635,
          -2.1139392497744174,
          -0.8438129679074725,
          -2.296218569330851,
          -1.6445829818038726,
          -1.0267512901587104,
          -2.251911067129046,
          1.783752102158176,
          -2.0694092287735284,
          1.2231134660742922,
          1.223112889636117,
          -2.0695314641429596,
          -2.0694092296529,
          0.8590033605770239,
          -2.3242465893246513,
          0.18045000566515593,
          1.3157520966317924,
          1.4758910721055063,
          1.2230979893256915,
          1.2231149160705586,
          0.7710776221057583,
          1.2231149217626538,
          -0.8438674441430668,
          1.5372115830123085,
          1.4759095751646403,
          -2.2961088932037144,
          0.4616493763570113,
          1.220709601992447,
          -0.4661196044269886,
          -2.272789907560121,
          1.1902138292243654,
          -2.238079267269161,
          0.8593949403558626,
          -2.3242117259443917,
          -2.296081591722555,
          -2.2605253808243813,
          -2.366818223428718,
          1.2056419971158134,
          0.859448176596266,
          -2.18836463012039,
          2.155080699993595,
          -2.2970408942631586,
          1.223077915194252,
          1.5804420538505917,
          0.06816549874630935,
          1.1737926484570838,
          0.42970166693221823,
          1.0796790093766002,
          -1.4245625645411937,
          -2.2725661248936198,
          -0.843821521209775,
          0.8252473379612524,
          1.1737851601321583,
          1.5374408201525902,
          0.8594597016980856,
          1.9556436007160718,
          0.7924971005772632,
          1.1736841404268998,
          -1.0267467444930354,
          1.2231056719189761,
          -2.1675107255513733,
          -2.0309354224626786,
          1.2231149160705586,
          -0.6242432593958087,
          -2.4310289410109323,
          1.0423595875232878,
          1.4059935528034146,
          0.8592766458121284,
          1.4759125716277022,
          -1.457339290947261,
          0.8594612584596644,
          -1.460002231507417,
          0.8594612475023807,
          0.6298886933817534,
          1.0423848810573149,
          -0.8438215602970989,
          1.5374509639913359,
          1.221299421371672,
          1.3323646645122025,
          -1.4245653520793162,
          1.4234058101211482,
          0.6052762530061641,
          -2.076664059934819,
          1.261975936529319,
          -0.7124082717963188,
          -2.1129667710957376,
          -2.324223113995405,
          -2.1135151707126036,
          -1.4564356878281488,
          1.3462629353198916,
          -2.113515169484053,
          1.012911216282718,
          -2.2992796905596937,
          0.7824130197147833,
          -1.5044486521152631,
          1.537390469826241,
          -2.321257939469541,
          -1.8247147269366661,
          -1.824739170558373,
          -1.4564048658344075,
          -0.18322674883252746,
          -2.2456146913070474,
          -1.026804760612939,
          1.223089600333936,
          -2.0694703605711022,
          1.5374196719118784,
          -2.0694523139705656,
          1.1737939782510338,
          1.170310139560457,
          -1.2656254135840725,
          1.0423913706084804,
          1.2230797187080507,
          -2.0165280417121596,
          1.6253004481418654,
          2.1536022008977467,
          1.4060198548419631,
          -1.4564048646390637,
          -1.4564944469367376,
          -0.3284282635476269,
          -1.4565498098209768,
          1.4060055355548837,
          0.6014155428262092,
          1.0423925966409882,
          1.1968734642591319,
          -0.8438129679579901,
          -1.0268381075094766,
          1.4056307239808992,
          -1.6511347852222682,
          0.9842559601052626,
          1.2231088581951843,
          -1.824751936394409,
          1.2230796668869282,
          0.42979317453375354,
          1.2230984159650675,
          1.4052987779895207,
          -2.296081455589145,
          -1.0280808400893482,
          1.221435024756081,
          0.7627228064546281,
          1.405199621976682,
          -1.4564442431877975,
          1.2230121321393406,
          -2.29608145558848,
          -1.0774223221511583,
          0.7934543668695572,
          1.222422307876902,
          -1.369662751553218,
          1.405701321159462,
          1.2229374079501276,
          1.4759220005996458,
          -1.0267529731858331,
          -1.0268636880427113,
          0.6735808745172074,
          0.7933264445213529,
          0.6029229899927816,
          0.8423305161823894,
          1.2226832219539703,
          -1.0267443053345937,
          0.6052743310060159,
          1.223114918916606,
          2.3094671627859413,
          -1.8397086822098976,
          1.9214327326766991,
          -2.1387300806923433,
          0.6013803348960327,
          -2.113557119517637,
          0.6012058821932006,
          -2.1135151566768386,
          0.42808766724197034,
          2.8673261592785737,
          1.4759126441260064,
          -2.933022008876902,
          1.6616103006895717,
          -0.05020696779377637,
          1.2230893406457473,
          -2.297760601694396,
          -2.0694217289711143,
          0.8594610266905288
         ],
         "z": [
          -0.39582913475026116,
          -0.3961566028379726,
          -0.27526814179009174,
          -0.4561937123168878,
          0.08517344056753591,
          0.2351552882822396,
          -0.03540155270753232,
          -0.34950546929700804,
          0.18537902164529343,
          0.23515352610731716,
          0.16607405156726118,
          -0.007727727659692031,
          0.18486506243011544,
          -0.2752685418640993,
          -0.34950266644270894,
          -0.03488680150736724,
          -0.0353837789989046,
          -0.4579188599256967,
          0.010941019234414678,
          0.08517900416311425,
          -0.20672080910328264,
          -0.4471058720631625,
          -0.15544407183947312,
          -0.0353857769808024,
          -0.3958347628495996,
          0.08517900404049393,
          -0.3960263321135018,
          0.1878810111168197,
          -0.035383537693624796,
          0.08512618227495489,
          -0.0354220053051593,
          -0.035384272598074605,
          -0.3958673260320431,
          0.026210460047002736,
          0.06789804026247163,
          -0.035392367664810756,
          0.010944479437481369,
          -0.3958291479533508,
          -0.035381988888817724,
          -0.39582913492855054,
          -0.035384229502749394,
          -0.3958294572205937,
          -0.03538344863197387,
          -0.17204219461576287,
          -0.15544407217666678,
          0.010942928685487355,
          -0.05429717997251067,
          -0.2752681417900837,
          -0.29253475398843526,
          0.18346131640672286,
          -0.34950266645247025,
          -0.03538198878581656,
          0.07935264279867969,
          -0.03927339968729884,
          -0.03538847821774076,
          -0.0353819890800894,
          -0.03544991466469366,
          -0.03538803953695182,
          0.034361570282553544,
          -0.0353823921340157,
          -0.10911760387690839,
          -0.3731549358375291,
          0.08517900415907108,
          -0.22779390274305897,
          -0.035382343458249345,
          0.1554509085795947,
          -0.035656374002158805,
          -0.035402369924050214,
          -0.0353949174087619,
          -0.34950266646570033,
          -0.45791093164654406,
          -0.3958568383106556,
          0.18840495163430596,
          -0.10963851519552144,
          -0.0634978292536402,
          -0.3495081443087121,
          0.08517245921884543,
          -0.3495026664507476,
          -0.44710587212608577,
          -0.0354289900934869,
          -0.03538798658578917,
          -0.03538233150507206,
          -0.03538198910833724,
          -0.34950266644149913,
          -0.41957018217441633,
          -0.03539382903404553,
          0.21175257264916236,
          -0.16205242602077335,
          -0.035383790094150644,
          -0.2757689892481791,
          -0.15544909313781693,
          -0.4471263815004054,
          0.08517900396788972,
          -0.03611633401221708,
          0.08517443079226943,
          -0.03548586375681915,
          -0.44711057566323464,
          -0.2049324771845648,
          -0.39589824205471164,
          -0.3958520876448559,
          -0.4049269243070475,
          -0.035381988825974764,
          -0.03538233152635747,
          -0.035389504722531176,
          -0.45791093165057717,
          -0.39582913474125764,
          -0.03538993174137795,
          0.23844263049413764,
          -0.03538198886227678,
          -0.1091333400831667,
          -0.34950266680273934,
          0.08500417479366587,
          0.06831796038201275,
          0.08516549277469529,
          -0.12090914815947794,
          -0.34950311083826724,
          0.08517188623213741,
          0.08517900415897973,
          0.08517829684608742,
          0.0851789418176185,
          0.010944104845746856,
          -0.39617019000560716,
          -0.3958447251299308,
          -0.4471058720389609,
          -0.03538917351541961,
          0.010944479522186319,
          -0.3178824169056077,
          0.16739721913390304,
          -0.035419108651768685,
          -0.3958291347452912,
          -0.3495048235797322,
          0.06831183482007151,
          0.08516683998704438,
          -0.4471161423417031,
          -0.3958291349389026,
          -0.39587506604334466,
          0.19917612984647276,
          0.2541567214014654,
          0.33089351756205293,
          0.06071788015442331,
          -0.035403152728732526,
          -0.27528028308615077,
          0.08517900416553445,
          -0.15544407184188092,
          -0.2925502366235198,
          -0.03551079666498894,
          -0.15545250820477058,
          -0.03542466666094024,
          -0.4471064997388723,
          -0.03538204524496843,
          -0.15549827344396933,
          -0.035429245082659634,
          -0.03488307882617826,
          -0.39582959026682263,
          -0.44710807450990225,
          -0.44710587208736385,
          -0.035627948725451726,
          -0.34950266647824463,
          0.2027076424155898,
          0.1727843434122236,
          -0.10911843831015411,
          0.18838474454944787,
          0.0403057754819607,
          -0.45791093164654406,
          -0.035385135651336705,
          -0.3958291347372241,
          -0.3958327362259174,
          -0.03681280167013456,
          0.0851790041695681,
          0.18239117627150844,
          -0.035381989116391586,
          0.010944479389078502,
          -0.03538218102879841,
          0.08517513643687966,
          -0.0353823872415117,
          -0.3958291347372241,
          -0.34950313620018164,
          0.010944479389078502,
          -0.27949159131427204,
          0.010934479749445543,
          -0.3958291347372241,
          0.2605205274942079,
          0.08517442730845905,
          -0.3870016711019136,
          0.010939556256070137,
          -0.038579876126677876,
          0.09056437667611722,
          -0.3495026664374653,
          -0.035392095936852296,
          -0.035405455980748464,
          -0.1554751061645724,
          0.23518544981938763,
          -0.10911760348254232,
          -0.44711302327957797,
          0.385209936807019,
          -0.2752815089951602,
          -0.20672080909058585,
          -0.45791513082386076,
          0.010939555079101979,
          0.0851724877304324,
          -0.32258563808308344,
          -0.03538205533138524,
          -0.03544716099922324,
          0.32506305786295775,
          -0.27526928073054546,
          -0.35291536955754765,
          -0.035403662043219514,
          0.25630015122642524,
          -0.27526973357002066,
          -0.3341561340586296,
          0.07843213667936592,
          -0.3762798874297779,
          0.09025809182422292,
          -0.39583192757552293,
          -0.39582913475416504,
          0.08517900410906451,
          0.010944470446666396,
          -0.15545663430525933,
          0.23844261052799373,
          0.010930479650872507,
          -0.035382073482425114,
          0.19665631799216662,
          -0.03538218697634187,
          -0.2752681426371323,
          0.23492382048695817,
          0.2868920736585529,
          -0.3495058977772017,
          0.08517900400015836,
          -0.16691812001964548,
          -0.2752695003344037,
          -0.04254988278281334,
          0.034357126043264144,
          -0.03538402804189698,
          0.010940242015035713,
          -0.3495026664378686,
          -0.3495026665221704,
          -0.3495444245041464,
          0.034363332861012806,
          -0.2752685137075434,
          0.08517900415980169,
          -0.2752733150452487,
          -0.3731808341860071,
          -0.45791093179175224,
          -0.3495102354816032,
          -0.3731549358995492,
          -0.395829135038397,
          -0.39582913614897175,
          -0.03538218008845629,
          -0.03563010117127441,
          -0.39608147778237085,
          -0.39583053961488823,
          -0.3958601691284864,
          -0.206722361581156,
          0.010944051798752002,
          -0.10932149942414603,
          0.03136202467316909,
          -0.3495074967296081,
          -0.10911760387690839,
          -0.3958425310762944,
          0.25629772364767,
          -0.27526832666015255,
          0.08517706641774665,
          -0.34950287054035023,
          -0.39582993611018646,
          0.18809460708437867,
          -0.3958297367621415,
          -0.035418251318211164,
          -0.34950270677310974,
          -0.15549670498728824,
          0.08517617795013631,
          -0.27200735541252025,
          -0.035385439629762226,
          -0.5024124861280297,
          0.03434035698038589,
          -0.3958395382476452,
          -0.03538198913050904,
          -0.3495848127685471,
          0.23844263065548008,
          0.2290177217266647,
          0.08517899610243904,
          0.03431718000148298,
          -0.20672158497331194,
          0.02629101147423278,
          -0.4597297674726168,
          0.034357801859745546,
          -0.49667250582389505,
          0.2351805742613802,
          0.08517900376621151,
          0.1660746007156168,
          -0.7486548893868428,
          -0.3495083590648403,
          -0.3958291387707885,
          -0.03544294820179614,
          0.16607634282404493,
          0.010688757445058861,
          -0.4757169849215247,
          -0.34950386229397407,
          0.03434781572588546,
          -0.49633666556147654,
          -0.3958344384770747,
          -0.3958291355439371,
          -0.3958298951081926,
          0.010925434653888637,
          0.034357126043264144,
          -0.3495045502818134,
          -0.27527199522262186,
          -0.3958354173981801,
          -0.05370543105780144,
          -0.3958325736402062,
          -0.3958325245408646,
          -0.34950291928253296,
          0.25629984765872554,
          -0.39583173530615096,
          -0.16593776988862094,
          -0.3958302125947847,
          -0.39583016377215574,
          -0.09377433515810009,
          -0.32014877627018,
          -0.035382266240441114,
          0.2562972473224342,
          -0.3495026674458565,
          0.26052421039582563,
          -0.4471058738540647,
          0.03436333251816059,
          -0.3958365741646545,
          -0.27526892581767715,
          -0.34950442271866067,
          -0.3495026668408219,
          0.01094447911624826,
          -0.3958328035715331,
          0.010777429213840603,
          -0.3958292304659274,
          -0.03538198885824344,
          0.18538095488278294,
          -0.15544497899882048,
          -0.13631001258960407,
          0.08437838649583243,
          -0.03538295557991585,
          -0.20672531677428724,
          0.010935045643812912,
          0.16607419477494517,
          -0.3961394786498483,
          -0.035412974572190274,
          0.2605190371063771,
          0.23518870515602372,
          0.010944478675137726,
          -0.15545525977808566,
          0.2921127212135099,
          -0.34950675176678137,
          -0.5485007077370798,
          -0.3495369999023432,
          -0.03540189647285576,
          -0.15544407222506934,
          0.03432884259447526,
          -0.34950934576529186,
          -0.012710931702651728,
          0.03423875423905249,
          -0.3495404260957966,
          -0.3958308010171129,
          -0.39582949122331557,
          -0.395829293940728,
          -0.03538198886227678,
          -0.03491458469784599,
          -0.34950799556342116,
          -0.03538828140300283,
          -0.03538198878160561,
          -0.15553567214537614,
          0.08477004448587556,
          0.034359797959158306,
          -0.3958357636369849,
          -0.3495026748817329,
          -0.4705294100168318,
          -0.03488628951366025,
          -0.03538623247128737,
          -0.03564915947085798,
          0.18536293479333715,
          -0.5508090173046992,
          0.28999201291435334,
          0.39544030451629636,
          0.2816536009462058,
          0.25573859341938127,
          -0.37315623042153295,
          0.010933574093578,
          -0.37317446975498303,
          -0.3397314489999118,
          -0.035387616308869524,
          -0.447112472497067,
          -0.0353835928467581,
          -0.3495026664693535,
          0.01093639729596235,
          0.010943665459827997,
          -0.39863633919047536,
          0.2562957561107887,
          -0.44711267383991893,
          0.31274424981602206,
          -0.08598529472868643,
          0.08368289228352882,
          0.04920702918419955,
          0.010906466010459815,
          -0.33974402628088834,
          0.08517341933574858,
          -0.3495065672192291,
          -0.03538199285147212,
          -0.15544986380896023,
          7.643331809978436,
          -0.03538218171125272,
          0.034362091313532864,
          -0.07976266136994603,
          -0.035381992811136534,
          -0.03538500040946412,
          -0.03538740571087087,
          -0.03539212076349836,
          -0.03539245276352978,
          -0.39583519884522866,
          -0.39583043818165714,
          0.25629737443908224,
          -0.006884653499925444,
          0.18655510670640155,
          -0.34950492035934294,
          0.16445890539609073,
          -0.2049881592760852,
          0.010105668360382559,
          -0.3958294888162215,
          0.15551437530118026,
          0.047343569470340977,
          0.16607100424538515,
          -0.41086814239700936,
          -0.27529670922757965,
          -0.3733289057971892,
          -0.36079330709466967,
          0.19664753954032427,
          -0.3958298019558427,
          -0.3341656658027801,
          -0.03541302006589928,
          -0.0073872318425071805,
          -0.39583421274710756,
          -0.1804872333934605,
          -0.34950266645233674,
          -0.09377107131579415,
          -0.03767617403668436,
          0.010890101641947364,
          0.15551368959733014,
          -0.035381989987641436,
          0.23518474705209572,
          -0.03538198920149972,
          0.15551385815028224,
          -0.452057174480178,
          -0.3495145215655997,
          -0.7487107174696396,
          -0.3819684456828957,
          -0.4471628308130967,
          0.18825544893579568,
          -0.3958635761659843,
          0.2503158903223393,
          0.25629875472095603,
          0.23502701316323313,
          -0.13277398411078553,
          -0.09377633314397711,
          0.010919551981758983,
          0.08517900408486313,
          0.185247418270442,
          -0.39735357081505646,
          -0.3958317482185568,
          -0.03661225868153745,
          -0.3495166859992864,
          -0.2752685048108828,
          0.02852633660415348,
          0.010943167002403168,
          -0.39582913475577847,
          0.15551323282470852,
          -0.09377954367669435,
          0.15542262699870138,
          -0.035396104239751834,
          -0.3960125562955679,
          -0.3958299119953115,
          -0.10911897130430938,
          0.010941848335538785,
          0.08517274577422623,
          -0.042429115232570855,
          -0.3958291428043529,
          -0.7678597873723877,
          -0.03562447034663055,
          0.11512612184845586,
          -0.267369432608779,
          0.2398047077029004,
          0.1799584171966626,
          -0.39590201783473145,
          0.2562585853597024,
          0.16607634282404493,
          0.02071780895940556,
          -0.03848542790381393,
          0.19662477997262465,
          0.1672133007377355,
          -0.20679228324243137,
          15.103868924284242,
          10.076863988830823,
          -0.03538585146008433,
          -0.03987920268617783,
          -0.035382073482425114,
          0.15551566814890255,
          0.16607634282404493,
          0.010878903421826163,
          -0.4028760547251279,
          -0.2752390508590583,
          -0.34950333930150446,
          -0.09831882470112485,
          -0.1554520076682561,
          -0.13878057279038133,
          0.2351118367539994,
          0.010944479433447842,
          0.256275304844559,
          0.15551566787260335,
          -0.035383252011423144,
          0.21401018432713947,
          -0.37315921495782756,
          0.16607634256954357,
          -0.3958293971844615,
          -0.39582950162676617,
          0.16605419817629805,
          0.1660763428188015,
          -0.15552702691863232,
          0.22901158449442546,
          -0.19437080389795094,
          -0.10421561282562579,
          0.034356543389244286,
          -0.3958322011721422,
          -0.39582913514058043,
          -0.8474208578505277,
          -0.3958291367540062,
          0.01093460985721131,
          -0.3341995015533829,
          0.034359895505815426,
          0.2562951805549769,
          0.046767087045958805,
          -0.39626492147481773,
          -0.012714328618433026,
          0.26052321055681105,
          0.34174506660660486,
          0.05823581263951406,
          -0.15545608414475157,
          0.22901790235167865,
          0.25630012271903885,
          0.2883656143124622,
          0.2434840727770689,
          -0.3989946426459907,
          -0.15544643984406928,
          0.046508311841306806,
          -0.4963469528637985,
          0.2561263302605346,
          -0.3958358382125051,
          -0.21753526743949006,
          -0.24671580679873412,
          -0.09377191660043036,
          -0.03490102028964316,
          -0.3903408528829305,
          0.16682801502895542,
          0.2654647902447128,
          0.010942929900938765,
          -0.19362806811142985,
          -0.09377326904673519,
          -0.33415797105170586,
          -0.15544446323789637,
          -0.4300899730263229,
          -0.1930381830944711,
          -0.09379157056902665,
          -0.03538242851377968,
          -0.39583081578620166,
          0.18537951763006963,
          0.36814159003025426,
          -0.39582913514058043,
          0.26212387445199486,
          0.25747551470017244,
          -0.10912358379278217,
          -0.3495122161466573,
          -0.15547751624777348,
          0.034360437493576285,
          0.16741310001410903,
          -0.15544407516150455,
          0.08452728195305721,
          -0.1554440720556598,
          -0.27607021054362524,
          -0.10911900184603089,
          0.010942922793328489,
          -0.3341561349855812,
          -0.39615815336251475,
          0.03907633757781606,
          0.16682750951589317,
          12.487206504409716,
          -0.20493147870015005,
          0.16476198826170393,
          0.1420642620184929,
          0.0262910118642785,
          0.07888651670561411,
          0.22901583877595139,
          0.23518870693576213,
          0.08517342029004363,
          0.5693273897434322,
          0.2351887065875297,
          -0.11445852912202857,
          0.2557206971260576,
          -0.08880208035748002,
          0.17995991256175425,
          -0.33416709297445546,
          0.27276654263823796,
          0.21031968464072373,
          0.21031525689704622,
          0.0851790040848642,
          0.04601007737410453,
          0.21372889566562941,
          -0.035392939516460324,
          -0.39583372088482055,
          0.16606526658808832,
          -0.3341618024153548,
          0.16606853749181827,
          -0.09377167148228946,
          -0.40539588356118433,
          0.04030373909214494,
          -0.10911782565067794,
          -0.3958355114831221,
          0.2792995328689068,
          -0.09838043479768424,
          -0.4966148341108184,
          -0.3495074536452846,
          0.08517900374604363,
          0.08516277504848521,
          -0.08665908927621274,
          0.08515274467270838,
          -0.3495100451871229,
          -0.7489316533736078,
          -0.10911760357439103,
          -0.40058333747603153,
          0.010944479447766962,
          -0.03539962852932866,
          -0.3495779468559437,
          0.1543286998576364,
          -0.3201393950759136,
          -0.3958302332626403,
          0.21031289808998252,
          -0.39583552067452193,
          -0.03488444200376818,
          -0.3958321236826651,
          -0.34963808638529914,
          0.2563001512266137,
          -0.0356241233054156,
          -0.3961335375040841,
          -0.28083555465739524,
          -0.34965605305955183,
          0.08517187023936601,
          -0.3958477551904712,
          0.25630015122642524,
          -0.04456328212437475,
          -0.2752681418909231,
          -0.39595461187677267,
          0.06789066972395759,
          -0.34956515865746784,
          -0.395861293383112,
          0.0343621470002732,
          -0.035383556807333086,
          -0.03540361537715419,
          -0.16778770342992452,
          -0.27529131717457317,
          -0.7486585546590372,
          -0.15854758686843926,
          -0.3959073433236073,
          -0.0353819923674445,
          -0.20493182562653073,
          -0.3958291359472937,
          3.43138649612383,
          0.1884039174536564,
          -0.44710591572839586,
          0.1776526027577733,
          -0.7489380251248494,
          0.23518110730650316,
          -0.7489696294430642,
          0.23518870295732114,
          -0.03519342273879458,
          27.743425201909435,
          0.03436045195890368,
          -1.1883391871364815,
          0.2646974637762583,
          -0.3937898699151851,
          -0.39583376944467313,
          0.25599594349135923,
          0.1660740784174797,
          -0.15544411160232838
         ]
        }
       ],
       "layout": {
        "autosize": true,
        "coloraxis": {
         "colorbar": {
          "title": {
           "text": "class"
          }
         },
         "colorscale": [
          [
           0,
           "#0d0887"
          ],
          [
           0.1111111111111111,
           "#46039f"
          ],
          [
           0.2222222222222222,
           "#7201a8"
          ],
          [
           0.3333333333333333,
           "#9c179e"
          ],
          [
           0.4444444444444444,
           "#bd3786"
          ],
          [
           0.5555555555555556,
           "#d8576b"
          ],
          [
           0.6666666666666666,
           "#ed7953"
          ],
          [
           0.7777777777777778,
           "#fb9f3a"
          ],
          [
           0.8888888888888888,
           "#fdca26"
          ],
          [
           1,
           "#f0f921"
          ]
         ]
        },
        "legend": {
         "tracegroupgap": 0
        },
        "margin": {
         "t": 60
        },
        "scene": {
         "aspectmode": "auto",
         "aspectratio": {
          "x": 1,
          "y": 1,
          "z": 1
         },
         "domain": {
          "x": [
           0,
           1
          ],
          "y": [
           0,
           1
          ]
         },
         "xaxis": {
          "title": {
           "text": "PC 1"
          },
          "type": "linear"
         },
         "yaxis": {
          "title": {
           "text": "PC 2"
          },
          "type": "linear"
         },
         "zaxis": {
          "title": {
           "text": "PC 3"
          },
          "type": "linear"
         }
        },
        "template": {
         "data": {
          "bar": [
           {
            "error_x": {
             "color": "#2a3f5f"
            },
            "error_y": {
             "color": "#2a3f5f"
            },
            "marker": {
             "line": {
              "color": "#E5ECF6",
              "width": 0.5
             },
             "pattern": {
              "fillmode": "overlay",
              "size": 10,
              "solidity": 0.2
             }
            },
            "type": "bar"
           }
          ],
          "barpolar": [
           {
            "marker": {
             "line": {
              "color": "#E5ECF6",
              "width": 0.5
             },
             "pattern": {
              "fillmode": "overlay",
              "size": 10,
              "solidity": 0.2
             }
            },
            "type": "barpolar"
           }
          ],
          "carpet": [
           {
            "aaxis": {
             "endlinecolor": "#2a3f5f",
             "gridcolor": "white",
             "linecolor": "white",
             "minorgridcolor": "white",
             "startlinecolor": "#2a3f5f"
            },
            "baxis": {
             "endlinecolor": "#2a3f5f",
             "gridcolor": "white",
             "linecolor": "white",
             "minorgridcolor": "white",
             "startlinecolor": "#2a3f5f"
            },
            "type": "carpet"
           }
          ],
          "choropleth": [
           {
            "colorbar": {
             "outlinewidth": 0,
             "ticks": ""
            },
            "type": "choropleth"
           }
          ],
          "contour": [
           {
            "colorbar": {
             "outlinewidth": 0,
             "ticks": ""
            },
            "colorscale": [
             [
              0,
              "#0d0887"
             ],
             [
              0.1111111111111111,
              "#46039f"
             ],
             [
              0.2222222222222222,
              "#7201a8"
             ],
             [
              0.3333333333333333,
              "#9c179e"
             ],
             [
              0.4444444444444444,
              "#bd3786"
             ],
             [
              0.5555555555555556,
              "#d8576b"
             ],
             [
              0.6666666666666666,
              "#ed7953"
             ],
             [
              0.7777777777777778,
              "#fb9f3a"
             ],
             [
              0.8888888888888888,
              "#fdca26"
             ],
             [
              1,
              "#f0f921"
             ]
            ],
            "type": "contour"
           }
          ],
          "contourcarpet": [
           {
            "colorbar": {
             "outlinewidth": 0,
             "ticks": ""
            },
            "type": "contourcarpet"
           }
          ],
          "heatmap": [
           {
            "colorbar": {
             "outlinewidth": 0,
             "ticks": ""
            },
            "colorscale": [
             [
              0,
              "#0d0887"
             ],
             [
              0.1111111111111111,
              "#46039f"
             ],
             [
              0.2222222222222222,
              "#7201a8"
             ],
             [
              0.3333333333333333,
              "#9c179e"
             ],
             [
              0.4444444444444444,
              "#bd3786"
             ],
             [
              0.5555555555555556,
              "#d8576b"
             ],
             [
              0.6666666666666666,
              "#ed7953"
             ],
             [
              0.7777777777777778,
              "#fb9f3a"
             ],
             [
              0.8888888888888888,
              "#fdca26"
             ],
             [
              1,
              "#f0f921"
             ]
            ],
            "type": "heatmap"
           }
          ],
          "heatmapgl": [
           {
            "colorbar": {
             "outlinewidth": 0,
             "ticks": ""
            },
            "colorscale": [
             [
              0,
              "#0d0887"
             ],
             [
              0.1111111111111111,
              "#46039f"
             ],
             [
              0.2222222222222222,
              "#7201a8"
             ],
             [
              0.3333333333333333,
              "#9c179e"
             ],
             [
              0.4444444444444444,
              "#bd3786"
             ],
             [
              0.5555555555555556,
              "#d8576b"
             ],
             [
              0.6666666666666666,
              "#ed7953"
             ],
             [
              0.7777777777777778,
              "#fb9f3a"
             ],
             [
              0.8888888888888888,
              "#fdca26"
             ],
             [
              1,
              "#f0f921"
             ]
            ],
            "type": "heatmapgl"
           }
          ],
          "histogram": [
           {
            "marker": {
             "pattern": {
              "fillmode": "overlay",
              "size": 10,
              "solidity": 0.2
             }
            },
            "type": "histogram"
           }
          ],
          "histogram2d": [
           {
            "colorbar": {
             "outlinewidth": 0,
             "ticks": ""
            },
            "colorscale": [
             [
              0,
              "#0d0887"
             ],
             [
              0.1111111111111111,
              "#46039f"
             ],
             [
              0.2222222222222222,
              "#7201a8"
             ],
             [
              0.3333333333333333,
              "#9c179e"
             ],
             [
              0.4444444444444444,
              "#bd3786"
             ],
             [
              0.5555555555555556,
              "#d8576b"
             ],
             [
              0.6666666666666666,
              "#ed7953"
             ],
             [
              0.7777777777777778,
              "#fb9f3a"
             ],
             [
              0.8888888888888888,
              "#fdca26"
             ],
             [
              1,
              "#f0f921"
             ]
            ],
            "type": "histogram2d"
           }
          ],
          "histogram2dcontour": [
           {
            "colorbar": {
             "outlinewidth": 0,
             "ticks": ""
            },
            "colorscale": [
             [
              0,
              "#0d0887"
             ],
             [
              0.1111111111111111,
              "#46039f"
             ],
             [
              0.2222222222222222,
              "#7201a8"
             ],
             [
              0.3333333333333333,
              "#9c179e"
             ],
             [
              0.4444444444444444,
              "#bd3786"
             ],
             [
              0.5555555555555556,
              "#d8576b"
             ],
             [
              0.6666666666666666,
              "#ed7953"
             ],
             [
              0.7777777777777778,
              "#fb9f3a"
             ],
             [
              0.8888888888888888,
              "#fdca26"
             ],
             [
              1,
              "#f0f921"
             ]
            ],
            "type": "histogram2dcontour"
           }
          ],
          "mesh3d": [
           {
            "colorbar": {
             "outlinewidth": 0,
             "ticks": ""
            },
            "type": "mesh3d"
           }
          ],
          "parcoords": [
           {
            "line": {
             "colorbar": {
              "outlinewidth": 0,
              "ticks": ""
             }
            },
            "type": "parcoords"
           }
          ],
          "pie": [
           {
            "automargin": true,
            "type": "pie"
           }
          ],
          "scatter": [
           {
            "marker": {
             "colorbar": {
              "outlinewidth": 0,
              "ticks": ""
             }
            },
            "type": "scatter"
           }
          ],
          "scatter3d": [
           {
            "line": {
             "colorbar": {
              "outlinewidth": 0,
              "ticks": ""
             }
            },
            "marker": {
             "colorbar": {
              "outlinewidth": 0,
              "ticks": ""
             }
            },
            "type": "scatter3d"
           }
          ],
          "scattercarpet": [
           {
            "marker": {
             "colorbar": {
              "outlinewidth": 0,
              "ticks": ""
             }
            },
            "type": "scattercarpet"
           }
          ],
          "scattergeo": [
           {
            "marker": {
             "colorbar": {
              "outlinewidth": 0,
              "ticks": ""
             }
            },
            "type": "scattergeo"
           }
          ],
          "scattergl": [
           {
            "marker": {
             "colorbar": {
              "outlinewidth": 0,
              "ticks": ""
             }
            },
            "type": "scattergl"
           }
          ],
          "scattermapbox": [
           {
            "marker": {
             "colorbar": {
              "outlinewidth": 0,
              "ticks": ""
             }
            },
            "type": "scattermapbox"
           }
          ],
          "scatterpolar": [
           {
            "marker": {
             "colorbar": {
              "outlinewidth": 0,
              "ticks": ""
             }
            },
            "type": "scatterpolar"
           }
          ],
          "scatterpolargl": [
           {
            "marker": {
             "colorbar": {
              "outlinewidth": 0,
              "ticks": ""
             }
            },
            "type": "scatterpolargl"
           }
          ],
          "scatterternary": [
           {
            "marker": {
             "colorbar": {
              "outlinewidth": 0,
              "ticks": ""
             }
            },
            "type": "scatterternary"
           }
          ],
          "surface": [
           {
            "colorbar": {
             "outlinewidth": 0,
             "ticks": ""
            },
            "colorscale": [
             [
              0,
              "#0d0887"
             ],
             [
              0.1111111111111111,
              "#46039f"
             ],
             [
              0.2222222222222222,
              "#7201a8"
             ],
             [
              0.3333333333333333,
              "#9c179e"
             ],
             [
              0.4444444444444444,
              "#bd3786"
             ],
             [
              0.5555555555555556,
              "#d8576b"
             ],
             [
              0.6666666666666666,
              "#ed7953"
             ],
             [
              0.7777777777777778,
              "#fb9f3a"
             ],
             [
              0.8888888888888888,
              "#fdca26"
             ],
             [
              1,
              "#f0f921"
             ]
            ],
            "type": "surface"
           }
          ],
          "table": [
           {
            "cells": {
             "fill": {
              "color": "#EBF0F8"
             },
             "line": {
              "color": "white"
             }
            },
            "header": {
             "fill": {
              "color": "#C8D4E3"
             },
             "line": {
              "color": "white"
             }
            },
            "type": "table"
           }
          ]
         },
         "layout": {
          "annotationdefaults": {
           "arrowcolor": "#2a3f5f",
           "arrowhead": 0,
           "arrowwidth": 1
          },
          "autotypenumbers": "strict",
          "coloraxis": {
           "colorbar": {
            "outlinewidth": 0,
            "ticks": ""
           }
          },
          "colorscale": {
           "diverging": [
            [
             0,
             "#8e0152"
            ],
            [
             0.1,
             "#c51b7d"
            ],
            [
             0.2,
             "#de77ae"
            ],
            [
             0.3,
             "#f1b6da"
            ],
            [
             0.4,
             "#fde0ef"
            ],
            [
             0.5,
             "#f7f7f7"
            ],
            [
             0.6,
             "#e6f5d0"
            ],
            [
             0.7,
             "#b8e186"
            ],
            [
             0.8,
             "#7fbc41"
            ],
            [
             0.9,
             "#4d9221"
            ],
            [
             1,
             "#276419"
            ]
           ],
           "sequential": [
            [
             0,
             "#0d0887"
            ],
            [
             0.1111111111111111,
             "#46039f"
            ],
            [
             0.2222222222222222,
             "#7201a8"
            ],
            [
             0.3333333333333333,
             "#9c179e"
            ],
            [
             0.4444444444444444,
             "#bd3786"
            ],
            [
             0.5555555555555556,
             "#d8576b"
            ],
            [
             0.6666666666666666,
             "#ed7953"
            ],
            [
             0.7777777777777778,
             "#fb9f3a"
            ],
            [
             0.8888888888888888,
             "#fdca26"
            ],
            [
             1,
             "#f0f921"
            ]
           ],
           "sequentialminus": [
            [
             0,
             "#0d0887"
            ],
            [
             0.1111111111111111,
             "#46039f"
            ],
            [
             0.2222222222222222,
             "#7201a8"
            ],
            [
             0.3333333333333333,
             "#9c179e"
            ],
            [
             0.4444444444444444,
             "#bd3786"
            ],
            [
             0.5555555555555556,
             "#d8576b"
            ],
            [
             0.6666666666666666,
             "#ed7953"
            ],
            [
             0.7777777777777778,
             "#fb9f3a"
            ],
            [
             0.8888888888888888,
             "#fdca26"
            ],
            [
             1,
             "#f0f921"
            ]
           ]
          },
          "colorway": [
           "#636efa",
           "#EF553B",
           "#00cc96",
           "#ab63fa",
           "#FFA15A",
           "#19d3f3",
           "#FF6692",
           "#B6E880",
           "#FF97FF",
           "#FECB52"
          ],
          "font": {
           "color": "#2a3f5f"
          },
          "geo": {
           "bgcolor": "white",
           "lakecolor": "white",
           "landcolor": "#E5ECF6",
           "showlakes": true,
           "showland": true,
           "subunitcolor": "white"
          },
          "hoverlabel": {
           "align": "left"
          },
          "hovermode": "closest",
          "mapbox": {
           "style": "light"
          },
          "paper_bgcolor": "white",
          "plot_bgcolor": "#E5ECF6",
          "polar": {
           "angularaxis": {
            "gridcolor": "white",
            "linecolor": "white",
            "ticks": ""
           },
           "bgcolor": "#E5ECF6",
           "radialaxis": {
            "gridcolor": "white",
            "linecolor": "white",
            "ticks": ""
           }
          },
          "scene": {
           "xaxis": {
            "backgroundcolor": "#E5ECF6",
            "gridcolor": "white",
            "gridwidth": 2,
            "linecolor": "white",
            "showbackground": true,
            "ticks": "",
            "zerolinecolor": "white"
           },
           "yaxis": {
            "backgroundcolor": "#E5ECF6",
            "gridcolor": "white",
            "gridwidth": 2,
            "linecolor": "white",
            "showbackground": true,
            "ticks": "",
            "zerolinecolor": "white"
           },
           "zaxis": {
            "backgroundcolor": "#E5ECF6",
            "gridcolor": "white",
            "gridwidth": 2,
            "linecolor": "white",
            "showbackground": true,
            "ticks": "",
            "zerolinecolor": "white"
           }
          },
          "shapedefaults": {
           "line": {
            "color": "#2a3f5f"
           }
          },
          "ternary": {
           "aaxis": {
            "gridcolor": "white",
            "linecolor": "white",
            "ticks": ""
           },
           "baxis": {
            "gridcolor": "white",
            "linecolor": "white",
            "ticks": ""
           },
           "bgcolor": "#E5ECF6",
           "caxis": {
            "gridcolor": "white",
            "linecolor": "white",
            "ticks": ""
           }
          },
          "title": {
           "x": 0.05
          },
          "xaxis": {
           "automargin": true,
           "gridcolor": "white",
           "linecolor": "white",
           "ticks": "",
           "title": {
            "standoff": 15
           },
           "zerolinecolor": "white",
           "zerolinewidth": 2
          },
          "yaxis": {
           "automargin": true,
           "gridcolor": "white",
           "linecolor": "white",
           "ticks": "",
           "title": {
            "standoff": 15
           },
           "zerolinecolor": "white",
           "zerolinewidth": 2
          }
         }
        }
       }
      },
      "image/png": "[encoded data removed]",
      "text/html": [
       "<div>                            <div id=\"bab2a7ea-03ad-40bb-a44f-669d464d7b12\" class=\"plotly-graph-div\" style=\"height:525px; width:100%;\"></div>            <script type=\"text/javascript\">                require([\"plotly\"], function(Plotly) {                    window.PLOTLYENV=window.PLOTLYENV || {};                                    if (document.getElementById(\"bab2a7ea-03ad-40bb-a44f-669d464d7b12\")) {                    Plotly.newPlot(                        \"bab2a7ea-03ad-40bb-a44f-669d464d7b12\",                        [{\"customdata\":[[\"Scrypt\"],[\"Scrypt\"],[\"SHA-256\"],[\"X13\"],[\"SHA-256\"],[\"Ethash\"],[\"Scrypt\"],[\"X11\"],[\"CryptoNight-V7\"],[\"Ethash\"],[\"Equihash\"],[\"SHA-512\"],[\"Multiple\"],[\"SHA-256\"],[\"X11\"],[\"SHA-256\"],[\"Scrypt\"],[\"X15\"],[\"X11\"],[\"SHA-256\"],[\"X13\"],[\"X13\"],[\"Scrypt\"],[\"Scrypt\"],[\"Scrypt\"],[\"SHA-256\"],[\"Scrypt\"],[\"Multiple\"],[\"Scrypt\"],[\"SHA-256\"],[\"Scrypt\"],[\"Scrypt\"],[\"Scrypt\"],[\"Quark\"],[\"Groestl\"],[\"Scrypt\"],[\"X11\"],[\"Scrypt\"],[\"Scrypt\"],[\"Scrypt\"],[\"Scrypt\"],[\"Scrypt\"],[\"Scrypt\"],[\"Multiple\"],[\"Scrypt\"],[\"X11\"],[\"Scrypt\"],[\"SHA-256\"],[\"Groestl\"],[\"Multiple\"],[\"X11\"],[\"Scrypt\"],[\"SHA-256\"],[\"Scrypt\"],[\"Scrypt\"],[\"Scrypt\"],[\"Scrypt\"],[\"Scrypt\"],[\"PoS\"],[\"Scrypt\"],[\"X11\"],[\"NIST5\"],[\"SHA-256\"],[\"Scrypt\"],[\"Scrypt\"],[\"NeoScrypt\"],[\"Scrypt\"],[\"Scrypt\"],[\"Scrypt\"],[\"X11\"],[\"X15\"],[\"Scrypt\"],[\"Multiple\"],[\"X11\"],[\"Scrypt\"],[\"X11\"],[\"SHA-256\"],[\"X11\"],[\"X13\"],[\"Scrypt\"],[\"Scrypt\"],[\"Scrypt\"],[\"Scrypt\"],[\"X11\"],[\"SHA3\"],[\"Scrypt\"],[\"HybridScryptHash256\"],[\"Scrypt\"],[\"Scrypt\"],[\"SHA-256\"],[\"Scrypt\"],[\"X13\"],[\"SHA-256\"],[\"Scrypt\"],[\"SHA-256\"],[\"Scrypt\"],[\"X13\"],[\"NeoScrypt\"],[\"Scrypt\"],[\"Scrypt\"],[\"Scrypt\"],[\"Scrypt\"],[\"Scrypt\"],[\"Scrypt\"],[\"X15\"],[\"Scrypt\"],[\"Scrypt\"],[\"Scrypt-n\"],[\"Scrypt\"],[\"X11\"],[\"X11\"],[\"SHA-256\"],[\"Multiple\"],[\"SHA-256\"],[\"PHI1612\"],[\"X11\"],[\"SHA-256\"],[\"SHA-256\"],[\"SHA-256\"],[\"SHA-256\"],[\"X11\"],[\"Scrypt\"],[\"Scrypt\"],[\"X13\"],[\"Scrypt\"],[\"X11\"],[\"Scrypt\"],[\"Lyra2REv2\"],[\"Scrypt\"],[\"Scrypt\"],[\"X11\"],[\"Multiple\"],[\"SHA-256\"],[\"X13\"],[\"Scrypt\"],[\"Scrypt\"],[\"CryptoNight\"],[\"CryptoNight\"],[\"Shabal256\"],[\"Counterparty\"],[\"Scrypt\"],[\"SHA-256\"],[\"SHA-256\"],[\"Scrypt\"],[\"Groestl\"],[\"Scrypt\"],[\"Scrypt\"],[\"Scrypt\"],[\"X13\"],[\"Scrypt\"],[\"Scrypt\"],[\"Scrypt\"],[\"SHA-256\"],[\"Scrypt\"],[\"X13\"],[\"X13\"],[\"Scrypt\"],[\"X11\"],[\"Momentum\"],[\"Stanford Folding\"],[\"X11\"],[\"Multiple\"],[\"QuBit\"],[\"X15\"],[\"Scrypt\"],[\"Scrypt\"],[\"Scrypt\"],[\"Scrypt\"],[\"SHA-256\"],[\"M7 POW\"],[\"Scrypt\"],[\"X11\"],[\"Scrypt\"],[\"SHA-256\"],[\"Scrypt\"],[\"Scrypt\"],[\"X11\"],[\"X11\"],[\"SHA3\"],[\"X11\"],[\"Scrypt\"],[\"Lyra2RE\"],[\"SHA-256\"],[\"QUAIT\"],[\"X11\"],[\"vDPOS\"],[\"X11\"],[\"X11\"],[\"Scrypt\"],[\"Scrypt\"],[\"Scrypt\"],[\"Ethash\"],[\"X11\"],[\"X13\"],[\"Blake2b\"],[\"SHA-256\"],[\"X13\"],[\"X15\"],[\"X11\"],[\"SHA-256\"],[\"BLAKE256\"],[\"Scrypt\"],[\"Scrypt\"],[\"1GB AES Pattern Search\"],[\"SHA-256\"],[\"X11\"],[\"Scrypt\"],[\"CryptoNight\"],[\"SHA-256\"],[\"Quark\"],[\"SHA-256\"],[\"NIST5\"],[\"Blake\"],[\"Scrypt\"],[\"Scrypt\"],[\"SHA-256\"],[\"X11\"],[\"Scrypt\"],[\"Scrypt-n\"],[\"X11\"],[\"Scrypt\"],[\"Dagger\"],[\"Scrypt\"],[\"SHA-256\"],[\"CryptoNight-Lite\"],[\"X11GOST\"],[\"X11\"],[\"SHA-256\"],[\"Scrypt\"],[\"SHA-256\"],[\"Scrypt\"],[\"PoS\"],[\"Scrypt\"],[\"X11\"],[\"X11\"],[\"X11\"],[\"X11\"],[\"PoS\"],[\"SHA-256\"],[\"SHA-256\"],[\"SHA-256\"],[\"NIST5\"],[\"X15\"],[\"X11\"],[\"NIST5\"],[\"Scrypt\"],[\"Scrypt\"],[\"Scrypt\"],[\"POS 3.0\"],[\"Scrypt\"],[\"Scrypt\"],[\"Scrypt\"],[\"X13\"],[\"X11\"],[\"X11\"],[\"Equihash\"],[\"X11\"],[\"X11\"],[\"Scrypt\"],[\"CryptoNight\"],[\"SHA-256\"],[\"SHA-256\"],[\"X11\"],[\"Scrypt\"],[\"Multiple\"],[\"Scrypt\"],[\"Scrypt\"],[\"X11\"],[\"Scrypt\"],[\"SHA-256\"],[\"Scrypt\"],[\"Scrypt\"],[\"SHA-256D\"],[\"PoS\"],[\"Scrypt\"],[\"Scrypt\"],[\"X11\"],[\"Scrypt-n\"],[\"Lyra2Z\"],[\"SHA-256\"],[\"PoS\"],[\"X13\"],[\"Quark\"],[\"X14\"],[\"PoS\"],[\"SHA-256D\"],[\"Ethash\"],[\"SHA-256\"],[\"Equihash\"],[\"DPoS\"],[\"X11\"],[\"Scrypt\"],[\"Scrypt\"],[\"Equihash\"],[\"X11\"],[\"X13\"],[\"X11\"],[\"PoS\"],[\"SHA-256D\"],[\"Scrypt\"],[\"Scrypt\"],[\"Scrypt\"],[\"X11\"],[\"PoS\"],[\"X11\"],[\"SHA-256\"],[\"Scrypt\"],[\"X11\"],[\"Scrypt\"],[\"Scrypt\"],[\"X11\"],[\"CryptoNight\"],[\"Scrypt\"],[\"Scrypt\"],[\"Scrypt\"],[\"Scrypt\"],[\"Quark\"],[\"QuBit\"],[\"Scrypt\"],[\"CryptoNight\"],[\"X11\"],[\"Lyra2RE\"],[\"X13\"],[\"PoS\"],[\"Scrypt\"],[\"SHA-256\"],[\"X11\"],[\"X11\"],[\"X11\"],[\"Scrypt\"],[\"X11\"],[\"Scrypt\"],[\"Scrypt\"],[\"CryptoNight-V7\"],[\"Scrypt\"],[\"Scrypt\"],[\"Keccak\"],[\"Scrypt\"],[\"X13\"],[\"X11\"],[\"Equihash\"],[\"Scrypt\"],[\"Scrypt\"],[\"Lyra2RE\"],[\"Ethash\"],[\"X11\"],[\"Scrypt\"],[\"Dagger-Hashimoto\"],[\"X11\"],[\"Blake2S\"],[\"X11\"],[\"Scrypt\"],[\"Scrypt\"],[\"PoS\"],[\"X11\"],[\"NIST5\"],[\"PoS\"],[\"X11\"],[\"Scrypt\"],[\"Scrypt\"],[\"Scrypt\"],[\"Scrypt\"],[\"SHA-256\"],[\"X11\"],[\"Scrypt\"],[\"Scrypt\"],[\"Scrypt\"],[\"SHA-256\"],[\"PoS\"],[\"Scrypt\"],[\"X11\"],[\"X15\"],[\"SHA-256\"],[\"Scrypt\"],[\"POS 3.0\"],[\"CryptoNight-V7\"],[\"536\"],[\"Argon2d\"],[\"Blake2b\"],[\"Cloverhash\"],[\"CryptoNight\"],[\"NIST5\"],[\"X11\"],[\"NIST5\"],[\"Skein\"],[\"Scrypt\"],[\"X13\"],[\"Scrypt\"],[\"X11\"],[\"X11\"],[\"X11\"],[\"Scrypt\"],[\"CryptoNight\"],[\"X13\"],[\"Time Travel\"],[\"Scrypt\"],[\"Keccak\"],[\"SkunkHash v2 Raptor\"],[\"X11\"],[\"Skein\"],[\"SHA-256\"],[\"X11\"],[\"Scrypt\"],[\"Scrypt\"],[\"VeChainThor Authority\"],[\"Scrypt\"],[\"PoS\"],[\"Scrypt\"],[\"Scrypt\"],[\"Scrypt\"],[\"Scrypt\"],[\"Scrypt\"],[\"Scrypt\"],[\"Scrypt\"],[\"Scrypt\"],[\"CryptoNight\"],[\"SHA-512\"],[\"Ouroboros\"],[\"X11\"],[\"Equihash\"],[\"NeoScrypt\"],[\"X11\"],[\"Scrypt\"],[\"NeoScrypt\"],[\"Lyra2REv2\"],[\"Equihash\"],[\"Scrypt\"],[\"SHA-256\"],[\"NIST5\"],[\"PHI1612\"],[\"Dagger\"],[\"Scrypt\"],[\"Quark\"],[\"Scrypt\"],[\"POS 2.0\"],[\"Scrypt\"],[\"SkunkHash\"],[\"X11\"],[\"Quark\"],[\"SHA-256\"],[\"X11\"],[\"NeoScrypt\"],[\"Scrypt\"],[\"Ethash\"],[\"Scrypt\"],[\"NeoScrypt\"],[\"Quark\"],[\"X11\"],[\"DPoS\"],[\"NIST5\"],[\"X13\"],[\"Multiple\"],[\"Scrypt\"],[\"CryptoNight\"],[\"CryptoNight\"],[\"Ethash\"],[\"NIST5\"],[\"Quark\"],[\"X11\"],[\"SHA-256\"],[\"CryptoNight-V7\"],[\"Scrypt\"],[\"Scrypt\"],[\"Scrypt\"],[\"X11\"],[\"SHA-256\"],[\"BLAKE256\"],[\"X11\"],[\"Scrypt\"],[\"NeoScrypt\"],[\"Quark\"],[\"NeoScrypt\"],[\"Scrypt\"],[\"Scrypt\"],[\"Scrypt\"],[\"X11\"],[\"X11\"],[\"SHA-256\"],[\"C11\"],[\"Scrypt\"],[\"Scrypt\"],[\"POS 3.0\"],[\"Ethash\"],[\"Scrypt\"],[\"CryptoNight\"],[\"SkunkHash\"],[\"Scrypt\"],[\"CryptoNight\"],[\"Equihash\"],[\"Skein\"],[\"Scrypt\"],[\"Dagger\"],[\"Lyra2REv2\"],[\"X13\"],[\"Proof-of-BibleHash\"],[\"SHA-256 + Hive\"],[\"Scrypt\"],[\"Scrypt\"],[\"Scrypt\"],[\"NeoScrypt\"],[\"Equihash\"],[\"X11\"],[\"C11\"],[\"Proof-of-Authority\"],[\"X11\"],[\"XEVAN\"],[\"Scrypt\"],[\"VBFT\"],[\"Ethash\"],[\"X11\"],[\"CryptoNight\"],[\"NeoScrypt\"],[\"Scrypt\"],[\"IMesh\"],[\"NIST5\"],[\"Equihash\"],[\"Scrypt\"],[\"Scrypt\"],[\"Equihash\"],[\"Equihash\"],[\"Scrypt\"],[\"Lyra2Z\"],[\"Equihash\"],[\"Green Protocol\"],[\"PoS\"],[\"Scrypt\"],[\"Scrypt\"],[\"Semux BFT consensus\"],[\"Scrypt\"],[\"X11\"],[\"Quark\"],[\"PoS\"],[\"CryptoNight\"],[\"X16R\"],[\"Scrypt\"],[\"NIST5\"],[\"Lyra2RE\"],[\"XEVAN\"],[\"Tribus\"],[\"Scrypt\"],[\"Lyra2Z\"],[\"CryptoNight\"],[\"CryptoNight Heavy\"],[\"CryptoNight\"],[\"Scrypt\"],[\"Scrypt\"],[\"Jump Consistent Hash\"],[\"SHA-256D\"],[\"CryptoNight\"],[\"Scrypt\"],[\"X15\"],[\"Scrypt\"],[\"Quark\"],[\"SHA-256\"],[\"DPoS\"],[\"X16R\"],[\"HMQ1725\"],[\"X11\"],[\"X16R\"],[\"Quark\"],[\"Quark\"],[\"Scrypt\"],[\"Zhash\"],[\"Lyra2REv2\"],[\"Quark\"],[\"Scrypt\"],[\"Scrypt\"],[\"CryptoNight-V7\"],[\"Cryptonight-GPU\"],[\"Scrypt\"],[\"XEVAN\"],[\"CryptoNight Heavy\"],[\"X11\"],[\"X11\"],[\"Scrypt\"],[\"PoS\"],[\"Lyra2REv2\"],[\"Scrypt\"],[\"SHA-256\"],[\"Scrypt\"],[\"Keccak\"],[\"X11\"],[\"X11\"],[\"Quark\"],[\"Scrypt\"],[\"SHA-512\"],[\"X16R\"],[\"ECC 256K1\"],[\"NeoScrypt\"],[\"Equihash\"],[\"XEVAN\"],[\"Quark\"],[\"CryptoNight Heavy X\"],[\"Lyra2Z\"],[\"Ethash\"],[\"SHA-256\"],[\"XEVAN\"],[\"Ethash\"],[\"X11\"],[\"CryptoNight\"],[\"Quark\"],[\"SkunkHash\"],[\"Quark\"],[\"Argon2\"],[\"Blake\"],[\"Blake\"],[\"SHA-256\"],[\"Equihash\"],[\"Exosis\"],[\"Scrypt\"],[\"Scrypt\"],[\"Equihash\"],[\"Quark\"],[\"Equihash\"],[\"Quark\"],[\"Scrypt\"],[\"QuBit\"],[\"X11\"],[\"Scrypt\"],[\"Equihash1927\"],[\"XEVAN\"],[\"SHA-256D\"],[\"X11\"],[\"SHA-256\"],[\"SHA-256\"],[\"X13\"],[\"SHA-256\"],[\"X11\"],[\"DPoS\"],[\"X11\"],[\"Scrypt\"],[\"X11\"],[\"Scrypt\"],[\"X11\"],[\"NeoScrypt\"],[\"QuBit\"],[\"Scrypt\"],[\"Blake\"],[\"Scrypt\"],[\"SHA-256\"],[\"Scrypt\"],[\"X11\"],[\"CryptoNight\"],[\"Scrypt\"],[\"Scrypt\"],[\"SHA-256\"],[\"X11\"],[\"SHA-256\"],[\"Scrypt\"],[\"CryptoNight\"],[\"Scrypt\"],[\"SHA-256\"],[\"Scrypt\"],[\"Groestl\"],[\"X11\"],[\"Scrypt\"],[\"PoS\"],[\"Scrypt\"],[\"Scrypt\"],[\"X11\"],[\"SHA-256\"],[\"DPoS\"],[\"Scrypt\"],[\"Scrypt\"],[\"Scrypt\"],[\"NeoScrypt\"],[\"Scrypt\"],[\"SHA3-256\"],[\"Multiple\"],[\"X13\"],[\"Equihash+Scrypt\"],[\"DPoS\"],[\"Ethash\"],[\"DPoS\"],[\"Ethash\"],[\"SHA-256\"],[\"Leased POS\"],[\"PoS\"],[\"TRC10\"],[\"PoS\"],[\"SHA-256\"],[\"Scrypt\"],[\"CryptoNight\"],[\"Equihash\"],[\"Scrypt\"]],\"hovertemplate\":\"<b>%{hovertext}</b><br><br>PC 1=%{x}<br>PC 2=%{y}<br>PC 3=%{z}<br>Algorithm=%{customdata[0]}<br>class=%{marker.color}<extra></extra>\",\"hovertext\":[\"42 Coin\",\"404Coin\",\"808\",\"EliteCoin\",\"Bitcoin\",\"Ethereum\",\"Litecoin\",\"Dash\",\"Monero\",\"Ethereum Classic\",\"ZCash\",\"Bitshares\",\"DigiByte\",\"BitcoinDark\",\"Bitstake\",\"PayCoin\",\"ProsperCoin\",\"KoboCoin\",\"Spreadcoin\",\"ACoin\",\"Aero Coin\",\"ApexCoin\",\"ArchCoin\",\"Argentum\",\"Aurora Coin\",\"BetaCoin\",\"BlueCoin\",\"MyriadCoin\",\"MoonCoin\",\"ZetaCoin\",\"SexCoin\",\"Quatloo\",\"EnergyCoin\",\"QuarkCoin\",\"Riecoin\",\"Digitalcoin \",\"LimeCoinX\",\"BitBar\",\"BitMark\",\"CashCoin\",\"Catcoin\",\"CryptoBullion\",\"CannaCoin\",\"CinderCoin\",\"CoolCoin\",\"CryptCoin\",\"CasinoCoin\",\"eMark\",\"Diamond\",\"Verge\",\"DarkCash\",\"DarkShibe\",\"DevCoin\",\"EarthCoin\",\"E-Gulden\",\"Elacoin\",\"Einsteinium\",\"Emerald\",\"Exclusive Coin\",\"Flappy Coin\",\"Fuel2Coin\",\"FIBRE\",\"FireRoosterCoin\",\"FlutterCoin\",\"Franko\",\"FeatherCoin\",\"GrandCoin\",\"GlobalCoin\",\"GoldCoin\",\"GlyphCoin\",\"Halcyon\",\"HoboNickels\",\"HunterCoin\",\"HyperStake\",\"Infinite Coin\",\"IOCoin\",\"IXcoin\",\"JumBucks Coin\",\"JudgeCoin\",\"KrugerCoin\",\"LuckyCoin\",\"Litebar \",\"LitecoinDark\",\"LibrexCoin\",\"MaxCoin\",\"MegaCoin\",\"MediterraneanCoin\",\"MintCoin\",\"MinCoin\",\"MazaCoin\",\"Nautilus Coin\",\"NavCoin\",\"NoirBits\",\"NobleCoin\",\"Namecoin\",\"NyanCoin\",\"OpalCoin\",\"Orbitcoin\",\"PotCoin\",\"PhoenixCoin\",\"Reddcoin\",\"RipOffCoin\",\"RonPaulCoin\",\"StableCoin\",\"ShieldCoin\",\"SilkCoin\",\"SmartCoin\",\"SpainCoin\",\"SecureCoin\",\"SuperCoin\",\"SyncCoin\",\"SysCoin\",\"TeslaCoin\",\"TigerCoin\",\"TittieCoin\",\"TorCoin\",\"TerraCoin\",\"Umbrella\",\"UnbreakableCoin\",\"Unobtanium\",\"UroCoin\",\"UnitaryStatus Dollar\",\"UltraCoin\",\"Utility Coin\",\"ViaCoin\",\"VootCoin\",\"VeriCoin\",\"Vertcoin\",\"WorldCoin\",\"SocialXbotCoin\",\"X11 Coin\",\"Crypti\",\"JouleCoin\",\"StealthCoin\",\"XXXCoin\",\"ZCC Coin\",\"ByteCoin\",\"DigitalNote \",\"BurstCoin\",\"StorjCoin\",\"MonaCoin\",\"Neutron\",\"Sling Coin\",\"KryptCoin\",\"FairCoin\",\"Gulden\",\"RubyCoin\",\"PesetaCoin\",\"Kore\",\"Wild Beast Coin\",\"Dnotes\",\"Flo\",\"MaieutiCoin\",\"8BIT Coin\",\"Sativa Coin\",\"AeroMe\",\"ArtByte\",\"MasterTraderCoin\",\"BitCredit\",\"Folding Coin\",\"Ucoin\",\"Unitus\",\"CypherPunkCoin\",\"MaryJane Coin\",\"OmniCron\",\"CyberCoin\",\"Vtorrent\",\"GreenCoin\",\"Unattanium\",\"Cryptonite\",\"Gridmaster\",\"ConSpiracy Coin \",\"MasterCoin\",\"SoonCoin\",\"1Credit\",\"ViorCoin\",\"IslaCoin\",\"Quicksilver coin\",\"Nexus\",\"MarsCoin \",\"Singular\",\"Crypto\",\"Anarchists Prime\",\"Droidz\",\"BowsCoin\",\"CryptoCircuits\",\"Squall Coin\",\"Milllionaire Coin\",\"Song Coin\",\"BitZeny\",\"Diggits\",\"Expanse\",\"MapCoin\",\"Paycon\",\"Siacoin\",\"Emercoin\",\"BlitzCoin\",\"EverGreenCoin\",\"MindCoin\",\"I0coin\",\"Decred\",\"DogeCoinDark\",\"Revolution VR\",\"HOdlcoin\",\"EDRCoin\",\"Hitcoin\",\"Gamecredits\",\"Dashcoin\",\"DubaiCoin\",\"BiosCrypto\",\"CarpeDiemCoin\",\"PWR Coin\",\"TrumpCoin\",\"BillaryCoin\",\"EthereumScrypt\",\"Phalanx\",\"SunShotCoin\",\"GPU Coin\",\"HempCoin\",\"Adzcoin\",\"VirtaCoin\",\"SoilCoin\",\"YoCoin\",\"Universal Currency\",\"AEON\",\"SibCoin\",\"EuropeCoin\",\"Anti Bitcoin\",\"ZeitCoin\",\"SwingCoin\",\"SafeExchangeCoin\",\"Nebuchadnezzar\",\"Francs\",\"BolivarCoin\",\"GIZMOcoin\",\"SecretCoin\",\"Ratecoin\",\"Digital Bullion Gold\",\"Revenu\",\"Clinton\",\"Clockcoin\",\"VIP Tokens\",\"OrlyCoin\",\"BitSend\",\"16BitCoin\",\"ChessCoin\",\"ReeCoin\",\"Omni\",\"Let it Ride\",\"PutinCoin\",\"iBankCoin\",\"Frankywillcoin\",\"MudraCoin\",\"PizzaCoin\",\"Lutetium Coin\",\"Komodo\",\"GoldBlocks\",\"WayCoin\",\"CarterCoin\",\"Karbo\",\"BitTokens\",\"ZayedCoin\",\"MustangCoin\",\"ZoneCoin\",\"Circuits of Value\",\"RootCoin\",\"DopeCoin\",\"PROUD Money\",\"BitCurrency\",\"DollarCoin\",\"Swiscoin\",\"Shilling\",\"BuzzCoin\",\"Opair\",\"PesoBit\",\"GBR Coin\",\"Halloween Coin\",\"FujiCoin\",\"ZCoin\",\"LeaCoin\",\"CoffeeCoin\",\"RoyalCoin\",\"Zurcoin\",\"GanjaCoin V2\",\"TeamUP\",\"LanaCoin\",\"Elementrem\",\"CashOut\",\"ZClassic\",\"ARK\",\"InsaneCoin\",\"LuckChain\",\"KiloCoin\",\"Hush\",\"ArtexCoin\",\"EmberCoin\",\"XenixCoin\",\"FreeCoin\",\"NPCcoin\",\"PLNCoin\",\"Icobid\",\"AquariusCoin\",\"Kurrent\",\"Creatio\",\"Eternity\",\"Eurocoin\",\"BitcoinFast\",\"Stakenet\",\"BitConnect Coin\",\"MoneyCoin\",\"Enigma\",\"Cannabis Industry Coin\",\"Russiacoin\",\"PandaCoin\",\"GameUnits\",\"GAKHcoin\",\"Allsafe\",\"LiteCreed\",\"OsmiumCoin\",\"Bikercoins\",\"NeptuneClassic\",\"HexxCoin\",\"GoldenBird\",\"Ride My Car\",\"Klingon Empire Darsek\",\"Internet of People\",\"KushCoin\",\"Eryllium\",\"MarxCoin\",\"Printerium\",\"PacCoin\",\"Impeach\",\"Solarflarecoin\",\"Citadel\",\"Zilbercoin\",\"FirstCoin\",\"CreativeChain\",\"BeaverCoin\",\"FindCoin\",\"VaultCoin\",\"Zero\",\"OpenChat\",\"Canada eCoin\",\"Zoin\",\"Musicoin\",\"BnrtxCoin\",\"RenosCoin\",\"DubaiCoin\",\"VirtacoinPlus\",\"TajCoin\",\"Impact\",\"EB3coin\",\"Universe\",\"Atmos\",\"HappyCoin\",\"Coinonat\",\"MacronCoin\",\"Condensate\",\"Independent Money System\",\"ArgusCoin\",\"LomoCoin\",\"Bitcoin Scrypt\",\"ProCurrency\",\"GoldReserve\",\"BenjiRolls\",\"ParallelCoin\",\"GrowthCoin\",\"ILCoin\",\"Phreak\",\"Degas Coin\",\"ZSEcoin\",\"HTML5 Coin\",\"Ultimate Secure Cash\",\"EquiTrader\",\"QTUM\",\"Quantum Resistant Ledger\",\"Espers\",\"Dynamic\",\"Nano\",\"ChanCoin\",\"Dinastycoin\",\"Denarius\",\"DigitalPrice\",\"Virta Unique Coin\",\"Bitcoin Planet\",\"Unify\",\"BritCoin\",\"SocialCoin\",\"Octanox\",\"ArcticCoin\",\"DAS\",\"Linda\",\"LeviarCoin\",\"DeepOnion\",\"Bitcore\",\"gCn Coin\",\"SmartCash\",\"Signatum\",\"Onix\",\"Cream\",\"Bitcoin Cash\",\"Monoeci\",\"CampusCoin\",\"Draftcoin\",\"Vechain\",\"Sojourn Coin\",\"Stakecoin\",\"NewYorkCoin\",\"LiteBitcoin\",\"FrazCoin\",\"Kronecoin\",\"AdCoin\",\"Linx\",\"CoinonatX\",\"Ethereum Dark\",\"Sumokoin\",\"Obsidian\",\"Cardano\",\"Regalcoin\",\"BitcoinZ\",\"TrezarCoin\",\"Elements\",\"TerraNovaCoin\",\"VIVO Coin\",\"Rupee\",\"Bitcoin Gold\",\"WomenCoin\",\"Theresa May Coin\",\"NamoCoin\",\"LUXCoin\",\"Pirl\",\"Xios\",\"Bitcloud 2.0\",\"eBoost\",\"KekCoin\",\"BlackholeCoin\",\"AltCommunity Coin\",\"Pure\",\"Rupaya\",\"Infinity Economics\",\"Pura\",\"Innova\",\"Bitdeal\",\"Ellaism\",\"Sakuracoin\",\"GoByte\",\"Castle\",\"Magnet\",\"Lamden Tau\",\"Electra\",\"Bitcoin Diamond\",\"SHIELD\",\"Cash & Back Coin\",\"UltraNote\",\"BitCoal\",\"DaxxCoin\",\"Bulwark\",\"Kalkulus\",\"AC3\",\"CHIPS\",\"Lethean\",\"GermanCoin\",\"LiteCoin Ultra\",\"PopularCoin\",\"PhantomX\",\"HTML Coin\",\"Photon\",\"Sucre\",\"Fantasy Cash\",\"SparksPay\",\"Digiwage\",\"GunCoin\",\"IrishCoin\",\"Trollcoin\",\"Litecoin Plus\",\"Monkey Project\",\"Pioneer Coin\",\"UnitedBitcoin\",\"Interzone\",\"OP Coin\",\"Valorbit\",\"TokenPay\",\"1717 Masonic Commemorative Token\",\"My Big Coin\",\"TurtleCoin\",\"MUNcoin\",\"Unified Society USDEX\",\"Niobio Cash\",\"Bitcoin Private\",\"Skeincoin\",\"ShareChain\",\"Travelflex\",\"KREDS\",\"Tokyo Coin\",\"BiblePay\",\"LitecoinCash\",\"BitFlip\",\"LottoCoin\",\"LeafCoin\",\"Cerberus\",\"Bitcoin Hush\",\"Crypto Improvement Fund\",\"Stipend\",\"Poa Network\",\"Pushi\",\"Ellerium\",\"Velox\",\"Ontology\",\"Callisto Network\",\"Curium\",\"BitTube\",\"Dinero\",\"Poseidon\",\"Aidos Kuneen\",\"Bitspace\",\"Snowgem\",\"Briacoin\",\"Ignition\",\"Bitrolium\",\"Bitcoin Interest\",\"MedicCoin\",\"Alpenschillling\",\"Zelcash\",\"Bitcoin Green\",\"Deviant Coin\",\"Abjcoin\",\"Profit Hunters Coin\",\"Semux\",\"BitBlocks\",\"FuturoCoin\",\"Carebit\",\"Zealium\",\"Monero Classic\",\"Proton\",\"iDealCash\",\"Jumpcoin\",\"Infinex\",\"Bitcoin Incognito\",\"KEYCO\",\"HollyWoodCoin\",\"GINcoin\",\"PlatinCoin\",\"Loki\",\"Newton Coin\",\"Swisscoin\",\"Xt3ch\",\"MassGrid\",\"TheVig\",\"PluraCoin\",\"EmaratCoin\",\"Dekado\",\"Lynx\",\"Poseidon Quark\",\"BitcoinWSpectrum\",\"Muse\",\"Motion\",\"PlusOneCoin\",\"Axe\",\"Trivechain\",\"Dystem\",\"Giant\",\"Peony Coin\",\"SafeCoin\",\"Absolute Coin\",\"Vitae\",\"HexCoin\",\"TPCash\",\"Webchain\",\"Ryo\",\"MUSDcoin\",\"Urals Coin\",\"Qwertycoin\",\"ARENON\",\"EUNO\",\"MMOCoin\",\"Ketan\",\"NIX\",\"Safe Trade Coin\",\"Project Pai\",\"Mont Blanc\",\"XDNA\",\"PAXEX\",\"Azart\",\"Apollon\",\"ThunderStake\",\"Kcash\",\"Xchange\",\"Acute Angle Cloud\",\"Traid\",\"CrypticCoin\",\"Bettex coin\",\"ZestCoin\",\"X-CASH\",\"Actinium\",\"ETHER-1\",\"Bitcoin SV\",\"BitMoney\",\"Bitcoiin2Gen\",\"Junson Ming Chan Coin\",\"FREDEnergy\",\"Zenad\",\"C25 Coin\",\"HerbCoin\",\"Aquachain\",\"Universal Molecule\",\"Lithium\",\"Smart Bitcoin\",\"PirateCash\",\"Exosis\",\"Block-Logic\",\"Oduwa\",\"Beam\",\"Galilel\",\"Bithereum\",\"Crypto Sports\",\"Credit\",\"SLICE\",\"Dash Platinum\",\"Nasdacoin\",\"Vidulum\",\"Beetle Coin\",\"Titan Coin\",\"Award\",\"BlockStamp\",\"BLAST\",\"Bitcoin Rhodium\",\"GlobalToken\",\"Insane Coin\",\"ALAX\",\"The Freedom Coin\",\"LiteDoge\",\"Boolberry\",\"SolarCoin\",\"TruckCoin\",\"UFO Coin\",\"Ascension Coin\",\"OrangeCoin\",\"BlakeCoin\",\"BitstarCoin\",\"NeosCoin\",\"HyperCoin\",\"PinkCoin\",\"FantomCoin \",\"Crypto Escudo\",\"AudioCoin\",\"IncaKoin\",\"Piggy Coin\",\"Crown Coin\",\"Genstake\",\"Quazar Coin\",\"SmileyCoin\",\"ParkByte\",\"XiaoMiCoin\",\"Groestlcoin\",\"CapriCoin\",\" ClubCoin\",\"Radium\",\"Bata\",\"Pakcoin\",\"Creditbit \",\"OKCash\",\"Lisk\",\"HiCoin\",\"WhiteCoin\",\"Dotcoin\",\"FriendshipCoin\",\"The Hempcoin\",\"Fiii\",\"JoinCoin\",\"Triangles Coin\",\"Vollar\",\"EOS\",\"Reality Clash\",\"Oxycoin\",\"iOlite\",\"TigerCash\",\"Waves\",\"Particl\",\"BitTorrent\",\"Nxt\",\"ZEPHYR\",\"Gapcoin\",\"Beldex\",\"Horizen\",\"BitcoinPlus\"],\"legendgroup\":\"\",\"marker\":{\"color\":[0,0,0,0,2,2,2,0,2,2,2,0,2,0,0,0,2,0,2,2,0,0,0,2,0,2,0,2,2,2,2,2,0,2,2,2,2,0,2,0,2,0,2,0,0,2,0,0,0,2,0,2,2,2,2,2,2,2,0,2,0,0,2,0,2,2,2,2,2,0,0,0,2,0,2,0,2,0,0,2,2,2,2,0,0,2,2,0,2,0,0,0,2,2,2,2,0,0,0,0,0,2,2,2,0,0,2,2,2,0,0,2,0,2,0,0,2,2,2,2,2,0,0,0,2,2,0,2,2,0,0,0,2,0,0,0,2,2,2,0,2,0,2,0,0,2,0,2,0,2,0,2,0,0,0,0,2,0,2,2,0,2,2,0,2,0,0,2,2,2,2,2,2,2,2,0,0,2,0,2,0,2,2,0,2,0,0,0,2,2,0,2,0,0,2,0,0,0,2,2,0,2,2,2,0,0,2,2,0,0,2,0,0,0,0,2,2,0,2,2,2,2,2,0,2,2,0,2,0,0,0,0,2,2,0,0,0,0,0,2,0,0,0,0,0,0,0,2,0,0,0,0,0,2,0,2,0,0,0,2,0,2,0,0,2,0,2,0,0,2,0,2,0,0,0,2,0,2,2,2,0,0,2,0,0,0,2,2,2,0,0,0,2,2,2,0,0,0,0,0,0,0,2,0,0,0,0,0,0,0,0,2,0,0,0,0,0,0,2,2,0,2,0,0,0,0,0,0,2,0,2,0,2,2,0,0,2,2,0,2,2,0,2,2,2,2,0,2,0,0,0,2,0,0,0,2,0,0,0,0,0,2,0,0,2,2,0,2,0,0,0,0,0,2,0,2,0,2,2,2,2,0,2,0,0,2,0,2,0,2,2,0,2,0,2,2,2,0,2,0,2,0,2,0,3,2,0,2,2,2,2,2,2,0,0,2,0,0,0,2,0,2,0,2,0,2,0,0,0,0,2,0,0,2,0,0,0,0,0,0,2,2,2,2,2,2,0,0,0,0,0,2,0,2,2,2,0,0,2,2,2,0,0,2,0,0,2,2,0,2,0,2,2,0,0,0,2,2,2,0,0,0,2,0,2,2,0,2,2,2,2,2,2,0,3,3,2,2,2,2,2,2,0,0,0,0,0,0,2,2,2,2,2,2,0,2,0,0,2,2,0,2,0,0,0,0,0,0,0,2,0,0,2,0,0,2,2,0,2,0,2,2,2,2,0,0,2,0,2,0,0,0,0,0,0,2,2,2,0,0,0,0,0,0,0,2,0,2,2,0,2,2,0,0,0,0,2,0,2,0,0,0,2,0,0,0,2,3,0,2,0,2,2,2,2,2,0,2,0,2,0,2,0,2,2,2,2,2,2,2,0,2,0,2,0,0,2,0,0,2,0,0,0,2,2,2,2,0,0,0,0,2,2,0,2,0,0,2,0,0,0,0,2,2,0,0,0,2,0,2,2,0,0,2,0,0,0,2,2,0,0,0,0,0,2,0,0,0,2,0,2,0,2,0,2,0,3,0,1,0,0,0,2,2,0],\"coloraxis\":\"coloraxis\",\"symbol\":\"circle\"},\"mode\":\"markers\",\"name\":\"\",\"scene\":\"scene\",\"showlegend\":false,\"x\":[-0.3119094208043732,-0.29805967515233145,-0.1403243402748375,0.2876196954572108,-0.16121901251604495,-0.254303128358081,-0.3322119788370868,-0.2128172905929323,-0.17495233237697086,-0.2542286359807877,-0.21187105184158514,0.21489832532217504,-0.01664680590915982,-0.14030742348963388,-0.21293583008097652,0.017640444841415293,-0.3329636838408428,-0.10811481457786376,-0.233919459093219,-0.1614543142028828,0.061123258375698035,-0.0966840829368785,-0.15410208009451162,-0.3328791892661873,-0.31167139055656845,-0.16145431430442775,-0.30356921400556136,-0.14419914047538004,-0.33304067679530847,-0.15922031018532393,-0.3313469916118122,-0.3329428214447766,-0.31029417005883325,0.008892669480572097,-0.26232582801575033,-0.33260044207723255,-0.23406580406947933,-0.31190886248366967,-0.33303939537046195,-0.3119094215140791,-0.332944630364842,-0.3118957825135798,-0.3329776549147111,-0.1452282110922533,-0.15410208037374945,-0.2340002165027402,0.2620925024836278,-0.1403243402748392,-0.24180282715778612,0.04272358523922274,-0.2129358300890599,-0.3330393952851642,0.0849604330888744,-0.16845956444402824,-0.33276493647302424,-0.3330393955288586,-0.3301666100972876,-0.33278349182149847,0.05268121774835107,-0.3330397293075054,-0.055128489094746366,-0.19727671134972039,-0.16145431420623121,-0.4184001434328489,-0.3330243964732536,-0.23776668381905644,-0.3214348750565031,-0.3321774132889977,-0.3324926081510316,-0.2129358301000161,-0.10845006998795562,-0.310737755509049,-0.16635818477445172,-0.03309720287691504,0.8560678651080217,-0.21270415444125199,-0.16117750764531827,-0.21293583008763392,-0.09668408298898722,-0.3310515817279529,-0.3327857292350504,-0.33302490029790943,-0.3330393955522512,-0.21293583007997433,0.06473210270907993,-0.33253863428773267,-0.3232788736128674,0.12538969468341285,-0.3329632126685185,-0.11914206719968042,-0.1538897107527256,-0.09581666183693009,-0.16145431436455296,-0.3019838247267909,-0.16126089278701064,-0.32864619632792086,-0.09648514922675867,-0.21933330690901973,-0.3089866900173169,-0.3109386749329285,0.07286979260730753,-0.3330393953184201,-0.3330249028154759,-0.3327215616148863,-0.108450069991296,-0.3119094213589773,-0.33270346682820845,-0.22742387501241132,-0.3330393953484829,-0.05446292926063024,-0.2129358146280147,-0.15406028687572224,0.013632582791724844,-0.1608828754468462,0.047761464657555736,-0.21291703646026325,-0.161153277568052,-0.16145431420630663,-0.16142441278279082,-0.1614516771461626,-0.2340499575451223,-0.2974852092758188,-0.311250063303558,-0.09668408291683699,-0.33273553010706663,-0.23406580399933336,-0.36152744228738143,-0.2291996765868758,-0.3314695044934727,-0.31190942136231753,-0.21284459749798673,0.013891672885299017,-0.16093985369643554,-0.09624971377849392,-0.3119094215226514,-0.30996699025094426,2.303136540913478,-0.022165946953633386,-0.23044255520396548,0.015892961822867514,-0.33214431168850106,-0.13981085172724725,-0.16145431420087872,-0.15410208009650503,-0.24114800841933035,-0.32759192489832484,-0.1537452721094963,-0.3312344184763088,-0.09665753725016349,-0.3330370075201257,-0.15180977762262607,-0.331040778955168,0.017483001041071346,-0.3118901553218964,-0.09659093400338851,-0.0966840829569203,-0.32263701212095547,-0.21293583011040448,-0.18359749096014466,-0.30424749129778883,-0.05509318390774779,-0.16550354501495723,-0.22790310354780366,-0.10845006998795562,-0.3329063029189869,-0.311909421355637,-0.3117571045396185,-0.2725267584787275,-0.16145431419753864,-0.3130424755133485,-0.33303939555892115,-0.2340658041095628,-0.3330312643697352,-0.16129073711088387,-0.33303854475225,-0.311909421355637,-0.21291596207162736,-0.2340658041095628,0.5116644777214711,-0.23364288231648409,-0.311909421355637,-0.26412761511976707,-0.1612607511418697,-0.21829424446229942,-0.23385758449492766,0.07991737129085333,-0.06137993486026379,-0.2129358300766342,-0.33261196264921644,-0.3320469238304621,-0.15278953809290746,-0.2555787744058694,-0.0551284887681622,-0.09638163916374443,0.349723290454656,-0.13975916560227433,0.06112325838621275,-0.10827247580197828,-0.23385753384690788,-0.1611787135059212,-0.08994046971434574,-0.33303945039314964,-0.33028305719002965,-0.37007019742634367,-0.14027617409128415,-0.06860459437611534,-0.33212276721913,-0.11281779616200864,-0.14025701983257188,0.026615846628420994,0.12389193697569828,-0.0651109353557765,-0.047620813419692834,-0.3117913091861443,-0.3119094213696663,-0.16145431424764284,-0.23406581151498956,-0.1535708024878161,-0.22742389154685536,-0.233473712204393,-0.33303946542446233,-0.19995070317679098,-0.33303104200047934,-0.14032434097630042,-0.1667377449630724,-0.30643825779816897,-0.21279923154305463,-0.1614543143378307,0.3311606941356698,-0.1402668893616586,-0.2347376171331844,0.05286917760816102,-0.3329531507164544,-0.23388658847698288,-0.21293583007696823,-0.21293583014678022,-0.2111697398335845,0.05260666916869437,-0.14030864924770256,-0.161454314205626,-0.14010563547081153,-0.19618138982535444,-0.10845007010820613,-0.21261573134552245,-0.19727671140108077,-0.3119094216050455,-0.311909422524739,-0.3330313041397563,0.02778565635402757,-0.3012372473101274,-0.3118500115874553,-0.3105968794088243,0.06118888484506366,-0.2340477183396208,-0.046505088170156465,0.0060834734807958925,-0.21273154782998707,-0.055128489094746366,-0.31134285621802643,-0.1127151233968959,-0.14031652508760786,-0.1613723611901111,-0.2129271983315661,-0.3118755319778544,-0.15323276583408899,-0.3118839594923109,-0.3315057529257487,-0.212935863479551,-0.15187602649699738,-0.16133478476142799,-0.3752469982718934,-0.33289345117725405,0.04283995236508586,0.05357839398791772,-0.3114694183712236,-0.33303939557061213,-0.2094618184137526,-0.22742387487879953,-0.22470975061589335,-0.16145432087812162,0.05455864017390931,0.061156073575302165,0.005485872352285965,-0.24570267269384388,0.05284054595068027,-0.19992289919009942,-0.2553725706188754,-0.1614543145315674,-0.21189427735927885,7.392990436203611,-0.2126950730007219,-0.3119094246959288,-0.33046293481544353,-0.2119679575764853,-0.22325045727534074,1.1133856923850578,-0.21288525354633722,0.05326294019220547,-0.21412673963880707,-0.3116851132587452,-0.3119094220236953,-0.3118772697566509,-0.23326036564473504,0.05286917760816102,-0.21285616575855984,-0.14016136782057126,-0.3116437100962384,-0.16883902079717558,-0.311763982282945,-0.31176616717807276,-0.2129251371920107,-0.1128049576038441,-0.3117994587112788,0.28970962049447596,-0.3118638370287791,-0.3118659002341443,0.1845612381758795,-0.20645992494606097,-0.33302766081815127,-0.11269498044764313,-0.21293583091170695,-0.2642833689648883,-0.0966840844199682,0.05260666888476895,-0.3115948673855219,-0.14029118449695033,-0.21286155206760082,-0.21293583041066333,-0.2340658043355002,-0.3117542562441168,-0.22701802126670978,-0.31190537644922495,-0.3330393953451424,-0.17503412832795606,-0.1540637196794499,-0.3863395143579425,-0.21670573200809995,-0.3329985062111527,0.06131390316750256,-0.2336669842798627,-0.2118771079291556,-0.2987840018875081,-0.3317289086635864,-0.26406457330846383,-0.2557165308301323,-0.23406580470079463,-0.1536289038716915,-0.2665855752055814,-0.21276306376359075,-0.20885826884954686,-0.21148375982806913,-0.332198120856653,-0.15410208041383294,0.05406537369873341,-0.21265335395988685,-0.21827381415133704,0.05787549349515552,-0.21133892125277653,-0.31183895189771116,-0.31189434921314835,-0.3119028619845247,-0.3330393953484829,0.018802455933913716,-0.21271044856129073,-0.33277326302278154,-0.3330393952816769,-0.15022830893854347,-0.14415832945602833,0.05275617065038541,-0.3116290788982024,-0.2129358370695346,0.42521645786182183,0.0176187581040188,-0.3328599262781791,0.028591690857905167,-0.17427197809431144,0.3739200339865481,-0.28885464673722466,-0.08295690664008946,-0.31533538824302837,-0.08906778147115477,-0.1972219602285936,-0.23360459042943293,-0.1964505704016569,-0.24705597354729344,-0.3328013894914843,-0.09640493031721734,-0.33297156629700464,-0.2129358301030411,-0.23372398715641712,-0.23403137757473663,-0.19319104546719804,-0.11263191662866202,-0.0963964128513657,-0.2569600375914243,1.807127032419072,-0.18729155572433998,0.1560033138782537,-0.23245826313605775,-0.24652403375568396,-0.16121811454488202,-0.2127708532232167,-0.3330393986520313,-0.15385711642915648,7.8181426562976375,-0.3330330617124967,0.052659170704270376,1.5439836095054762,-0.3330393986186284,-0.33291202569094164,-0.33281030771839804,-0.3326108934638506,-0.3325968519529846,-0.3116529561628102,-0.3118542945938707,-0.1127003677939605,0.179242207205195,0.7019127824932143,-0.2128405080694075,-0.1435641876524137,-0.21697837396185848,-0.19858968656802783,-0.31189444878009565,-0.24045087277385432,-0.05061902776221413,-0.211742169313889,0.3241415601688331,-0.13911613493901484,-0.18991908608263663,-0.1312305734839419,-0.199579451907085,-0.31188120586187695,0.027018948113605234,-0.33172698456614935,0.09309186143585384,-0.3116946560837923,-0.2377213105802961,-0.2129358300889493,0.1844231877612576,0.13561177612298392,-0.23176602293631976,-0.24042187494939457,-0.33303939628042417,-0.2555490975355462,-0.3330393956294014,-0.2404290013820329,4.395643731854508,-0.21243445784974951,7.395351547355222,0.17547404232345942,-0.09427512194188832,-0.16003526947283123,-0.3104528023081222,0.14026397854336098,-0.1127587317395071,-0.24887963786362513,-0.039295495300470516,0.18464573952835353,-0.23301162166125025,-0.16145431426768442,-0.1693865121147084,-0.24744407071054358,-0.3117989136414235,-0.28100759449069096,-0.2123428995834449,-0.1403246409010914,0.2837328711880963,-0.234010296120783,-0.31190942137100236,-0.24040255216918316,0.18478150745347918,-0.2365705795494164,-0.3324424112389139,-0.3041520009050049,-0.31187654892834143,-0.055070641784939964,-0.23395452537208747,-0.16118962698854433,-0.2690946969306451,-0.31190942803622046,-0.6199969498244837,0.027547509404906526,-0.07675797671018425,-0.35560686815725373,0.5846616687584473,-0.25878804180527126,-0.3088269655972151,-0.1110598769554188,-0.2119679575764853,-0.2682752573209399,-0.2017852005970473,-0.19861685570684443,-0.2214212632010906,0.06414602648979657,-0.5281890144297186,1.105868998287416,-0.33287603508709607,-0.14283876556447261,-0.33303946542446233,-0.2405055528747135,-0.2119679575764853,-0.23129243482573952,-0.24797345462952064,1.8100110691655644,-0.21290737651287833,-0.19906188376907308,-0.15376646322030513,-0.02224050542986992,-0.25246653288428,-0.23406580407281963,-0.1117671213821185,-0.2405055531035235,-0.3329859720931032,-0.2133757807816919,-0.19709574009304023,-0.2119679577872446,-0.31189832201181333,-0.31189390510782666,-0.21103138693483806,-0.21196795758082787,-0.15059368669255618,-0.22445023279386175,-0.1908379842851008,0.11175025793148398,0.05289380837690401,-0.3117797356846565,-0.31190942168966623,7.852963620384138,-0.31190942302578306,-0.2336483967093606,0.028449987315033273,0.05275203634425653,-0.11260756804978733,-0.06366941037518552,-0.2934792772006551,-0.21813014126262367,-0.2642410849017905,-0.04737268022717445,-0.2822446016398116,-0.1535940368867545,-0.22471738802078978,-0.11281669163142498,0.2085366074548931,0.42918962417985024,-0.17803014278072227,-0.15400193321046254,-0.12246109017645032,-0.21369045137605155,-0.10546643450631481,-0.31162592117063337,0.049754763909093155,1.4346980098142095,0.18445883796655768,0.018241794537287744,3.1805885106777247,-0.2425578718601076,-0.24273291472293712,-0.23400026843048127,-0.22104992198393117,0.18451614733437618,0.026693542484673954,-0.1540884595698362,-0.20134039128459702,-0.20856638307310815,0.18529017274972207,-0.33302080105045645,-0.31183849750339665,-0.1749736137956799,-0.2607076844672934,-0.31190942168966623,-0.2200038118652661,1.5149612598379705,-0.054875568479159614,-0.2125319462049215,-0.15268763457830575,0.05272909106313883,-0.22987135365261707,-0.15410208284556512,-0.13389093331446775,-0.1541020802735402,-0.195514430204029,-0.055069363803271744,-0.2339999685190611,0.02661584586079001,-0.2979971360176755,0.3948521974187924,-0.24253650539431382,1.154742773180904,-0.2193755796885487,-0.15638035376174955,-0.04117095802362779,0.005485872675292359,-0.22764494091022408,-0.2246301245451496,-0.255716529356288,-0.16121815490555705,-0.21006645102004345,-0.2557165296446684,0.17075903667424028,-0.08831193847157355,0.29029999728693234,-0.2588512845066696,0.027079333883663008,-0.24623573846617744,-0.22653741335980757,-0.2263501337859863,-0.1614543142676838,-0.03285376547072115,-0.19338566659909584,-0.33257626884758795,-0.31171545984191357,-0.21149954459518375,0.026855582627515612,-0.21163784288960524,0.18444858174461554,0.09269080591069247,-0.22781699447432335,-0.05511909549375256,-0.3116397397662726,-0.37370154185765597,-0.1964562411479449,-0.20236161363917415,-0.21273343438142808,-0.16145431454826908,-0.1607679356953028,-0.11779869626267944,-0.16034373204607621,-0.21262376064495656,7.40469565798802,-0.05512848884422419,-0.11084266837307728,-0.23406580406096172,-0.33231040783999855,-0.20975194238319697,-0.1903049582391318,-0.20685667668202576,-0.31186299543440854,-0.22625158425410857,-0.3116393458544372,0.01754065121750077,-0.31178300778357537,-0.20720850593135787,-0.11281779616185231,-0.32279880330147454,-0.29903692732386916,0.09514213537732664,-0.20644871570618523,-0.1611526011745174,-0.3111218960372362,-0.11281779616200864,0.055262805930222404,-0.1403243403583464,-0.3066025980018087,-0.2620141042983157,-0.21029283883539543,-0.31054934095318926,0.052656824654748316,-0.33297307836232726,-0.33212475794546226,-0.06227866422896742,-0.13934418569944676,7.393145448065362,-0.022844673889677664,-0.3086017427776224,-0.3330393982511961,-0.2193608735208753,-0.3119094223577243,0.23175958637906033,-0.1663144386265122,-0.09668223514970298,-0.174377830559497,7.404965316880035,-0.2553951147724692,7.406301980541806,-0.25571653265093053,0.0306084205092071,-0.36145874843621284,0.0527285142953674,31.084984223120834,0.06404295960476433,4.254954383925462,-0.311713445896958,-0.09995196477180088,-0.21187218743676037,-0.15410039569697562],\"y\":[1.2231149145755897,1.2213073426167977,0.7934543665138036,1.8712804618783683,-1.456435575898372,-2.1136996388651803,-1.0268523058874481,1.4060307937226362,-2.1675135272046093,-2.1137093582320525,-2.0694218771816573,1.3448146189274104,-1.8592420447510631,0.7934521589477971,1.4060462644450022,0.42978014999763364,-1.0267541990773557,1.9441038483717283,-0.843832067936032,-1.4564048661104707,1.5577793057920093,1.9214329739190499,0.8594612467396848,-1.026765226170032,1.223083848637245,-1.4564048656778714,1.2220264046834988,-1.8425950004526517,-1.0267388537388342,-1.4566964315572646,-1.0269651961401869,-1.0267569208127165,1.222904102486974,-0.7128529018956155,-1.3696220676778394,-1.026801606670126,-0.8438129679217029,1.2231148417140745,-1.0267443176070354,1.2231149153225263,-1.0267566858139083,1.223113134607806,-1.0267523757715067,0.41015626146697143,0.8594612479292886,-0.8438215280284314,0.01614881804762934,0.7934543665138015,0.8803163820726941,-1.8669907458331665,1.406046264479439,-1.0267443179704192,-1.4885650367929153,-1.0482240276860648,-1.0267801382993815,-1.0267443169322377,-1.027119251220296,-1.026777716423477,1.4759188168465622,-1.0267428949756983,1.0423925977082558,1.783775720675949,-1.456404866096206,0.4687654628691737,-1.0267462753916239,-1.6449404380672552,-1.0282588453873711,-1.0268568173525225,-1.0268156801251256,1.4060462645261138,1.944147598913237,1.222961998048542,-1.8397029722046454,1.0395172152307288,-1.1819376631565923,1.4060160279232696,-1.456440992845869,1.406046264473363,1.9214329741410419,-1.027003750916398,-1.026777424576251,-1.0267462097720537,-1.0267443168325803,1.4060462644407326,2.5649107651117795,-1.0268096735084287,-2.2838583120858793,0.822983786308657,-1.0267542607234594,0.7906898264953987,0.8594335296625722,1.9213197636401014,-1.4564048654217265,-1.0307972834543677,-1.4564301099560586,-1.0273176852864196,1.9214070102940655,0.6052707324120162,1.2227334644352554,1.2229882204498137,1.1728960183093364,-1.0267443178287425,-1.026746209172419,-1.0267857961466609,1.9441475989274672,1.223114914661765,-1.0267881605035831,-2.0644130475890985,-1.0267443177006705,1.0423057317605158,1.4060462624102623,-1.45736987454543,0.0463651033114242,-1.4564794459775117,1.5047234167164432,1.4060438117430922,-1.4564441549092848,-1.4564048660958846,-1.4564087675691084,-1.4564052103006937,-0.8438150363973322,1.221232381775424,1.2230288608751632,1.9214329738336682,-1.026783976200637,-0.843812968220538,0.48384838077648196,-1.4574269551523913,-1.0269492063379038,1.223114914675995,1.4060343574158043,0.04633128716737379,-1.4564720095723553,1.921376282780879,1.2231149153590464,1.2228614148871608,-2.611393658012185,-2.3079126114135184,-0.4877956381765716,1.3569719718766529,-1.026861137075042,0.7933873502450441,-1.4564048661190085,0.8594612467481785,0.8802309193023538,-1.0274552634543679,0.8594146782411131,-1.0269798896117148,1.92142950943034,-1.0267446295980245,0.8591620769061257,-1.0270051622786927,0.42980069837255963,1.2231124001693194,1.921420816777411,1.9214329740044314,-1.0281019560286402,1.4060462645703702,-2.353993817381108,-1.9667153140403435,1.0423879887998695,-1.8398145148422334,-1.2656141765637174,1.944147598913237,-1.0267616883076216,1.2231149146475349,1.2230950355169539,-1.0346418983437042,-1.456404866133239,-2.1274167677611278,-1.0267443168041657,-0.8438129677509401,-1.0267453791846044,-1.456426214867778,-1.0267431599304733,1.2231149146475349,1.4060436713828879,-0.8438129677509401,3.2744892633598295,-0.8438681647702048,1.2231149146475349,-2.272804716357763,-1.4564301279907665,2.0240498378756495,-0.8438401433949366,1.330857111998825,0.9706369790218724,1.4060462644265026,-1.0268001008438281,-1.0268738455103803,0.8592899433932084,-2.1135331495537835,1.042392596316951,1.9213935015192973,-2.442670752564995,0.7933806173623122,1.5577793057472151,1.9441244208305628,-0.8438401500741605,-1.4564408354647358,1.0162425176942254,-1.0267440832005774,-1.0271040545369234,-2.2912209249648265,0.7934480804782762,1.3872094505339614,-1.026863949211287,-2.29608145558848,0.7934455804295808,1.5374509607210916,-1.4936461164429993,1.7665262977171283,0.0614935399114665,1.2230994999898424,1.2231149147073013,-1.4564048659197852,-0.8438129362025021,0.8593919106428792,-2.0644129771494204,-0.8438902430564502,-1.0267440191645059,-2.1835472784175245,-1.0267454058930618,0.7934543695021515,-2.15940287075986,-2.3720136995245626,1.406028441765685,-1.4564048655355688,0.7961292509068459,0.7934468689436659,0.08099135230491593,1.4758942858162525,-1.026755573806474,-0.8438363579274625,1.406046264427926,1.4060462647253376,1.405815766776059,1.4759285466523175,0.7934523216946764,-1.4564048660987838,0.7934258298181777,1.7836327676220756,1.9441475994255255,1.4060044891261885,1.7837757208947533,1.2231149157100591,1.2231149196281184,-1.02674537399412,1.6114666451662394,1.2217220790495127,1.2231071614800788,1.2229436115344785,1.557770743311642,-0.8438153282991061,1.041267134832454,-1.651299141418658,1.4060196035175756,1.0423925977082558,1.2230409714687345,-2.296094855890767,0.7934533468157503,-1.4564155619758388,1.4060451379083028,1.2231104919146396,-1.8414160010868286,1.2231115915296829,-1.0269444763292148,1.4060464067288834,0.8591707163839276,-1.4564204661960236,0.4320797517078399,-1.026763365266574,2.1216002840530215,1.475801724222629,1.2230574883015657,-1.0267443167543597,1.4055928795667851,-2.064413048158309,-2.324212722578764,-1.4564048376727627,1.4756737883563502,1.5577750229021552,-0.7124082704202548,2.051289437987905,1.4758980265113466,2.15328395021673,-2.113560061811177,-1.4564048647102152,-2.0694188459371845,0.6029432206575255,1.406014842782696,1.223114928877773,-1.0270804430256804,-2.069409229671399,-0.8452245104827174,1.7635024986647738,1.4060396635577772,1.4758428948823352,2.1551377366986655,1.2230856399359704,1.2231149174935827,1.2231107190079775,-0.8439180856842693,1.4758942858162525,1.4060358679822023,0.7934330966781794,1.223080236186351,0.9266890116481727,1.2230959332659193,1.2230962270134584,1.4060448689292764,-2.2960831311589005,1.2231005650202131,0.8015382600432521,1.2231089654551113,1.223109234597755,1.1737792750841627,0.9842041797202014,-1.026745849467972,-2.296097484611414,1.4060462679840622,-2.272784389142041,1.9214329802372758,1.4759285478618873,1.2230738679933295,0.7934500395256234,1.4060365702698236,1.4060462658495267,-0.8438129667884068,1.2230946637758326,-0.8447314198474288,1.2231143870350452,-1.026744317714901,-2.1675028491737574,0.8594562407186347,0.4028187324938424,-1.6199625386089123,-1.0267496545299564,1.5577544241696408,-0.8438650057986323,-2.069421086835422,1.2214018835169738,-1.0269153528639037,-2.2728129447853944,-2.113515164433765,-0.843812965232188,0.8593994910856425,-2.324558508597877,1.4060237174632697,1.5771225050285431,1.4058567511191584,-1.0268540605230772,0.8594612481000509,1.4757381672785164,1.406009398848699,-0.46610085279412994,1.475240899062251,1.4058378531041138,1.2231057177219071,1.2231129479234188,1.2231140723550922,-1.0267443177006705,0.4296295262183661,1.4060168496394387,-1.02677905137162,-1.0267443179852753,0.858955694525282,-1.458662191799223,1.4759090348920072,1.2230783276101271,1.406046294217506,1.8744981340490308,0.42978298299803563,-1.0267677401403839,1.611361447669179,-2.167602321200335,2.0548733605588825,-2.072051933173515,-2.386200124778641,-2.214060095771977,-2.29918112668534,1.7837685750427885,-0.8438731614556212,1.78366789974512,1.3130017413264325,-1.0267753807107631,1.921396541054242,-1.0267531695652268,1.406046264539002,-0.8438575791181979,-0.8438174610742806,1.2076212491683698,-2.296105714893478,1.921395429256502,-2.331888761947895,-1.3060622502788903,-1.6238014194207835,1.30664435891453,-0.8440227588914304,1.312932315982537,-1.4564356930957634,1.4060247328449176,-1.026744303626965,0.8594292756790134,3.081277287472278,-1.0267449997755975,1.4759216951340026,-1.271721230163813,-1.0267443037692674,-1.0267609411790297,-1.0267742158686108,-1.0268002419076743,-1.0268020745149282,1.2230814431335966,1.2231077199167864,-2.296096780608488,1.3494681766267063,1.360030029460285,1.4060338239865917,-2.0783365582664346,0.6049633872484157,-0.8484430569705468,1.2231129607407667,-1.6445901193341075,0.42882515832108387,-2.069438698096257,1.140101995929396,0.7932966807409273,1.7828154675198997,1.8711419436802952,-2.1835957299916924,1.2231112324333142,1.5373983530006665,-1.0269156039846665,1.3066982525347757,1.2230868850761858,0.7454105805161236,1.4060462644789675,1.1737972933597736,0.4143834182146131,-0.8441131159543532,-1.6445939036944586,-1.026744313730434,-2.113537019157921,-1.0267443165039074,-1.6445929737806095,0.69721568909079,1.4059808305499872,0.602635068861753,1.735127115059764,1.9211185747121324,-1.84052818972257,1.2229248090397766,-2.3291108810008825,-2.296089164377227,-2.1144073398519043,1.4200993599018805,1.173768246582706,-0.8439505456997052,-1.456404865834404,-2.168239928308522,1.2147020034083624,1.2231004939639836,-1.0335351034069675,1.4059688796601095,0.7934556472352281,-1.2851426509579962,-0.8438202124769949,1.2231149147129936,-1.6445964259099188,1.1737505284099594,-1.645096543604341,-1.026822231615437,1.222102478678161,1.223110624405942,1.0423850467614748,-0.8438274912705498,-1.4564394111190173,-1.2775222954852843,1.2231149431080108,2.535622708395933,1.6114977264497434,-0.22731237814220642,0.5138785075131909,-2.387098173799481,-1.5044569059990982,1.2227126156428505,-2.296310883462202,-2.069409229671399,-0.9368458363209606,-1.0438746293051144,-2.1837213626035994,-1.4584421293838559,1.5573848045715195,2.5839647783252495,2.0051530676838927,-1.0267656381641657,-1.0515678210909654,-1.0267440191645059,-1.6445829827786442,-2.069409229671399,-0.8441749235448001,0.9723380767060963,2.1522223457387986,1.4060425511961017,1.6256405137081036,0.8594174456784378,1.5926908790976635,-2.1139392497744174,-0.8438129679074725,-2.296218569330851,-1.6445829818038726,-1.0267512901587104,-2.251911067129046,1.783752102158176,-2.0694092287735284,1.2231134660742922,1.223112889636117,-2.0695314641429596,-2.0694092296529,0.8590033605770239,-2.3242465893246513,0.18045000566515593,1.3157520966317924,1.4758910721055063,1.2230979893256915,1.2231149160705586,0.7710776221057583,1.2231149217626538,-0.8438674441430668,1.5372115830123085,1.4759095751646403,-2.2961088932037144,0.4616493763570113,1.220709601992447,-0.4661196044269886,-2.272789907560121,1.1902138292243654,-2.238079267269161,0.8593949403558626,-2.3242117259443917,-2.296081591722555,-2.2605253808243813,-2.366818223428718,1.2056419971158134,0.859448176596266,-2.18836463012039,2.155080699993595,-2.2970408942631586,1.223077915194252,1.5804420538505917,0.06816549874630935,1.1737926484570838,0.42970166693221823,1.0796790093766002,-1.4245625645411937,-2.2725661248936198,-0.843821521209775,0.8252473379612524,1.1737851601321583,1.5374408201525902,0.8594597016980856,1.9556436007160718,0.7924971005772632,1.1736841404268998,-1.0267467444930354,1.2231056719189761,-2.1675107255513733,-2.0309354224626786,1.2231149160705586,-0.6242432593958087,-2.4310289410109323,1.0423595875232878,1.4059935528034146,0.8592766458121284,1.4759125716277022,-1.457339290947261,0.8594612584596644,-1.460002231507417,0.8594612475023807,0.6298886933817534,1.0423848810573149,-0.8438215602970989,1.5374509639913359,1.221299421371672,1.3323646645122025,-1.4245653520793162,1.4234058101211482,0.6052762530061641,-2.076664059934819,1.261975936529319,-0.7124082717963188,-2.1129667710957376,-2.324223113995405,-2.1135151707126036,-1.4564356878281488,1.3462629353198916,-2.113515169484053,1.012911216282718,-2.2992796905596937,0.7824130197147833,-1.5044486521152631,1.537390469826241,-2.321257939469541,-1.8247147269366661,-1.824739170558373,-1.4564048658344075,-0.18322674883252746,-2.2456146913070474,-1.026804760612939,1.223089600333936,-2.0694703605711022,1.5374196719118784,-2.0694523139705656,1.1737939782510338,1.170310139560457,-1.2656254135840725,1.0423913706084804,1.2230797187080507,-2.0165280417121596,1.6253004481418654,2.1536022008977467,1.4060198548419631,-1.4564048646390637,-1.4564944469367376,-0.3284282635476269,-1.4565498098209768,1.4060055355548837,0.6014155428262092,1.0423925966409882,1.1968734642591319,-0.8438129679579901,-1.0268381075094766,1.4056307239808992,-1.6511347852222682,0.9842559601052626,1.2231088581951843,-1.824751936394409,1.2230796668869282,0.42979317453375354,1.2230984159650675,1.4052987779895207,-2.296081455589145,-1.0280808400893482,1.221435024756081,0.7627228064546281,1.405199621976682,-1.4564442431877975,1.2230121321393406,-2.29608145558848,-1.0774223221511583,0.7934543668695572,1.222422307876902,-1.369662751553218,1.405701321159462,1.2229374079501276,1.4759220005996458,-1.0267529731858331,-1.0268636880427113,0.6735808745172074,0.7933264445213529,0.6029229899927816,0.8423305161823894,1.2226832219539703,-1.0267443053345937,0.6052743310060159,1.223114918916606,2.3094671627859413,-1.8397086822098976,1.9214327326766991,-2.1387300806923433,0.6013803348960327,-2.113557119517637,0.6012058821932006,-2.1135151566768386,0.42808766724197034,2.8673261592785737,1.4759126441260064,-2.933022008876902,1.6616103006895717,-0.05020696779377637,1.2230893406457473,-2.297760601694396,-2.0694217289711143,0.8594610266905288],\"z\":[-0.39582913475026116,-0.3961566028379726,-0.27526814179009174,-0.4561937123168878,0.08517344056753591,0.2351552882822396,-0.03540155270753232,-0.34950546929700804,0.18537902164529343,0.23515352610731716,0.16607405156726118,-0.007727727659692031,0.18486506243011544,-0.2752685418640993,-0.34950266644270894,-0.03488680150736724,-0.0353837789989046,-0.4579188599256967,0.010941019234414678,0.08517900416311425,-0.20672080910328264,-0.4471058720631625,-0.15544407183947312,-0.0353857769808024,-0.3958347628495996,0.08517900404049393,-0.3960263321135018,0.1878810111168197,-0.035383537693624796,0.08512618227495489,-0.0354220053051593,-0.035384272598074605,-0.3958673260320431,0.026210460047002736,0.06789804026247163,-0.035392367664810756,0.010944479437481369,-0.3958291479533508,-0.035381988888817724,-0.39582913492855054,-0.035384229502749394,-0.3958294572205937,-0.03538344863197387,-0.17204219461576287,-0.15544407217666678,0.010942928685487355,-0.05429717997251067,-0.2752681417900837,-0.29253475398843526,0.18346131640672286,-0.34950266645247025,-0.03538198878581656,0.07935264279867969,-0.03927339968729884,-0.03538847821774076,-0.0353819890800894,-0.03544991466469366,-0.03538803953695182,0.034361570282553544,-0.0353823921340157,-0.10911760387690839,-0.3731549358375291,0.08517900415907108,-0.22779390274305897,-0.035382343458249345,0.1554509085795947,-0.035656374002158805,-0.035402369924050214,-0.0353949174087619,-0.34950266646570033,-0.45791093164654406,-0.3958568383106556,0.18840495163430596,-0.10963851519552144,-0.0634978292536402,-0.3495081443087121,0.08517245921884543,-0.3495026664507476,-0.44710587212608577,-0.0354289900934869,-0.03538798658578917,-0.03538233150507206,-0.03538198910833724,-0.34950266644149913,-0.41957018217441633,-0.03539382903404553,0.21175257264916236,-0.16205242602077335,-0.035383790094150644,-0.2757689892481791,-0.15544909313781693,-0.4471263815004054,0.08517900396788972,-0.03611633401221708,0.08517443079226943,-0.03548586375681915,-0.44711057566323464,-0.2049324771845648,-0.39589824205471164,-0.3958520876448559,-0.4049269243070475,-0.035381988825974764,-0.03538233152635747,-0.035389504722531176,-0.45791093165057717,-0.39582913474125764,-0.03538993174137795,0.23844263049413764,-0.03538198886227678,-0.1091333400831667,-0.34950266680273934,0.08500417479366587,0.06831796038201275,0.08516549277469529,-0.12090914815947794,-0.34950311083826724,0.08517188623213741,0.08517900415897973,0.08517829684608742,0.0851789418176185,0.010944104845746856,-0.39617019000560716,-0.3958447251299308,-0.4471058720389609,-0.03538917351541961,0.010944479522186319,-0.3178824169056077,0.16739721913390304,-0.035419108651768685,-0.3958291347452912,-0.3495048235797322,0.06831183482007151,0.08516683998704438,-0.4471161423417031,-0.3958291349389026,-0.39587506604334466,0.19917612984647276,0.2541567214014654,0.33089351756205293,0.06071788015442331,-0.035403152728732526,-0.27528028308615077,0.08517900416553445,-0.15544407184188092,-0.2925502366235198,-0.03551079666498894,-0.15545250820477058,-0.03542466666094024,-0.4471064997388723,-0.03538204524496843,-0.15549827344396933,-0.035429245082659634,-0.03488307882617826,-0.39582959026682263,-0.44710807450990225,-0.44710587208736385,-0.035627948725451726,-0.34950266647824463,0.2027076424155898,0.1727843434122236,-0.10911843831015411,0.18838474454944787,0.0403057754819607,-0.45791093164654406,-0.035385135651336705,-0.3958291347372241,-0.3958327362259174,-0.03681280167013456,0.0851790041695681,0.18239117627150844,-0.035381989116391586,0.010944479389078502,-0.03538218102879841,0.08517513643687966,-0.0353823872415117,-0.3958291347372241,-0.34950313620018164,0.010944479389078502,-0.27949159131427204,0.010934479749445543,-0.3958291347372241,0.2605205274942079,0.08517442730845905,-0.3870016711019136,0.010939556256070137,-0.038579876126677876,0.09056437667611722,-0.3495026664374653,-0.035392095936852296,-0.035405455980748464,-0.1554751061645724,0.23518544981938763,-0.10911760348254232,-0.44711302327957797,0.385209936807019,-0.2752815089951602,-0.20672080909058585,-0.45791513082386076,0.010939555079101979,0.0851724877304324,-0.32258563808308344,-0.03538205533138524,-0.03544716099922324,0.32506305786295775,-0.27526928073054546,-0.35291536955754765,-0.035403662043219514,0.25630015122642524,-0.27526973357002066,-0.3341561340586296,0.07843213667936592,-0.3762798874297779,0.09025809182422292,-0.39583192757552293,-0.39582913475416504,0.08517900410906451,0.010944470446666396,-0.15545663430525933,0.23844261052799373,0.010930479650872507,-0.035382073482425114,0.19665631799216662,-0.03538218697634187,-0.2752681426371323,0.23492382048695817,0.2868920736585529,-0.3495058977772017,0.08517900400015836,-0.16691812001964548,-0.2752695003344037,-0.04254988278281334,0.034357126043264144,-0.03538402804189698,0.010940242015035713,-0.3495026664378686,-0.3495026665221704,-0.3495444245041464,0.034363332861012806,-0.2752685137075434,0.08517900415980169,-0.2752733150452487,-0.3731808341860071,-0.45791093179175224,-0.3495102354816032,-0.3731549358995492,-0.395829135038397,-0.39582913614897175,-0.03538218008845629,-0.03563010117127441,-0.39608147778237085,-0.39583053961488823,-0.3958601691284864,-0.206722361581156,0.010944051798752002,-0.10932149942414603,0.03136202467316909,-0.3495074967296081,-0.10911760387690839,-0.3958425310762944,0.25629772364767,-0.27526832666015255,0.08517706641774665,-0.34950287054035023,-0.39582993611018646,0.18809460708437867,-0.3958297367621415,-0.035418251318211164,-0.34950270677310974,-0.15549670498728824,0.08517617795013631,-0.27200735541252025,-0.035385439629762226,-0.5024124861280297,0.03434035698038589,-0.3958395382476452,-0.03538198913050904,-0.3495848127685471,0.23844263065548008,0.2290177217266647,0.08517899610243904,0.03431718000148298,-0.20672158497331194,0.02629101147423278,-0.4597297674726168,0.034357801859745546,-0.49667250582389505,0.2351805742613802,0.08517900376621151,0.1660746007156168,-0.7486548893868428,-0.3495083590648403,-0.3958291387707885,-0.03544294820179614,0.16607634282404493,0.010688757445058861,-0.4757169849215247,-0.34950386229397407,0.03434781572588546,-0.49633666556147654,-0.3958344384770747,-0.3958291355439371,-0.3958298951081926,0.010925434653888637,0.034357126043264144,-0.3495045502818134,-0.27527199522262186,-0.3958354173981801,-0.05370543105780144,-0.3958325736402062,-0.3958325245408646,-0.34950291928253296,0.25629984765872554,-0.39583173530615096,-0.16593776988862094,-0.3958302125947847,-0.39583016377215574,-0.09377433515810009,-0.32014877627018,-0.035382266240441114,0.2562972473224342,-0.3495026674458565,0.26052421039582563,-0.4471058738540647,0.03436333251816059,-0.3958365741646545,-0.27526892581767715,-0.34950442271866067,-0.3495026668408219,0.01094447911624826,-0.3958328035715331,0.010777429213840603,-0.3958292304659274,-0.03538198885824344,0.18538095488278294,-0.15544497899882048,-0.13631001258960407,0.08437838649583243,-0.03538295557991585,-0.20672531677428724,0.010935045643812912,0.16607419477494517,-0.3961394786498483,-0.035412974572190274,0.2605190371063771,0.23518870515602372,0.010944478675137726,-0.15545525977808566,0.2921127212135099,-0.34950675176678137,-0.5485007077370798,-0.3495369999023432,-0.03540189647285576,-0.15544407222506934,0.03432884259447526,-0.34950934576529186,-0.012710931702651728,0.03423875423905249,-0.3495404260957966,-0.3958308010171129,-0.39582949122331557,-0.395829293940728,-0.03538198886227678,-0.03491458469784599,-0.34950799556342116,-0.03538828140300283,-0.03538198878160561,-0.15553567214537614,0.08477004448587556,0.034359797959158306,-0.3958357636369849,-0.3495026748817329,-0.4705294100168318,-0.03488628951366025,-0.03538623247128737,-0.03564915947085798,0.18536293479333715,-0.5508090173046992,0.28999201291435334,0.39544030451629636,0.2816536009462058,0.25573859341938127,-0.37315623042153295,0.010933574093578,-0.37317446975498303,-0.3397314489999118,-0.035387616308869524,-0.447112472497067,-0.0353835928467581,-0.3495026664693535,0.01093639729596235,0.010943665459827997,-0.39863633919047536,0.2562957561107887,-0.44711267383991893,0.31274424981602206,-0.08598529472868643,0.08368289228352882,0.04920702918419955,0.010906466010459815,-0.33974402628088834,0.08517341933574858,-0.3495065672192291,-0.03538199285147212,-0.15544986380896023,7.643331809978436,-0.03538218171125272,0.034362091313532864,-0.07976266136994603,-0.035381992811136534,-0.03538500040946412,-0.03538740571087087,-0.03539212076349836,-0.03539245276352978,-0.39583519884522866,-0.39583043818165714,0.25629737443908224,-0.006884653499925444,0.18655510670640155,-0.34950492035934294,0.16445890539609073,-0.2049881592760852,0.010105668360382559,-0.3958294888162215,0.15551437530118026,0.047343569470340977,0.16607100424538515,-0.41086814239700936,-0.27529670922757965,-0.3733289057971892,-0.36079330709466967,0.19664753954032427,-0.3958298019558427,-0.3341656658027801,-0.03541302006589928,-0.0073872318425071805,-0.39583421274710756,-0.1804872333934605,-0.34950266645233674,-0.09377107131579415,-0.03767617403668436,0.010890101641947364,0.15551368959733014,-0.035381989987641436,0.23518474705209572,-0.03538198920149972,0.15551385815028224,-0.452057174480178,-0.3495145215655997,-0.7487107174696396,-0.3819684456828957,-0.4471628308130967,0.18825544893579568,-0.3958635761659843,0.2503158903223393,0.25629875472095603,0.23502701316323313,-0.13277398411078553,-0.09377633314397711,0.010919551981758983,0.08517900408486313,0.185247418270442,-0.39735357081505646,-0.3958317482185568,-0.03661225868153745,-0.3495166859992864,-0.2752685048108828,0.02852633660415348,0.010943167002403168,-0.39582913475577847,0.15551323282470852,-0.09377954367669435,0.15542262699870138,-0.035396104239751834,-0.3960125562955679,-0.3958299119953115,-0.10911897130430938,0.010941848335538785,0.08517274577422623,-0.042429115232570855,-0.3958291428043529,-0.7678597873723877,-0.03562447034663055,0.11512612184845586,-0.267369432608779,0.2398047077029004,0.1799584171966626,-0.39590201783473145,0.2562585853597024,0.16607634282404493,0.02071780895940556,-0.03848542790381393,0.19662477997262465,0.1672133007377355,-0.20679228324243137,15.103868924284242,10.076863988830823,-0.03538585146008433,-0.03987920268617783,-0.035382073482425114,0.15551566814890255,0.16607634282404493,0.010878903421826163,-0.4028760547251279,-0.2752390508590583,-0.34950333930150446,-0.09831882470112485,-0.1554520076682561,-0.13878057279038133,0.2351118367539994,0.010944479433447842,0.256275304844559,0.15551566787260335,-0.035383252011423144,0.21401018432713947,-0.37315921495782756,0.16607634256954357,-0.3958293971844615,-0.39582950162676617,0.16605419817629805,0.1660763428188015,-0.15552702691863232,0.22901158449442546,-0.19437080389795094,-0.10421561282562579,0.034356543389244286,-0.3958322011721422,-0.39582913514058043,-0.8474208578505277,-0.3958291367540062,0.01093460985721131,-0.3341995015533829,0.034359895505815426,0.2562951805549769,0.046767087045958805,-0.39626492147481773,-0.012714328618433026,0.26052321055681105,0.34174506660660486,0.05823581263951406,-0.15545608414475157,0.22901790235167865,0.25630012271903885,0.2883656143124622,0.2434840727770689,-0.3989946426459907,-0.15544643984406928,0.046508311841306806,-0.4963469528637985,0.2561263302605346,-0.3958358382125051,-0.21753526743949006,-0.24671580679873412,-0.09377191660043036,-0.03490102028964316,-0.3903408528829305,0.16682801502895542,0.2654647902447128,0.010942929900938765,-0.19362806811142985,-0.09377326904673519,-0.33415797105170586,-0.15544446323789637,-0.4300899730263229,-0.1930381830944711,-0.09379157056902665,-0.03538242851377968,-0.39583081578620166,0.18537951763006963,0.36814159003025426,-0.39582913514058043,0.26212387445199486,0.25747551470017244,-0.10912358379278217,-0.3495122161466573,-0.15547751624777348,0.034360437493576285,0.16741310001410903,-0.15544407516150455,0.08452728195305721,-0.1554440720556598,-0.27607021054362524,-0.10911900184603089,0.010942922793328489,-0.3341561349855812,-0.39615815336251475,0.03907633757781606,0.16682750951589317,12.487206504409716,-0.20493147870015005,0.16476198826170393,0.1420642620184929,0.0262910118642785,0.07888651670561411,0.22901583877595139,0.23518870693576213,0.08517342029004363,0.5693273897434322,0.2351887065875297,-0.11445852912202857,0.2557206971260576,-0.08880208035748002,0.17995991256175425,-0.33416709297445546,0.27276654263823796,0.21031968464072373,0.21031525689704622,0.0851790040848642,0.04601007737410453,0.21372889566562941,-0.035392939516460324,-0.39583372088482055,0.16606526658808832,-0.3341618024153548,0.16606853749181827,-0.09377167148228946,-0.40539588356118433,0.04030373909214494,-0.10911782565067794,-0.3958355114831221,0.2792995328689068,-0.09838043479768424,-0.4966148341108184,-0.3495074536452846,0.08517900374604363,0.08516277504848521,-0.08665908927621274,0.08515274467270838,-0.3495100451871229,-0.7489316533736078,-0.10911760357439103,-0.40058333747603153,0.010944479447766962,-0.03539962852932866,-0.3495779468559437,0.1543286998576364,-0.3201393950759136,-0.3958302332626403,0.21031289808998252,-0.39583552067452193,-0.03488444200376818,-0.3958321236826651,-0.34963808638529914,0.2563001512266137,-0.0356241233054156,-0.3961335375040841,-0.28083555465739524,-0.34965605305955183,0.08517187023936601,-0.3958477551904712,0.25630015122642524,-0.04456328212437475,-0.2752681418909231,-0.39595461187677267,0.06789066972395759,-0.34956515865746784,-0.395861293383112,0.0343621470002732,-0.035383556807333086,-0.03540361537715419,-0.16778770342992452,-0.27529131717457317,-0.7486585546590372,-0.15854758686843926,-0.3959073433236073,-0.0353819923674445,-0.20493182562653073,-0.3958291359472937,3.43138649612383,0.1884039174536564,-0.44710591572839586,0.1776526027577733,-0.7489380251248494,0.23518110730650316,-0.7489696294430642,0.23518870295732114,-0.03519342273879458,27.743425201909435,0.03436045195890368,-1.1883391871364815,0.2646974637762583,-0.3937898699151851,-0.39583376944467313,0.25599594349135923,0.1660740784174797,-0.15544411160232838],\"type\":\"scatter3d\"}],                        {\"template\":{\"data\":{\"bar\":[{\"error_x\":{\"color\":\"#2a3f5f\"},\"error_y\":{\"color\":\"#2a3f5f\"},\"marker\":{\"line\":{\"color\":\"#E5ECF6\",\"width\":0.5},\"pattern\":{\"fillmode\":\"overlay\",\"size\":10,\"solidity\":0.2}},\"type\":\"bar\"}],\"barpolar\":[{\"marker\":{\"line\":{\"color\":\"#E5ECF6\",\"width\":0.5},\"pattern\":{\"fillmode\":\"overlay\",\"size\":10,\"solidity\":0.2}},\"type\":\"barpolar\"}],\"carpet\":[{\"aaxis\":{\"endlinecolor\":\"#2a3f5f\",\"gridcolor\":\"white\",\"linecolor\":\"white\",\"minorgridcolor\":\"white\",\"startlinecolor\":\"#2a3f5f\"},\"baxis\":{\"endlinecolor\":\"#2a3f5f\",\"gridcolor\":\"white\",\"linecolor\":\"white\",\"minorgridcolor\":\"white\",\"startlinecolor\":\"#2a3f5f\"},\"type\":\"carpet\"}],\"choropleth\":[{\"colorbar\":{\"outlinewidth\":0,\"ticks\":\"\"},\"type\":\"choropleth\"}],\"contour\":[{\"colorbar\":{\"outlinewidth\":0,\"ticks\":\"\"},\"colorscale\":[[0.0,\"#0d0887\"],[0.1111111111111111,\"#46039f\"],[0.2222222222222222,\"#7201a8\"],[0.3333333333333333,\"#9c179e\"],[0.4444444444444444,\"#bd3786\"],[0.5555555555555556,\"#d8576b\"],[0.6666666666666666,\"#ed7953\"],[0.7777777777777778,\"#fb9f3a\"],[0.8888888888888888,\"#fdca26\"],[1.0,\"#f0f921\"]],\"type\":\"contour\"}],\"contourcarpet\":[{\"colorbar\":{\"outlinewidth\":0,\"ticks\":\"\"},\"type\":\"contourcarpet\"}],\"heatmap\":[{\"colorbar\":{\"outlinewidth\":0,\"ticks\":\"\"},\"colorscale\":[[0.0,\"#0d0887\"],[0.1111111111111111,\"#46039f\"],[0.2222222222222222,\"#7201a8\"],[0.3333333333333333,\"#9c179e\"],[0.4444444444444444,\"#bd3786\"],[0.5555555555555556,\"#d8576b\"],[0.6666666666666666,\"#ed7953\"],[0.7777777777777778,\"#fb9f3a\"],[0.8888888888888888,\"#fdca26\"],[1.0,\"#f0f921\"]],\"type\":\"heatmap\"}],\"heatmapgl\":[{\"colorbar\":{\"outlinewidth\":0,\"ticks\":\"\"},\"colorscale\":[[0.0,\"#0d0887\"],[0.1111111111111111,\"#46039f\"],[0.2222222222222222,\"#7201a8\"],[0.3333333333333333,\"#9c179e\"],[0.4444444444444444,\"#bd3786\"],[0.5555555555555556,\"#d8576b\"],[0.6666666666666666,\"#ed7953\"],[0.7777777777777778,\"#fb9f3a\"],[0.8888888888888888,\"#fdca26\"],[1.0,\"#f0f921\"]],\"type\":\"heatmapgl\"}],\"histogram\":[{\"marker\":{\"pattern\":{\"fillmode\":\"overlay\",\"size\":10,\"solidity\":0.2}},\"type\":\"histogram\"}],\"histogram2d\":[{\"colorbar\":{\"outlinewidth\":0,\"ticks\":\"\"},\"colorscale\":[[0.0,\"#0d0887\"],[0.1111111111111111,\"#46039f\"],[0.2222222222222222,\"#7201a8\"],[0.3333333333333333,\"#9c179e\"],[0.4444444444444444,\"#bd3786\"],[0.5555555555555556,\"#d8576b\"],[0.6666666666666666,\"#ed7953\"],[0.7777777777777778,\"#fb9f3a\"],[0.8888888888888888,\"#fdca26\"],[1.0,\"#f0f921\"]],\"type\":\"histogram2d\"}],\"histogram2dcontour\":[{\"colorbar\":{\"outlinewidth\":0,\"ticks\":\"\"},\"colorscale\":[[0.0,\"#0d0887\"],[0.1111111111111111,\"#46039f\"],[0.2222222222222222,\"#7201a8\"],[0.3333333333333333,\"#9c179e\"],[0.4444444444444444,\"#bd3786\"],[0.5555555555555556,\"#d8576b\"],[0.6666666666666666,\"#ed7953\"],[0.7777777777777778,\"#fb9f3a\"],[0.8888888888888888,\"#fdca26\"],[1.0,\"#f0f921\"]],\"type\":\"histogram2dcontour\"}],\"mesh3d\":[{\"colorbar\":{\"outlinewidth\":0,\"ticks\":\"\"},\"type\":\"mesh3d\"}],\"parcoords\":[{\"line\":{\"colorbar\":{\"outlinewidth\":0,\"ticks\":\"\"}},\"type\":\"parcoords\"}],\"pie\":[{\"automargin\":true,\"type\":\"pie\"}],\"scatter\":[{\"marker\":{\"colorbar\":{\"outlinewidth\":0,\"ticks\":\"\"}},\"type\":\"scatter\"}],\"scatter3d\":[{\"line\":{\"colorbar\":{\"outlinewidth\":0,\"ticks\":\"\"}},\"marker\":{\"colorbar\":{\"outlinewidth\":0,\"ticks\":\"\"}},\"type\":\"scatter3d\"}],\"scattercarpet\":[{\"marker\":{\"colorbar\":{\"outlinewidth\":0,\"ticks\":\"\"}},\"type\":\"scattercarpet\"}],\"scattergeo\":[{\"marker\":{\"colorbar\":{\"outlinewidth\":0,\"ticks\":\"\"}},\"type\":\"scattergeo\"}],\"scattergl\":[{\"marker\":{\"colorbar\":{\"outlinewidth\":0,\"ticks\":\"\"}},\"type\":\"scattergl\"}],\"scattermapbox\":[{\"marker\":{\"colorbar\":{\"outlinewidth\":0,\"ticks\":\"\"}},\"type\":\"scattermapbox\"}],\"scatterpolar\":[{\"marker\":{\"colorbar\":{\"outlinewidth\":0,\"ticks\":\"\"}},\"type\":\"scatterpolar\"}],\"scatterpolargl\":[{\"marker\":{\"colorbar\":{\"outlinewidth\":0,\"ticks\":\"\"}},\"type\":\"scatterpolargl\"}],\"scatterternary\":[{\"marker\":{\"colorbar\":{\"outlinewidth\":0,\"ticks\":\"\"}},\"type\":\"scatterternary\"}],\"surface\":[{\"colorbar\":{\"outlinewidth\":0,\"ticks\":\"\"},\"colorscale\":[[0.0,\"#0d0887\"],[0.1111111111111111,\"#46039f\"],[0.2222222222222222,\"#7201a8\"],[0.3333333333333333,\"#9c179e\"],[0.4444444444444444,\"#bd3786\"],[0.5555555555555556,\"#d8576b\"],[0.6666666666666666,\"#ed7953\"],[0.7777777777777778,\"#fb9f3a\"],[0.8888888888888888,\"#fdca26\"],[1.0,\"#f0f921\"]],\"type\":\"surface\"}],\"table\":[{\"cells\":{\"fill\":{\"color\":\"#EBF0F8\"},\"line\":{\"color\":\"white\"}},\"header\":{\"fill\":{\"color\":\"#C8D4E3\"},\"line\":{\"color\":\"white\"}},\"type\":\"table\"}]},\"layout\":{\"annotationdefaults\":{\"arrowcolor\":\"#2a3f5f\",\"arrowhead\":0,\"arrowwidth\":1},\"autotypenumbers\":\"strict\",\"coloraxis\":{\"colorbar\":{\"outlinewidth\":0,\"ticks\":\"\"}},\"colorscale\":{\"diverging\":[[0,\"#8e0152\"],[0.1,\"#c51b7d\"],[0.2,\"#de77ae\"],[0.3,\"#f1b6da\"],[0.4,\"#fde0ef\"],[0.5,\"#f7f7f7\"],[0.6,\"#e6f5d0\"],[0.7,\"#b8e186\"],[0.8,\"#7fbc41\"],[0.9,\"#4d9221\"],[1,\"#276419\"]],\"sequential\":[[0.0,\"#0d0887\"],[0.1111111111111111,\"#46039f\"],[0.2222222222222222,\"#7201a8\"],[0.3333333333333333,\"#9c179e\"],[0.4444444444444444,\"#bd3786\"],[0.5555555555555556,\"#d8576b\"],[0.6666666666666666,\"#ed7953\"],[0.7777777777777778,\"#fb9f3a\"],[0.8888888888888888,\"#fdca26\"],[1.0,\"#f0f921\"]],\"sequentialminus\":[[0.0,\"#0d0887\"],[0.1111111111111111,\"#46039f\"],[0.2222222222222222,\"#7201a8\"],[0.3333333333333333,\"#9c179e\"],[0.4444444444444444,\"#bd3786\"],[0.5555555555555556,\"#d8576b\"],[0.6666666666666666,\"#ed7953\"],[0.7777777777777778,\"#fb9f3a\"],[0.8888888888888888,\"#fdca26\"],[1.0,\"#f0f921\"]]},\"colorway\":[\"#636efa\",\"#EF553B\",\"#00cc96\",\"#ab63fa\",\"#FFA15A\",\"#19d3f3\",\"#FF6692\",\"#B6E880\",\"#FF97FF\",\"#FECB52\"],\"font\":{\"color\":\"#2a3f5f\"},\"geo\":{\"bgcolor\":\"white\",\"lakecolor\":\"white\",\"landcolor\":\"#E5ECF6\",\"showlakes\":true,\"showland\":true,\"subunitcolor\":\"white\"},\"hoverlabel\":{\"align\":\"left\"},\"hovermode\":\"closest\",\"mapbox\":{\"style\":\"light\"},\"paper_bgcolor\":\"white\",\"plot_bgcolor\":\"#E5ECF6\",\"polar\":{\"angularaxis\":{\"gridcolor\":\"white\",\"linecolor\":\"white\",\"ticks\":\"\"},\"bgcolor\":\"#E5ECF6\",\"radialaxis\":{\"gridcolor\":\"white\",\"linecolor\":\"white\",\"ticks\":\"\"}},\"scene\":{\"xaxis\":{\"backgroundcolor\":\"#E5ECF6\",\"gridcolor\":\"white\",\"gridwidth\":2,\"linecolor\":\"white\",\"showbackground\":true,\"ticks\":\"\",\"zerolinecolor\":\"white\"},\"yaxis\":{\"backgroundcolor\":\"#E5ECF6\",\"gridcolor\":\"white\",\"gridwidth\":2,\"linecolor\":\"white\",\"showbackground\":true,\"ticks\":\"\",\"zerolinecolor\":\"white\"},\"zaxis\":{\"backgroundcolor\":\"#E5ECF6\",\"gridcolor\":\"white\",\"gridwidth\":2,\"linecolor\":\"white\",\"showbackground\":true,\"ticks\":\"\",\"zerolinecolor\":\"white\"}},\"shapedefaults\":{\"line\":{\"color\":\"#2a3f5f\"}},\"ternary\":{\"aaxis\":{\"gridcolor\":\"white\",\"linecolor\":\"white\",\"ticks\":\"\"},\"baxis\":{\"gridcolor\":\"white\",\"linecolor\":\"white\",\"ticks\":\"\"},\"bgcolor\":\"#E5ECF6\",\"caxis\":{\"gridcolor\":\"white\",\"linecolor\":\"white\",\"ticks\":\"\"}},\"title\":{\"x\":0.05},\"xaxis\":{\"automargin\":true,\"gridcolor\":\"white\",\"linecolor\":\"white\",\"ticks\":\"\",\"title\":{\"standoff\":15},\"zerolinecolor\":\"white\",\"zerolinewidth\":2},\"yaxis\":{\"automargin\":true,\"gridcolor\":\"white\",\"linecolor\":\"white\",\"ticks\":\"\",\"title\":{\"standoff\":15},\"zerolinecolor\":\"white\",\"zerolinewidth\":2}}},\"scene\":{\"domain\":{\"x\":[0.0,1.0],\"y\":[0.0,1.0]},\"xaxis\":{\"title\":{\"text\":\"PC 1\"}},\"yaxis\":{\"title\":{\"text\":\"PC 2\"}},\"zaxis\":{\"title\":{\"text\":\"PC 3\"}}},\"coloraxis\":{\"colorbar\":{\"title\":{\"text\":\"class\"}},\"colorscale\":[[0.0,\"#0d0887\"],[0.1111111111111111,\"#46039f\"],[0.2222222222222222,\"#7201a8\"],[0.3333333333333333,\"#9c179e\"],[0.4444444444444444,\"#bd3786\"],[0.5555555555555556,\"#d8576b\"],[0.6666666666666666,\"#ed7953\"],[0.7777777777777778,\"#fb9f3a\"],[0.8888888888888888,\"#fdca26\"],[1.0,\"#f0f921\"]]},\"legend\":{\"tracegroupgap\":0},\"margin\":{\"t\":60}},                        {\"responsive\": true}                    ).then(function(){\n",
       "                            \n",
       "var gd = document.getElementById('bab2a7ea-03ad-40bb-a44f-669d464d7b12');\n",
       "var x = new MutationObserver(function (mutations, observer) {{\n",
       "        var display = window.getComputedStyle(gd).display;\n",
       "        if (!display || display === 'none') {{\n",
       "            console.log([gd, 'removed!']);\n",
       "            Plotly.purge(gd);\n",
       "            observer.disconnect();\n",
       "        }}\n",
       "}});\n",
       "\n",
       "// Listen for the removal of the full notebook cells\n",
       "var notebookContainer = gd.closest('#notebook-container');\n",
       "if (notebookContainer) {{\n",
       "    x.observe(notebookContainer, {childList: true});\n",
       "}}\n",
       "\n",
       "// Listen for the clearing of the current output cell\n",
       "var outputEl = gd.closest('.output');\n",
       "if (outputEl) {{\n",
       "    x.observe(outputEl, {childList: true});\n",
       "}}\n",
       "\n",
       "                        })                };                });            </script>        </div>"
      ]
     },
     "metadata": {},
     "output_type": "display_data"
    }
   ],
   "source": [
    "# Create a 3D-Scatter with the PCA data and the clusters\n",
    "fig = px.scatter_3d(clustered_df, x=\"PC 1\", y=\"PC 2\", z=\"PC 3\", color=\"class\", hover_name=\"CoinName\", hover_data=[\"Algorithm\"])\n",
    "fig.show()"
   ]
  },
  {
   "cell_type": "markdown",
   "id": "5023a994",
   "metadata": {},
   "source": [
    "Table of Tradable Cryptocurrencies"
   ]
  },
  {
   "cell_type": "code",
   "execution_count": 127,
   "id": "177dc5a5",
   "metadata": {},
   "outputs": [
    {
     "data": {},
     "metadata": {},
     "output_type": "display_data"
    },
    {
     "data": {
      "application/vnd.holoviews_exec.v0+json": "",
      "text/html": [
       "<div id='1633'>\n",
       "\n",
       "\n",
       "\n",
       "\n",
       "\n",
       "  <div class=\"bk-root\" id=\"8ab18500-c8fd-483f-a122-b6bef4a53a7c\" data-root-id=\"1633\"></div>\n",
       "</div>\n",
       "<script type=\"application/javascript\">(function(root) {\n",
       "  function embed_document(root) {\n",
       "    var docs_json = {\"5e0a5e71-c508-472f-b646-3f7c83b837bc\":{\"defs\":[{\"extends\":null,\"module\":null,\"name\":\"ReactiveHTML1\",\"overrides\":[],\"properties\":[]},{\"extends\":null,\"module\":null,\"name\":\"FlexBox1\",\"overrides\":[],\"properties\":[{\"default\":\"flex-start\",\"kind\":null,\"name\":\"align_content\"},{\"default\":\"flex-start\",\"kind\":null,\"name\":\"align_items\"},{\"default\":\"row\",\"kind\":null,\"name\":\"flex_direction\"},{\"default\":\"wrap\",\"kind\":null,\"name\":\"flex_wrap\"},{\"default\":\"flex-start\",\"kind\":null,\"name\":\"justify_content\"}]},{\"extends\":null,\"module\":null,\"name\":\"TemplateActions1\",\"overrides\":[],\"properties\":[{\"default\":0,\"kind\":null,\"name\":\"open_modal\"},{\"default\":0,\"kind\":null,\"name\":\"close_modal\"}]},{\"extends\":null,\"module\":null,\"name\":\"MaterialTemplateActions1\",\"overrides\":[],\"properties\":[{\"default\":0,\"kind\":null,\"name\":\"open_modal\"},{\"default\":0,\"kind\":null,\"name\":\"close_modal\"}]}],\"roots\":{\"references\":[{\"attributes\":{},\"id\":\"1648\",\"type\":\"StringEditor\"},{\"attributes\":{},\"id\":\"1642\",\"type\":\"StringFormatter\"},{\"attributes\":{\"margin\":[5,5,5,5],\"name\":\"HSpacer02662\",\"sizing_mode\":\"stretch_width\"},\"id\":\"1674\",\"type\":\"Spacer\"},{\"attributes\":{\"children\":[{\"id\":\"1634\"},{\"id\":\"1667\"},{\"id\":\"1674\"}],\"margin\":[0,0,0,0],\"name\":\"Row02657\",\"tags\":[\"embedded\"]},\"id\":\"1633\",\"type\":\"Row\"},{\"attributes\":{\"editor\":{\"id\":\"1653\"},\"field\":\"TotalCoinSupply\",\"formatter\":{\"id\":\"1652\"},\"title\":\"TotalCoinSupply\"},\"id\":\"1654\",\"type\":\"TableColumn\"},{\"attributes\":{},\"id\":\"1663\",\"type\":\"IntEditor\"},{\"attributes\":{},\"id\":\"1647\",\"type\":\"StringFormatter\"},{\"attributes\":{},\"id\":\"1662\",\"type\":\"NumberFormatter\"},{\"attributes\":{},\"id\":\"1658\",\"type\":\"NumberEditor\"},{\"attributes\":{\"editor\":{\"id\":\"1663\"},\"field\":\"class\",\"formatter\":{\"id\":\"1662\"},\"title\":\"class\"},\"id\":\"1664\",\"type\":\"TableColumn\"},{\"attributes\":{\"source\":{\"id\":\"1635\"}},\"id\":\"1669\",\"type\":\"CDSView\"},{\"attributes\":{\"editor\":{\"id\":\"1643\"},\"field\":\"Algorithm\",\"formatter\":{\"id\":\"1642\"},\"title\":\"Algorithm\"},\"id\":\"1644\",\"type\":\"TableColumn\"},{\"attributes\":{},\"id\":\"1653\",\"type\":\"StringEditor\"},{\"attributes\":{},\"id\":\"1636\",\"type\":\"Selection\"},{\"attributes\":{},\"id\":\"1643\",\"type\":\"StringEditor\"},{\"attributes\":{\"editor\":{\"id\":\"1648\"},\"field\":\"ProofType\",\"formatter\":{\"id\":\"1647\"},\"title\":\"ProofType\"},\"id\":\"1649\",\"type\":\"TableColumn\"},{\"attributes\":{},\"id\":\"1670\",\"type\":\"UnionRenderers\"},{\"attributes\":{},\"id\":\"1652\",\"type\":\"StringFormatter\"},{\"attributes\":{\"format\":\"0,0.0[00000]\"},\"id\":\"1657\",\"type\":\"NumberFormatter\"},{\"attributes\":{},\"id\":\"1638\",\"type\":\"StringEditor\"},{\"attributes\":{\"data\":{\"Algorithm\":[\"Scrypt\",\"Scrypt\",\"SHA-256\",\"X13\",\"SHA-256\",\"Ethash\",\"Scrypt\",\"X11\",\"CryptoNight-V7\",\"Ethash\",\"Equihash\",\"SHA-512\",\"Multiple\",\"SHA-256\",\"X11\",\"SHA-256\",\"Scrypt\",\"X15\",\"X11\",\"SHA-256\",\"X13\",\"X13\",\"Scrypt\",\"Scrypt\",\"Scrypt\",\"SHA-256\",\"Scrypt\",\"Multiple\",\"Scrypt\",\"SHA-256\",\"Scrypt\",\"Scrypt\",\"Scrypt\",\"Quark\",\"Groestl\",\"Scrypt\",\"X11\",\"Scrypt\",\"Scrypt\",\"Scrypt\",\"Scrypt\",\"Scrypt\",\"Scrypt\",\"Multiple\",\"Scrypt\",\"X11\",\"Scrypt\",\"SHA-256\",\"Groestl\",\"Multiple\",\"X11\",\"Scrypt\",\"SHA-256\",\"Scrypt\",\"Scrypt\",\"Scrypt\",\"Scrypt\",\"Scrypt\",\"PoS\",\"Scrypt\",\"X11\",\"NIST5\",\"SHA-256\",\"Scrypt\",\"Scrypt\",\"NeoScrypt\",\"Scrypt\",\"Scrypt\",\"Scrypt\",\"X11\",\"X15\",\"Scrypt\",\"Multiple\",\"X11\",\"Scrypt\",\"X11\",\"SHA-256\",\"X11\",\"X13\",\"Scrypt\",\"Scrypt\",\"Scrypt\",\"Scrypt\",\"X11\",\"SHA3\",\"Scrypt\",\"HybridScryptHash256\",\"Scrypt\",\"Scrypt\",\"SHA-256\",\"Scrypt\",\"X13\",\"SHA-256\",\"Scrypt\",\"SHA-256\",\"Scrypt\",\"X13\",\"NeoScrypt\",\"Scrypt\",\"Scrypt\",\"Scrypt\",\"Scrypt\",\"Scrypt\",\"Scrypt\",\"X15\",\"Scrypt\",\"Scrypt\",\"Scrypt-n\",\"Scrypt\",\"X11\",\"X11\",\"SHA-256\",\"Multiple\",\"SHA-256\",\"PHI1612\",\"X11\",\"SHA-256\",\"SHA-256\",\"SHA-256\",\"SHA-256\",\"X11\",\"Scrypt\",\"Scrypt\",\"X13\",\"Scrypt\",\"X11\",\"Scrypt\",\"Lyra2REv2\",\"Scrypt\",\"Scrypt\",\"X11\",\"Multiple\",\"SHA-256\",\"X13\",\"Scrypt\",\"Scrypt\",\"CryptoNight\",\"CryptoNight\",\"Shabal256\",\"Counterparty\",\"Scrypt\",\"SHA-256\",\"SHA-256\",\"Scrypt\",\"Groestl\",\"Scrypt\",\"Scrypt\",\"Scrypt\",\"X13\",\"Scrypt\",\"Scrypt\",\"Scrypt\",\"SHA-256\",\"Scrypt\",\"X13\",\"X13\",\"Scrypt\",\"X11\",\"Momentum\",\"Stanford Folding\",\"X11\",\"Multiple\",\"QuBit\",\"X15\",\"Scrypt\",\"Scrypt\",\"Scrypt\",\"Scrypt\",\"SHA-256\",\"M7 POW\",\"Scrypt\",\"X11\",\"Scrypt\",\"SHA-256\",\"Scrypt\",\"Scrypt\",\"X11\",\"X11\",\"SHA3\",\"X11\",\"Scrypt\",\"Lyra2RE\",\"SHA-256\",\"QUAIT\",\"X11\",\"vDPOS\",\"X11\",\"X11\",\"Scrypt\",\"Scrypt\",\"Scrypt\",\"Ethash\",\"X11\",\"X13\",\"Blake2b\",\"SHA-256\",\"X13\",\"X15\",\"X11\",\"SHA-256\",\"BLAKE256\",\"Scrypt\",\"Scrypt\",\"1GB AES Pattern Search\",\"SHA-256\",\"X11\",\"Scrypt\",\"CryptoNight\",\"SHA-256\",\"Quark\",\"SHA-256\",\"NIST5\",\"Blake\",\"Scrypt\",\"Scrypt\",\"SHA-256\",\"X11\",\"Scrypt\",\"Scrypt-n\",\"X11\",\"Scrypt\",\"Dagger\",\"Scrypt\",\"SHA-256\",\"CryptoNight-Lite\",\"X11GOST\",\"X11\",\"SHA-256\",\"Scrypt\",\"SHA-256\",\"Scrypt\",\"PoS\",\"Scrypt\",\"X11\",\"X11\",\"X11\",\"X11\",\"PoS\",\"SHA-256\",\"SHA-256\",\"SHA-256\",\"NIST5\",\"X15\",\"X11\",\"NIST5\",\"Scrypt\",\"Scrypt\",\"Scrypt\",\"POS 3.0\",\"Scrypt\",\"Scrypt\",\"Scrypt\",\"X13\",\"X11\",\"X11\",\"Equihash\",\"X11\",\"X11\",\"Scrypt\",\"CryptoNight\",\"SHA-256\",\"SHA-256\",\"X11\",\"Scrypt\",\"Multiple\",\"Scrypt\",\"Scrypt\",\"X11\",\"Scrypt\",\"SHA-256\",\"Scrypt\",\"Scrypt\",\"SHA-256D\",\"PoS\",\"Scrypt\",\"Scrypt\",\"X11\",\"Scrypt-n\",\"Lyra2Z\",\"SHA-256\",\"PoS\",\"X13\",\"Quark\",\"X14\",\"PoS\",\"SHA-256D\",\"Ethash\",\"SHA-256\",\"Equihash\",\"DPoS\",\"X11\",\"Scrypt\",\"Scrypt\",\"Equihash\",\"X11\",\"X13\",\"X11\",\"PoS\",\"SHA-256D\",\"Scrypt\",\"Scrypt\",\"Scrypt\",\"X11\",\"PoS\",\"X11\",\"SHA-256\",\"Scrypt\",\"X11\",\"Scrypt\",\"Scrypt\",\"X11\",\"CryptoNight\",\"Scrypt\",\"Scrypt\",\"Scrypt\",\"Scrypt\",\"Quark\",\"QuBit\",\"Scrypt\",\"CryptoNight\",\"X11\",\"Lyra2RE\",\"X13\",\"PoS\",\"Scrypt\",\"SHA-256\",\"X11\",\"X11\",\"X11\",\"Scrypt\",\"X11\",\"Scrypt\",\"Scrypt\",\"CryptoNight-V7\",\"Scrypt\",\"Scrypt\",\"Keccak\",\"Scrypt\",\"X13\",\"X11\",\"Equihash\",\"Scrypt\",\"Scrypt\",\"Lyra2RE\",\"Ethash\",\"X11\",\"Scrypt\",\"Dagger-Hashimoto\",\"X11\",\"Blake2S\",\"X11\",\"Scrypt\",\"Scrypt\",\"PoS\",\"X11\",\"NIST5\",\"PoS\",\"X11\",\"Scrypt\",\"Scrypt\",\"Scrypt\",\"Scrypt\",\"SHA-256\",\"X11\",\"Scrypt\",\"Scrypt\",\"Scrypt\",\"SHA-256\",\"PoS\",\"Scrypt\",\"X11\",\"X15\",\"SHA-256\",\"Scrypt\",\"POS 3.0\",\"CryptoNight-V7\",\"536\",\"Argon2d\",\"Blake2b\",\"Cloverhash\",\"CryptoNight\",\"NIST5\",\"X11\",\"NIST5\",\"Skein\",\"Scrypt\",\"X13\",\"Scrypt\",\"X11\",\"X11\",\"X11\",\"Scrypt\",\"CryptoNight\",\"X13\",\"Time Travel\",\"Scrypt\",\"Keccak\",\"SkunkHash v2 Raptor\",\"X11\",\"Skein\",\"SHA-256\",\"X11\",\"Scrypt\",\"Scrypt\",\"VeChainThor Authority\",\"Scrypt\",\"PoS\",\"Scrypt\",\"Scrypt\",\"Scrypt\",\"Scrypt\",\"Scrypt\",\"Scrypt\",\"Scrypt\",\"Scrypt\",\"CryptoNight\",\"SHA-512\",\"Ouroboros\",\"X11\",\"Equihash\",\"NeoScrypt\",\"X11\",\"Scrypt\",\"NeoScrypt\",\"Lyra2REv2\",\"Equihash\",\"Scrypt\",\"SHA-256\",\"NIST5\",\"PHI1612\",\"Dagger\",\"Scrypt\",\"Quark\",\"Scrypt\",\"POS 2.0\",\"Scrypt\",\"SkunkHash\",\"X11\",\"Quark\",\"SHA-256\",\"X11\",\"NeoScrypt\",\"Scrypt\",\"Ethash\",\"Scrypt\",\"NeoScrypt\",\"Quark\",\"X11\",\"DPoS\",\"NIST5\",\"X13\",\"Multiple\",\"Scrypt\",\"CryptoNight\",\"CryptoNight\",\"Ethash\",\"NIST5\",\"Quark\",\"X11\",\"SHA-256\",\"CryptoNight-V7\",\"Scrypt\",\"Scrypt\",\"Scrypt\",\"X11\",\"SHA-256\",\"BLAKE256\",\"X11\",\"Scrypt\",\"NeoScrypt\",\"Quark\",\"NeoScrypt\",\"Scrypt\",\"Scrypt\",\"Scrypt\",\"X11\",\"X11\",\"SHA-256\",\"C11\",\"Scrypt\",\"Scrypt\",\"POS 3.0\",\"Ethash\",\"Scrypt\",\"CryptoNight\",\"SkunkHash\",\"Scrypt\",\"CryptoNight\",\"Equihash\",\"Skein\",\"Scrypt\",\"Dagger\",\"Lyra2REv2\",\"X13\",\"Proof-of-BibleHash\",\"SHA-256 + Hive\",\"Scrypt\",\"Scrypt\",\"Scrypt\",\"NeoScrypt\",\"Equihash\",\"X11\",\"C11\",\"Proof-of-Authority\",\"X11\",\"XEVAN\",\"Scrypt\",\"VBFT\",\"Ethash\",\"X11\",\"CryptoNight\",\"NeoScrypt\",\"Scrypt\",\"IMesh\",\"NIST5\",\"Equihash\",\"Scrypt\",\"Scrypt\",\"Equihash\",\"Equihash\",\"Scrypt\",\"Lyra2Z\",\"Equihash\",\"Green Protocol\",\"PoS\",\"Scrypt\",\"Scrypt\",\"Semux BFT consensus\",\"Scrypt\",\"X11\",\"Quark\",\"PoS\",\"CryptoNight\",\"X16R\",\"Scrypt\",\"NIST5\",\"Lyra2RE\",\"XEVAN\",\"Tribus\",\"Scrypt\",\"Lyra2Z\",\"CryptoNight\",\"CryptoNight Heavy\",\"CryptoNight\",\"Scrypt\",\"Scrypt\",\"Jump Consistent Hash\",\"SHA-256D\",\"CryptoNight\",\"Scrypt\",\"X15\",\"Scrypt\",\"Quark\",\"SHA-256\",\"DPoS\",\"X16R\",\"HMQ1725\",\"X11\",\"X16R\",\"Quark\",\"Quark\",\"Scrypt\",\"Zhash\",\"Lyra2REv2\",\"Quark\",\"Scrypt\",\"Scrypt\",\"CryptoNight-V7\",\"Cryptonight-GPU\",\"Scrypt\",\"XEVAN\",\"CryptoNight Heavy\",\"X11\",\"X11\",\"Scrypt\",\"PoS\",\"Lyra2REv2\",\"Scrypt\",\"SHA-256\",\"Scrypt\",\"Keccak\",\"X11\",\"X11\",\"Quark\",\"Scrypt\",\"SHA-512\",\"X16R\",\"ECC 256K1\",\"NeoScrypt\",\"Equihash\",\"XEVAN\",\"Quark\",\"CryptoNight Heavy X\",\"Lyra2Z\",\"Ethash\",\"SHA-256\",\"XEVAN\",\"Ethash\",\"X11\",\"CryptoNight\",\"Quark\",\"SkunkHash\",\"Quark\",\"Argon2\",\"Blake\",\"Blake\",\"SHA-256\",\"Equihash\",\"Exosis\",\"Scrypt\",\"Scrypt\",\"Equihash\",\"Quark\",\"Equihash\",\"Quark\",\"Scrypt\",\"QuBit\",\"X11\",\"Scrypt\",\"Equihash1927\",\"XEVAN\",\"SHA-256D\",\"X11\",\"SHA-256\",\"SHA-256\",\"X13\",\"SHA-256\",\"X11\",\"DPoS\",\"X11\",\"Scrypt\",\"X11\",\"Scrypt\",\"X11\",\"NeoScrypt\",\"QuBit\",\"Scrypt\",\"Blake\",\"Scrypt\",\"SHA-256\",\"Scrypt\",\"X11\",\"CryptoNight\",\"Scrypt\",\"Scrypt\",\"SHA-256\",\"X11\",\"SHA-256\",\"Scrypt\",\"CryptoNight\",\"Scrypt\",\"SHA-256\",\"Scrypt\",\"Groestl\",\"X11\",\"Scrypt\",\"PoS\",\"Scrypt\",\"Scrypt\",\"X11\",\"SHA-256\",\"DPoS\",\"Scrypt\",\"Scrypt\",\"Scrypt\",\"NeoScrypt\",\"Scrypt\",\"SHA3-256\",\"Multiple\",\"X13\",\"Equihash+Scrypt\",\"DPoS\",\"Ethash\",\"DPoS\",\"Ethash\",\"SHA-256\",\"Leased POS\",\"PoS\",\"TRC10\",\"PoS\",\"SHA-256\",\"Scrypt\",\"CryptoNight\",\"Equihash\",\"Scrypt\"],\"CoinName\":[\"42 Coin\",\"404Coin\",\"808\",\"EliteCoin\",\"Bitcoin\",\"Ethereum\",\"Litecoin\",\"Dash\",\"Monero\",\"Ethereum Classic\",\"ZCash\",\"Bitshares\",\"DigiByte\",\"BitcoinDark\",\"Bitstake\",\"PayCoin\",\"ProsperCoin\",\"KoboCoin\",\"Spreadcoin\",\"ACoin\",\"Aero Coin\",\"ApexCoin\",\"ArchCoin\",\"Argentum\",\"Aurora Coin\",\"BetaCoin\",\"BlueCoin\",\"MyriadCoin\",\"MoonCoin\",\"ZetaCoin\",\"SexCoin\",\"Quatloo\",\"EnergyCoin\",\"QuarkCoin\",\"Riecoin\",\"Digitalcoin \",\"LimeCoinX\",\"BitBar\",\"BitMark\",\"CashCoin\",\"Catcoin\",\"CryptoBullion\",\"CannaCoin\",\"CinderCoin\",\"CoolCoin\",\"CryptCoin\",\"CasinoCoin\",\"eMark\",\"Diamond\",\"Verge\",\"DarkCash\",\"DarkShibe\",\"DevCoin\",\"EarthCoin\",\"E-Gulden\",\"Elacoin\",\"Einsteinium\",\"Emerald\",\"Exclusive Coin\",\"Flappy Coin\",\"Fuel2Coin\",\"FIBRE\",\"FireRoosterCoin\",\"FlutterCoin\",\"Franko\",\"FeatherCoin\",\"GrandCoin\",\"GlobalCoin\",\"GoldCoin\",\"GlyphCoin\",\"Halcyon\",\"HoboNickels\",\"HunterCoin\",\"HyperStake\",\"Infinite Coin\",\"IOCoin\",\"IXcoin\",\"JumBucks Coin\",\"JudgeCoin\",\"KrugerCoin\",\"LuckyCoin\",\"Litebar \",\"LitecoinDark\",\"LibrexCoin\",\"MaxCoin\",\"MegaCoin\",\"MediterraneanCoin\",\"MintCoin\",\"MinCoin\",\"MazaCoin\",\"Nautilus Coin\",\"NavCoin\",\"NoirBits\",\"NobleCoin\",\"Namecoin\",\"NyanCoin\",\"OpalCoin\",\"Orbitcoin\",\"PotCoin\",\"PhoenixCoin\",\"Reddcoin\",\"RipOffCoin\",\"RonPaulCoin\",\"StableCoin\",\"ShieldCoin\",\"SilkCoin\",\"SmartCoin\",\"SpainCoin\",\"SecureCoin\",\"SuperCoin\",\"SyncCoin\",\"SysCoin\",\"TeslaCoin\",\"TigerCoin\",\"TittieCoin\",\"TorCoin\",\"TerraCoin\",\"Umbrella\",\"UnbreakableCoin\",\"Unobtanium\",\"UroCoin\",\"UnitaryStatus Dollar\",\"UltraCoin\",\"Utility Coin\",\"ViaCoin\",\"VootCoin\",\"VeriCoin\",\"Vertcoin\",\"WorldCoin\",\"SocialXbotCoin\",\"X11 Coin\",\"Crypti\",\"JouleCoin\",\"StealthCoin\",\"XXXCoin\",\"ZCC Coin\",\"ByteCoin\",\"DigitalNote \",\"BurstCoin\",\"StorjCoin\",\"MonaCoin\",\"Neutron\",\"Sling Coin\",\"KryptCoin\",\"FairCoin\",\"Gulden\",\"RubyCoin\",\"PesetaCoin\",\"Kore\",\"Wild Beast Coin\",\"Dnotes\",\"Flo\",\"MaieutiCoin\",\"8BIT Coin\",\"Sativa Coin\",\"AeroMe\",\"ArtByte\",\"MasterTraderCoin\",\"BitCredit\",\"Folding Coin\",\"Ucoin\",\"Unitus\",\"CypherPunkCoin\",\"MaryJane Coin\",\"OmniCron\",\"CyberCoin\",\"Vtorrent\",\"GreenCoin\",\"Unattanium\",\"Cryptonite\",\"Gridmaster\",\"ConSpiracy Coin \",\"MasterCoin\",\"SoonCoin\",\"1Credit\",\"ViorCoin\",\"IslaCoin\",\"Quicksilver coin\",\"Nexus\",\"MarsCoin \",\"Singular\",\"Crypto\",\"Anarchists Prime\",\"Droidz\",\"BowsCoin\",\"CryptoCircuits\",\"Squall Coin\",\"Milllionaire Coin\",\"Song Coin\",\"BitZeny\",\"Diggits\",\"Expanse\",\"MapCoin\",\"Paycon\",\"Siacoin\",\"Emercoin\",\"BlitzCoin\",\"EverGreenCoin\",\"MindCoin\",\"I0coin\",\"Decred\",\"DogeCoinDark\",\"Revolution VR\",\"HOdlcoin\",\"EDRCoin\",\"Hitcoin\",\"Gamecredits\",\"Dashcoin\",\"DubaiCoin\",\"BiosCrypto\",\"CarpeDiemCoin\",\"PWR Coin\",\"TrumpCoin\",\"BillaryCoin\",\"EthereumScrypt\",\"Phalanx\",\"SunShotCoin\",\"GPU Coin\",\"HempCoin\",\"Adzcoin\",\"VirtaCoin\",\"SoilCoin\",\"YoCoin\",\"Universal Currency\",\"AEON\",\"SibCoin\",\"EuropeCoin\",\"Anti Bitcoin\",\"ZeitCoin\",\"SwingCoin\",\"SafeExchangeCoin\",\"Nebuchadnezzar\",\"Francs\",\"BolivarCoin\",\"GIZMOcoin\",\"SecretCoin\",\"Ratecoin\",\"Digital Bullion Gold\",\"Revenu\",\"Clinton\",\"Clockcoin\",\"VIP Tokens\",\"OrlyCoin\",\"BitSend\",\"16BitCoin\",\"ChessCoin\",\"ReeCoin\",\"Omni\",\"Let it Ride\",\"PutinCoin\",\"iBankCoin\",\"Frankywillcoin\",\"MudraCoin\",\"PizzaCoin\",\"Lutetium Coin\",\"Komodo\",\"GoldBlocks\",\"WayCoin\",\"CarterCoin\",\"Karbo\",\"BitTokens\",\"ZayedCoin\",\"MustangCoin\",\"ZoneCoin\",\"Circuits of Value\",\"RootCoin\",\"DopeCoin\",\"PROUD Money\",\"BitCurrency\",\"DollarCoin\",\"Swiscoin\",\"Shilling\",\"BuzzCoin\",\"Opair\",\"PesoBit\",\"GBR Coin\",\"Halloween Coin\",\"FujiCoin\",\"ZCoin\",\"LeaCoin\",\"CoffeeCoin\",\"RoyalCoin\",\"Zurcoin\",\"GanjaCoin V2\",\"TeamUP\",\"LanaCoin\",\"Elementrem\",\"CashOut\",\"ZClassic\",\"ARK\",\"InsaneCoin\",\"LuckChain\",\"KiloCoin\",\"Hush\",\"ArtexCoin\",\"EmberCoin\",\"XenixCoin\",\"FreeCoin\",\"NPCcoin\",\"PLNCoin\",\"Icobid\",\"AquariusCoin\",\"Kurrent\",\"Creatio\",\"Eternity\",\"Eurocoin\",\"BitcoinFast\",\"Stakenet\",\"BitConnect Coin\",\"MoneyCoin\",\"Enigma\",\"Cannabis Industry Coin\",\"Russiacoin\",\"PandaCoin\",\"GameUnits\",\"GAKHcoin\",\"Allsafe\",\"LiteCreed\",\"OsmiumCoin\",\"Bikercoins\",\"NeptuneClassic\",\"HexxCoin\",\"GoldenBird\",\"Ride My Car\",\"Klingon Empire Darsek\",\"Internet of People\",\"KushCoin\",\"Eryllium\",\"MarxCoin\",\"Printerium\",\"PacCoin\",\"Impeach\",\"Solarflarecoin\",\"Citadel\",\"Zilbercoin\",\"FirstCoin\",\"CreativeChain\",\"BeaverCoin\",\"FindCoin\",\"VaultCoin\",\"Zero\",\"OpenChat\",\"Canada eCoin\",\"Zoin\",\"Musicoin\",\"BnrtxCoin\",\"RenosCoin\",\"DubaiCoin\",\"VirtacoinPlus\",\"TajCoin\",\"Impact\",\"EB3coin\",\"Universe\",\"Atmos\",\"HappyCoin\",\"Coinonat\",\"MacronCoin\",\"Condensate\",\"Independent Money System\",\"ArgusCoin\",\"LomoCoin\",\"Bitcoin Scrypt\",\"ProCurrency\",\"GoldReserve\",\"BenjiRolls\",\"ParallelCoin\",\"GrowthCoin\",\"ILCoin\",\"Phreak\",\"Degas Coin\",\"ZSEcoin\",\"HTML5 Coin\",\"Ultimate Secure Cash\",\"EquiTrader\",\"QTUM\",\"Quantum Resistant Ledger\",\"Espers\",\"Dynamic\",\"Nano\",\"ChanCoin\",\"Dinastycoin\",\"Denarius\",\"DigitalPrice\",\"Virta Unique Coin\",\"Bitcoin Planet\",\"Unify\",\"BritCoin\",\"SocialCoin\",\"Octanox\",\"ArcticCoin\",\"DAS\",\"Linda\",\"LeviarCoin\",\"DeepOnion\",\"Bitcore\",\"gCn Coin\",\"SmartCash\",\"Signatum\",\"Onix\",\"Cream\",\"Bitcoin Cash\",\"Monoeci\",\"CampusCoin\",\"Draftcoin\",\"Vechain\",\"Sojourn Coin\",\"Stakecoin\",\"NewYorkCoin\",\"LiteBitcoin\",\"FrazCoin\",\"Kronecoin\",\"AdCoin\",\"Linx\",\"CoinonatX\",\"Ethereum Dark\",\"Sumokoin\",\"Obsidian\",\"Cardano\",\"Regalcoin\",\"BitcoinZ\",\"TrezarCoin\",\"Elements\",\"TerraNovaCoin\",\"VIVO Coin\",\"Rupee\",\"Bitcoin Gold\",\"WomenCoin\",\"Theresa May Coin\",\"NamoCoin\",\"LUXCoin\",\"Pirl\",\"Xios\",\"Bitcloud 2.0\",\"eBoost\",\"KekCoin\",\"BlackholeCoin\",\"AltCommunity Coin\",\"Pure\",\"Rupaya\",\"Infinity Economics\",\"Pura\",\"Innova\",\"Bitdeal\",\"Ellaism\",\"Sakuracoin\",\"GoByte\",\"Castle\",\"Magnet\",\"Lamden Tau\",\"Electra\",\"Bitcoin Diamond\",\"SHIELD\",\"Cash & Back Coin\",\"UltraNote\",\"BitCoal\",\"DaxxCoin\",\"Bulwark\",\"Kalkulus\",\"AC3\",\"CHIPS\",\"Lethean\",\"GermanCoin\",\"LiteCoin Ultra\",\"PopularCoin\",\"PhantomX\",\"HTML Coin\",\"Photon\",\"Sucre\",\"Fantasy Cash\",\"SparksPay\",\"Digiwage\",\"GunCoin\",\"IrishCoin\",\"Trollcoin\",\"Litecoin Plus\",\"Monkey Project\",\"Pioneer Coin\",\"UnitedBitcoin\",\"Interzone\",\"OP Coin\",\"Valorbit\",\"TokenPay\",\"1717 Masonic Commemorative Token\",\"My Big Coin\",\"TurtleCoin\",\"MUNcoin\",\"Unified Society USDEX\",\"Niobio Cash\",\"Bitcoin Private\",\"Skeincoin\",\"ShareChain\",\"Travelflex\",\"KREDS\",\"Tokyo Coin\",\"BiblePay\",\"LitecoinCash\",\"BitFlip\",\"LottoCoin\",\"LeafCoin\",\"Cerberus\",\"Bitcoin Hush\",\"Crypto Improvement Fund\",\"Stipend\",\"Poa Network\",\"Pushi\",\"Ellerium\",\"Velox\",\"Ontology\",\"Callisto Network\",\"Curium\",\"BitTube\",\"Dinero\",\"Poseidon\",\"Aidos Kuneen\",\"Bitspace\",\"Snowgem\",\"Briacoin\",\"Ignition\",\"Bitrolium\",\"Bitcoin Interest\",\"MedicCoin\",\"Alpenschillling\",\"Zelcash\",\"Bitcoin Green\",\"Deviant Coin\",\"Abjcoin\",\"Profit Hunters Coin\",\"Semux\",\"BitBlocks\",\"FuturoCoin\",\"Carebit\",\"Zealium\",\"Monero Classic\",\"Proton\",\"iDealCash\",\"Jumpcoin\",\"Infinex\",\"Bitcoin Incognito\",\"KEYCO\",\"HollyWoodCoin\",\"GINcoin\",\"PlatinCoin\",\"Loki\",\"Newton Coin\",\"Swisscoin\",\"Xt3ch\",\"MassGrid\",\"TheVig\",\"PluraCoin\",\"EmaratCoin\",\"Dekado\",\"Lynx\",\"Poseidon Quark\",\"BitcoinWSpectrum\",\"Muse\",\"Motion\",\"PlusOneCoin\",\"Axe\",\"Trivechain\",\"Dystem\",\"Giant\",\"Peony Coin\",\"SafeCoin\",\"Absolute Coin\",\"Vitae\",\"HexCoin\",\"TPCash\",\"Webchain\",\"Ryo\",\"MUSDcoin\",\"Urals Coin\",\"Qwertycoin\",\"ARENON\",\"EUNO\",\"MMOCoin\",\"Ketan\",\"NIX\",\"Safe Trade Coin\",\"Project Pai\",\"Mont Blanc\",\"XDNA\",\"PAXEX\",\"Azart\",\"Apollon\",\"ThunderStake\",\"Kcash\",\"Xchange\",\"Acute Angle Cloud\",\"Traid\",\"CrypticCoin\",\"Bettex coin\",\"ZestCoin\",\"X-CASH\",\"Actinium\",\"ETHER-1\",\"Bitcoin SV\",\"BitMoney\",\"Bitcoiin2Gen\",\"Junson Ming Chan Coin\",\"FREDEnergy\",\"Zenad\",\"C25 Coin\",\"HerbCoin\",\"Aquachain\",\"Universal Molecule\",\"Lithium\",\"Smart Bitcoin\",\"PirateCash\",\"Exosis\",\"Block-Logic\",\"Oduwa\",\"Beam\",\"Galilel\",\"Bithereum\",\"Crypto Sports\",\"Credit\",\"SLICE\",\"Dash Platinum\",\"Nasdacoin\",\"Vidulum\",\"Beetle Coin\",\"Titan Coin\",\"Award\",\"BlockStamp\",\"BLAST\",\"Bitcoin Rhodium\",\"GlobalToken\",\"Insane Coin\",\"ALAX\",\"The Freedom Coin\",\"LiteDoge\",\"Boolberry\",\"SolarCoin\",\"TruckCoin\",\"UFO Coin\",\"Ascension Coin\",\"OrangeCoin\",\"BlakeCoin\",\"BitstarCoin\",\"NeosCoin\",\"HyperCoin\",\"PinkCoin\",\"FantomCoin \",\"Crypto Escudo\",\"AudioCoin\",\"IncaKoin\",\"Piggy Coin\",\"Crown Coin\",\"Genstake\",\"Quazar Coin\",\"SmileyCoin\",\"ParkByte\",\"XiaoMiCoin\",\"Groestlcoin\",\"CapriCoin\",\" ClubCoin\",\"Radium\",\"Bata\",\"Pakcoin\",\"Creditbit \",\"OKCash\",\"Lisk\",\"HiCoin\",\"WhiteCoin\",\"Dotcoin\",\"FriendshipCoin\",\"The Hempcoin\",\"Fiii\",\"JoinCoin\",\"Triangles Coin\",\"Vollar\",\"EOS\",\"Reality Clash\",\"Oxycoin\",\"iOlite\",\"TigerCash\",\"Waves\",\"Particl\",\"BitTorrent\",\"Nxt\",\"ZEPHYR\",\"Gapcoin\",\"Beldex\",\"Horizen\",\"BitcoinPlus\"],\"ProofType\":[\"PoW/PoS\",\"PoW/PoS\",\"PoW/PoS\",\"PoW/PoS\",\"PoW\",\"PoW\",\"PoW\",\"PoW/PoS\",\"PoW\",\"PoW\",\"PoW\",\"PoS\",\"PoW\",\"PoW/PoS\",\"PoW/PoS\",\"PoS\",\"PoW\",\"PoW/PoS\",\"PoW\",\"PoW\",\"PoS\",\"PoW/PoS\",\"PoS\",\"PoW\",\"PoW/PoS\",\"PoW\",\"PoW/PoS\",\"PoW\",\"PoW\",\"PoW\",\"PoW\",\"PoW\",\"PoW/PoS\",\"PoW\",\"PoW\",\"PoW\",\"PoW\",\"PoW/PoS\",\"PoW\",\"PoW/PoS\",\"PoW\",\"PoW/PoS\",\"PoW\",\"PoW/PoS\",\"PoS\",\"PoW\",\"PoC\",\"PoW/PoS\",\"PoW/PoS\",\"PoW\",\"PoW/PoS\",\"PoW\",\"PoW\",\"PoW\",\"PoW\",\"PoW\",\"PoW\",\"PoW\",\"PoS\",\"PoW\",\"PoS\",\"PoW/PoS\",\"PoW\",\"PoS/PoW/PoT\",\"PoW\",\"PoW\",\"PoW\",\"PoW\",\"PoW\",\"PoW/PoS\",\"PoW/PoS\",\"PoW/PoS\",\"PoW\",\"PoS\",\"PoW\",\"PoW/PoS\",\"PoW\",\"PoW/PoS\",\"PoW/PoS\",\"PoW\",\"PoW\",\"PoW\",\"PoW\",\"PoW/PoS\",\"PoW/PoS\",\"PoW\",\"PoW\",\"PoS\",\"PoW\",\"PoW/PoS\",\"PoS\",\"PoW/PoS\",\"PoW\",\"PoW\",\"PoW\",\"PoW\",\"PoW/PoS\",\"PoW/PoS\",\"PoW/PoS\",\"PoW/PoS\",\"PoW/PoS\",\"PoW\",\"PoW\",\"PoW\",\"PoW/PoS\",\"PoW/PoS\",\"PoW\",\"PoW\",\"PoW\",\"PoS\",\"PoW/PoS\",\"PoW\",\"PoS\",\"PoW\",\"PoS\",\"PoW/PoS\",\"PoW\",\"PoW\",\"PoW\",\"PoW\",\"PoW\",\"PoW/PoS\",\"PoW/PoS\",\"PoW/PoS\",\"PoW\",\"PoW\",\"PoST\",\"PoW\",\"PoW\",\"PoW/PoS\",\"PoW/PoS\",\"PoS\",\"PoW\",\"PoW/PoS\",\"PoW/PoS\",\"PoW/PoS\",\"PoW\",\"PoW\",\"PoC\",\"PoS\",\"PoW\",\"PoW/PoS\",\"PoW\",\"PoS\",\"PoW/PoS\",\"PoW\",\"PoS\",\"PoW\",\"PoW/PoS\",\"PoW\",\"PoS\",\"PoW\",\"PoS\",\"PoW/PoS\",\"PoW/PoS\",\"PoW/PoS\",\"PoW\",\"PoW/PoS\",\"PoW\",\"PoW\",\"PoS\",\"PoW\",\"PoW\",\"PoW/PoS\",\"PoW\",\"PoW/PoS\",\"PoW/PoS\",\"PoW\",\"PoW\",\"PoW\",\"PoW\",\"PoW\",\"PoW\",\"PoW\",\"PoW\",\"PoW/PoS\",\"PoW/PoS\",\"PoW\",\"PoW/nPoS\",\"PoW\",\"PoW/PoS\",\"PoW\",\"PoW\",\"PoW/PoS\",\"PoW\",\"PoS\",\"PoS/PoW\",\"PoW/PoS\",\"PoW\",\"PoW\",\"PoS\",\"PoW\",\"PoS\",\"PoW/PoS\",\"PoW\",\"PoW/PoS\",\"PoS\",\"PoW/PoS\",\"PoW\",\"PoW\",\"PoW/PoS\",\"PoW\",\"PoW\",\"PoW\",\"PoW/PoS\",\"PoW/PoS\",\"PoW\",\"PoW\",\"PoW/PoS\",\"PoW/PoS\",\"PoW\",\"PoW/PoS\",\"PoS\",\"PoW/PoS\",\"PoW/PoS\",\"PoW\",\"PoW\",\"PoS\",\"PoW\",\"PoW\",\"PoW\",\"PoW\",\"PoW\",\"PoW/PoS\",\"PoW\",\"PoW\",\"PoW/PoS\",\"PoW\",\"PoS\",\"PoW/PoS\",\"PoC\",\"PoS\",\"PoW\",\"PoW\",\"PoW/PoS\",\"PoW/PoS\",\"PoW/PoS\",\"PoS\",\"PoW/PoS\",\"PoW\",\"PoW/PoS\",\"PoW/PoS\",\"PoW/PoS\",\"PoW/PoS\",\"PoW/PoS\",\"PoW/PoS\",\"PoW/PoS\",\"PoW\",\"PoS\",\"PoW/PoS\",\"PoW/PoS\",\"PoW/PoS\",\"PoS\",\"PoW\",\"PoS\",\"dPoW/PoW\",\"PoW/PoS\",\"PoS\",\"PoW/PoS\",\"PoW\",\"PoW/PoS\",\"PoW\",\"PoW/PoS\",\"PoW/PoS\",\"PoW\",\"PoW/PoS\",\"PoW\",\"PoW/PoS\",\"PoS\",\"PoW\",\"PoW/PoW\",\"PoW\",\"PoW/PoS\",\"PoS\",\"PoW/PoS\",\"PoW\",\"PoW/PoS\",\"PoW\",\"PoW\",\"PoW\",\"PoS\",\"PoS\",\"PoW\",\"PoW/PoS\",\"PoS\",\"PoW/PoS\",\"PoW\",\"PoW\",\"PoW\",\"DPoS\",\"PoW/PoS\",\"PoW/PoS\",\"PoW\",\"PoW\",\"PoW\",\"PoW/PoS\",\"PoW/PoS\",\"PoS\",\"PoW/PoS\",\"PoW/PoS\",\"PoW/PoS\",\"PoW/PoS\",\"PoW\",\"PoS\",\"PoW/PoS\",\"PoW/PoS\",\"PoW/PoS\",\"TPoS\",\"PoW/PoS\",\"PoW/PoS\",\"PoW/PoS\",\"PoW\",\"PoW/PoS\",\"PoS\",\"PoW/PoS\",\"PoW/PoS\",\"PoS\",\"PoW/PoS\",\"PoW\",\"PoW\",\"PoW/PoS\",\"PoW\",\"PoW/PoS\",\"PoS\",\"PoW/PoS\",\"PoW/PoS\",\"PoW/PoS\",\"PoW/PoS\",\"PoW\",\"PoW/PoS\",\"PoW\",\"PoW/PoS\",\"PoW\",\"PoW\",\"PoS\",\"PoW/PoS \",\"PoW\",\"PoW\",\"PoS\",\"PoW\",\"PoW\",\"PoW/PoS\",\"PoW\",\"PoW\",\"PoW\",\"PoW\",\"PoS\",\"PoW\",\"PoW/PoS\",\"PoW/PoS\",\"PoW/PoS\",\"PoW\",\"PoS\",\"PoS\",\"PoW/PoS\",\"PoW\",\"PoS\",\"PoW/PoS\",\"PoW/PoS\",\"PoW/PoS\",\"PoW/PoS\",\"PoW\",\"PoS\",\"PoW/PoS\",\"PoW\",\"PoW\",\"PoS\",\"PoW\",\"PoS\",\"PoW/PoS\",\"PoW/PoS\",\"PoW/PoS\",\"PoS\",\"PoW\",\"PoS\",\"PoW\",\"PoW/PoS\",\"PoW\",\"PoW\",\"PoW\",\"PoW\",\"PoW/PoS\",\"PoW\",\"PoW/PoS\",\"PoW/PoS\",\"PoW\",\"PoW/PoS\",\"PoW\",\"PoW/PoS\",\"PoW\",\"PoW\",\"PoW/PoS\",\"PoW\",\"PoW/PoS\",\"PoW\",\"PoW\",\"PoW\",\"PoS\",\"PoW\",\"PoW/PoS\",\"PoW\",\"PoW/PoS\",\"PoW\",\"PoS\",\"Proof of Authority\",\"PoW\",\"PoS\",\"PoW\",\"PoW\",\"PoW\",\"PoW\",\"PoW\",\"PoW\",\"PoW/PoS\",\"PoW/PoS\",\"PoW\",\"PoS\",\"PoS\",\"PoW/PoS\",\"PoW\",\"PoW/PoS\",\"PoW\",\"PoW/PoS\",\"PoW\",\"PoS\",\"PoW\",\"PoW/PoS\",\"PoW/PoS\",\"PoW/PoS\",\"PoW/PoS\",\"PoW\",\"PoW/PoS\",\"PoW/PoS\",\"PoW\",\"PoS\",\"PoW/PoS\",\"PoW/PoS\",\"PoW/PoS\",\"PoS\",\"PoS\",\"PoW\",\"PoW\",\"PoW\",\"PoW\",\"PoW\",\"PoW\",\"DPoS\",\"PoW/PoS\",\"DPoS\",\"PoW/PoS\",\"PoW/PoS\",\"PoW\",\"PoW/PoS\",\"PoW\",\"PoW\",\"PoW\",\"PoS\",\"PoS\",\"PoW\",\"PoW\",\"PoW\",\"PoW/PoS\",\"PoW/PoS\",\"PoW\",\"PoW/PoS\",\"PoW/PoS\",\"PoW\",\"PoW\",\"PoW/PoS\",\"PoW\",\"PoS\",\"PoW\",\"PoW\",\"PoW/PoS\",\"PoW/PoS\",\"PoS\",\"PoW\",\"PoW\",\"PoW\",\"PoW/PoS\",\"PoW/PoS\",\"PoS\",\"PoS\",\"PoW and PoS\",\"PoW\",\"PoW\",\"PoW/PoS\",\"PoW\",\"PoW\",\"PoW\",\"PoW\",\"PoW\",\"PoW\",\"PoS\",\"POBh\",\"PoW + Hive\",\"PoW\",\"PoW\",\"PoW\",\"PoW\",\"PoW\",\"PoW\",\"PoW/PoS\",\"PoA\",\"PoW/PoS\",\"PoW/PoS\",\"PoS\",\"PoS\",\"PoW\",\"PoW\",\"PoW\",\"PoW\",\"PoW\",\"PoW\",\"PoW/PoS\",\"PoW\",\"PoW/PoS\",\"PoW/PoS\",\"PoW\",\"PoW\",\"PoS\",\"PoW\",\"PoW/PoS\",\"PoS\",\"PoS\",\"PoW/PoS\",\"PoW/PoS\",\"DPoS\",\"PoW/PoS\",\"PoW\",\"PoW/PoS\",\"PoS\",\"PoW\",\"PoS\",\"PoW/PoS\",\"PoW\",\"PoW\",\"PoS/PoW\",\"PoW\",\"PoS\",\"PoW\",\"PoW\",\"PoW\",\"PoW\",\"PoW/PoS\",\"PoS\",\"PoW\",\"PoW/PoS\",\"PoW\",\"PoW/PoS\",\"PoS\",\"HPoW\",\"PoS\",\"PoS\",\"PoS\",\"PoW\",\"PoW\",\"PoW\",\"PoW/PoS\",\"PoS\",\"PoW/PoS\",\"PoS\",\"PoW/PoS\",\"PoW/PoS\",\"PoS\",\"PoW\",\"PoW/PoS\",\"PoW\",\"PoW\",\"PoW/PoS\",\"PoW\",\"PoW\",\"PoS\",\"PoW/PoS\",\"PoS\",\"PoS\",\"PoW\",\"PoS\",\"PoW\",\"PoS\",\"PoW/PoS\",\"PoS\",\"PoW\",\"PoW/PoS\",\"PoW/PoS\",\"Zero-Knowledge Proof\",\"PoW\",\"DPOS\",\"PoW/PoS\",\"PoW\",\"PoS\",\"PoW\",\"PoW\",\"PoW\",\"PoW\",\"PoW\",\"Pos\",\"PoW\",\"PoS\",\"PoW\",\"POS / MN\",\"PoW\",\"PoW/PoS\",\"PoW\",\"PoW\",\"PoW\",\"PoW\",\"PoS\",\"PoW\",\"PoW\",\"PoW/PoS\",\"PoW\",\"PoW/PoS\",\"PoW\",\"PoS\",\"PoW/PoS\",\"PoW\",\"PoS\",\"PoW/PoS\",\"PoW\",\"PoW/PoS\",\"PoW/PoS\",\"PoW/PoS\",\"PoW\",\"PoW\",\"PoW\",\"PoW\",\"PoW/PoS\",\"DPoS\",\"PoS\",\"PoW/PoS\",\"PoW\",\"PoW\",\"PoW/PoS\",\"PoW\",\"PoW/PoS\",\"PoW/PoS\",\"PoW\",\"PoW/PoS\",\"PoS\",\"PoW/PoS\",\"PoW/PoS\",\"PoW\",\"PoW\",\"PoW/PoS\",\"PoW/PoS\",\"PoW/PoS\",\"PoW\",\"PoW/PoS\",\"PoW\",\"PoW\",\"PoW/PoS\",\"PoW/PoS\",\"PoW\",\"PoW/PoS\",\"PoW/PoS\",\"PoS\",\"PoW\",\"PoW\",\"Proof of Trust\",\"PoW/PoS\",\"DPoS\",\"PoS\",\"PoW/PoS\",\"PoW\",\"PoW/PoS\",\"PoW/PoS\",\"DPoC\",\"PoW\",\"PoW/PoS\",\"PoW\",\"DPoS\",\"PoW\",\"DPoS\",\"PoW\",\"PoS\",\"LPoS\",\"PoS\",\"DPoS\",\"PoS/LPoS\",\"DPoS\",\"PoW/PoS\",\"PoW\",\"PoW\",\"PoS\"],\"TotalCoinSupply\":[\"42\",\"532000000\",\"0\",\"314159265359\",\"21000000\",\"0\",\"84000000\",\"22000000\",\"0\",\"210000000\",\"21000000\",\"3600570502\",\"21000000000\",\"22000000\",\"1300000\",\"12500000\",\"21000000\",\"350000000\",\"20000000\",\"1600000\",\"7000000\",\"6000000\",\"16403135\",\"64000000\",\"16768584\",\"32000000\",\"0\",\"2000000000\",\"384000000000\",\"169795588\",\"250000000\",\"100000000\",\"0\",\"247000000\",\"84000000\",\"48166000\",\"21000000 \",\"500000\",\"27580000\",\"47433600\",\"21000000 \",\"1000000\",\"13140000\",\"114000000\",\"100000000\",\"18000000\",\"40000000000\",\"0\",\"4380000\",\"16555000000\",\"3720000\",\"2043962\",\"21000000000\",\"13500000000\",\"21000000 \",\"75000000\",\"299792458\",\"32000000\",\"0\",\"100000000000\",\"100000000\",\"624000\",\"2602410\",\"0\",\"11235813\",\"336000000\",\"1420609614\",\"70000000\",\"72245700\",\"7000000\",\"0\",\"120000000\",\"42000000\",\"0\",\"90600000000\",\"22000000\",\"21000000\",\"3293010\",\"21600000\",\"265420800\",\"20000000\",\"1350000\",\"82003200\",\"1000000\",\"100000000\",\"42000000\",\"200000000\",\"0\",\"10000000\",\"2419200000\",\"16180000\",\"0\",\"50000000\",\"15000000000\",\"21000000\",\"337000000\",\"0\",\"3770000\",\"420000000\",\"98000000\",\"0\",\"12000000\",\"21000000\",\"250000000\",\"1000000\",\"1000000\",\"51200000\",\"50000000\",\"21000000\",\"0\",\"1000\",\"888000000\",\"100000000\",\"47011968\",\"2300000000\",\"10000000\",\"42000000\",\"2625000\",\"80000000\",\"250000\",\"0\",\"1600000000\",\"100000000\",\"0\",\"23000000\",\"0\",\"0\",\"84000000\",\"265420800\",\"2000000\",\"5500000\",\"0\",\"45000000\",\"0\",\"50000000\",\"1000000000\",\"184467440735\",\"10000000000\",\"2158812800\",\"500000000\",\"105120000\",\"68000000\",\"1000000\",\"17000000\",\"0\",\"1680000000\",\"0\",\"166386000\",\"12000000\",\"2628000\",\"500000000\",\"160000000\",\"2014\",\"0\",\"10000000\",\"12000000\",\"1000000000\",\"10110000\",\"210000000\",\"1000000000\",\"20000000\",\"0\",\"0\",\"0\",\"3371337\",\"0\",\"20000000\",\"10000000000\",\"0\",\"1840000000\",\"84000000\",\"33000000\",\"619478\",\"21000000\",\"92000000000\",\"0\",\"0\",\"33000000\",\"78000000\",\"33000000\",\"0\",\"65789100\",\"53760000\",\"5060000\",\"21000000\",\"0\",\"0\",\"0\",\"210240000\",\"250000000\",\"100000000\",\"16906397\",\"2228921.184\",\"50000000\",\"0\",\"1000000000\",\"3852156\",\"26298000\",\"16000000\",\"21000000\",\"21000000\",\"16500000000\",\"210000000\",\"81962100\",\"22000000\",\"26550000000\",\"84000000\",\"18446744\",\"10500000\",\"20190463.54969237\",\"21626280000 \",\"0\",\"12000000\",\"42000000\",\"4200000\",\"15000000\",\"2250000000\",\"221052632\",\"5000000000\",\"84000000\",\"21000000000\",\"30000000\",\"168351300\",\"210000000\",\"18400000\",\"24000000\",\"384000000\",\"42000000\",\" 99000000000\",\"40000000\",\"2147483647\",\"20000000\",\"20000000\",\"25000000\",\"100000\",\"21000000\",\"75000000\",\"15000000\",\"222725000\",\"2421227\",\"525000000\",\"90000000\",\"36000000\",\"139000000\",\"16000000\",\"74666667\",\"350000000\",\"616448\",\"33500000\",\"2000000000\",\"44333333\",\"100000000\",\"200000000\",\"25000000\",\"657000000\",\"200000000\",\"50000000\",\"100000000\",\"90000000\",\"10000000\",\"21000000\",\"9736000\",\"3000000\",\"21000000\",\"1200000000\",\"0\",\"200000000\",\"10000000000\",\"0\",\"10638298\",\"3100000000\",\"30000000\",\"20000000000\",\"74000000\",\"0\",\"87500000\",\"1500000000\",\"10000000\",\"21400000\",\"2000000000\",\"39999898\",\"2500124\",\"126000000\",\"100000000\",\"301000000\",\"7506000000\",\"26205539\",\"100000000\",\"21000000\",\"125000000\",\"30000000\",\"1000000000\",\"10000000000\",\"21000000\",\"500000000\",\"850000000\",\"3853326.77707314\",\"50000000\",\"7000000000\",\"38540000 \",\"200000000 \",\"42000000\",\"228000000\",\"20000000\",\"60000000\",\"20000000\",\"33000000\",\"76500000\",\"28000000\",\"650659833\",\"5000000\",\"21000000\",\"144000000\",\"32514916898\",\"13000000\",\"3315789\",\"15000000\",\"78835200\",\"2714286\",\"25000000\",\"250000000\",\"9999999\",\"450000000\",\"100000000\",\"500000000\",\"21000000\",\"9354000\",\"100000000\",\"100640000\",\"20000000\",\"100000000000\",\"21933333\",\"20000000\",\"185000000\",\"55000000\",\"110000000\",\"115000000\",\"3360000\",\"14524851.4827\",\"1000000000\",\"17000000\",\"1000000000\",\"100000000 \",\"21000000\",\"454898394\",\"210000000\",\"34426423\",\"2232901\",\"100000000\",\"36900000\",\"110000000\",\"4000000000\",\"112000000\",\"110290030\",\"100000000\",\"48252000\",\"400000000\",\"500000000\",\"21212121\",\"28600000\",\"1000000000\",\"21000000\",\"75000000000\",\"40000000\",\"35520400\",\"1000000\",\"2000000000\",\"2500000000\",\"30000000\",\"105000000\",\"2093500000\",\"90000000000\",\"200084200\",\"72000000\",\"100000000\",\"105000000\",\"50000000000\",\"0\",\"340282367\",\"30000000\",\"2000000000\",\"10000000\",\"100000000\",\"120000000\",\"100000000\",\"19276800\",\"30000000\",\" 75000000\",\"7905634\",\"60000000\",\"18900000\",\"50000000000\",\"54000000\",\"18898187.6216583\",\"21000000\",\"200000000000\",\"5000000000\",\"137500000\",\"1100000000\",\"100000000\",\"21000000\",\"9507271\",\"1010000000\",\"17405891.19707116\",\"86712634466\",\"10500000000\",\"61599965\",\"0\",\"1000000000\",\"20000000\",\"84000000\",\"100000000\",\"100000000\",\"48252000\",\"4200000\",\"88888888\",\"91388946\",\"45000000000\",\"27000000\",\"21000000000\",\"400000000\",\"1800000000\",\"15733333\",\"27000000\",\"24000000\",\"21000000\",\"25000000000\",\"100000000\",\"1200000000\",\"60000000\",\"156306732.71\",\"21000000\",\"200000000\",\"100000000\",\"21000000\",\"14788275.991\",\"5000000\",\"3686860\",\"75000000\",\"9000000000\",\"350000000\",\"45000000\",\"300000000\",\"280000000\",\"105100000\",\"31800000\",\"50000000 \",\"144000000\",\"500000000\",\"30000000000\",\"210000000\",\"660000000\",\"210000000\",\"85000000000\",\"12500000\",\"10000000000\",\"27716121\",\"20000000\",\"550000000\",\"21000000\",\"999481516\",\"50000000000\",\"150000000\",\"4999999999\",\"50000000\",\"90000000000\",\" 90000000000\",\"19800000\",\"4600000\",\"21000000\",\"120000000\",\"500000000\",\"64000000\",\"900000000\",\"4000000\",\"21000000\",\"23000000\",\"20166000\",\"23000000\",\"2000000000\",\"92233720000000000\",\"25000000\",\"1618033\",\"30000000\",\"1000000000000\",\"16600000\",\"232000000\",\"336000000\",\"21000000\",\"17000000\",\"10000000000\",\"100000000\",\"1100000000\",\"800000000\",\"5200000000\",\"840000000\",\"40000000\",\"18406979840\",\"21000000000\",\"31500000\",\"21000000\",\"500000000\",\"19340594\",\"252460800\",\"25000000\",\"60000000\",\"124000000\",\"1000000000\",\"6500000000\",\"22000000\",\"1000000000\",\"100000000\",\"21000000\",\"25000000\",\"50000000\",\"84096000\",\"3000000\",\"5000000\",\"70000000\",\"22300000\",\"500000000\",\"300000000\",\"210000000\",\"21000000\",\"88000000\",\"30000000\",\"100000000\",\"100000000\",\"500000000\",\"100000000\",\"200000000\",\"80000000\",\"18400000\",\"45000000\",\"5121951220\",\"21000000\",\"26280000\",\"21000000\",\"18000000\",\"26000000\",\"10500000\",\"600000518\",\"150000000\",\"184000000000\",\"10200000000\",\"44000000\",\"168000000\",\"100000000\",\"1000000000\",\"84000000\",\"90000000\",\"92000000000\",\"650000000 \",\"100262205\",\"18081806 \",\"22075700\",\"21000000\",\"21000000\",\"82546564\",\"21000000\",\"5151000\",\"16880000000\",\"36000000\",\"52500000\",\"100000000\",\"22105263\",\"1000000000\",\"1750000000\",\"88188888\",\"100000000\",\"210000000\",\"184470000000\",\"55000000\",\"50000000\",\"260000000\",\"210000000\",\"175000000\",\"840000000\",\"2100000000\",\"70000000\",\"366000000\",\"100000000\",\"25000000\",\"250000000\",\"18000000000\",\"1000000000\",\"100000000\",\"1000000000\",\"252000000\",\"7600000000\",\"50000000\",\"29300000\",\"100000000000\",\"84000000\",\"13666237\",\"21000000\",\"70000000000\",\"100000000\",\"0\",\"8080000000\",\"46000000\",\"6100000\",\"54000000\",\"42000000\",\"105120001.44\",\"25228800\",\"20999764\",\"105000000\",\"21000000\",\"120000000\",\"21000000\",\"262800000\",\"19035999\",\"30886000\",\"13370000\",\"74800000000\",\"100000000\",\"19700000\",\"84000000\",\"100000000\",\"500000000\",\"5000000000\",\"420000000\",\"105000000\",\"64000000\",\"2100000\",\"168000000\",\"30000000\",\"1000000000\",\"25000000\",\"35000000000\",\"18450000\",\"98100000000\",\"0\",\"4000000000\",\"0\",\"200000000\",\"7000000000\",\"54256119\",\"21000000\",\"0\",\"500000000\",\"18400000\",\"1000000000\",\"10500000000\",\"190000000\",\"1000000000\",\"42000000\",\"15000000\",\"18446744\",\"50000000000\",\"25000000\",\"400000000\",\"105000000\",\"208000000\",\"160000000\",\"9000000\",\"5000000\",\"182000000\",\"16504333\",\"105000000\",\"159918400\",\"10008835635\",\"300000000\",\"890000000\",\"60168145\",\"300000000\",\"5000000000\",\"2800000\",\"120000\",\"2100000000\",\"0\",\"24487944\",\"0\",\"1000000000\",\"1000000000\",\"100000000\",\"8634140\",\"990000000000\",\"1000000000\",\"2000000000\",\"250000000\",\"1400222610\",\"21000000\",\"1000000\"],\"TotalCoinsMined\":{\"__ndarray__\":\"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\",\"dtype\":\"float64\",\"order\":\"little\",\"shape\":[685]},\"class\":{\"__ndarray__\":\"AAAAAAAAAAAAAAAAAAAAAAIAAAACAAAAAgAAAAAAAAACAAAAAgAAAAIAAAAAAAAAAgAAAAAAAAAAAAAAAAAAAAIAAAAAAAAAAgAAAAIAAAAAAAAAAAAAAAAAAAACAAAAAAAAAAIAAAAAAAAAAgAAAAIAAAACAAAAAgAAAAIAAAAAAAAAAgAAAAIAAAACAAAAAgAAAAAAAAACAAAAAAAAAAIAAAAAAAAAAgAAAAAAAAAAAAAAAgAAAAAAAAAAAAAAAAAAAAIAAAAAAAAAAgAAAAIAAAACAAAAAgAAAAIAAAACAAAAAgAAAAAAAAACAAAAAAAAAAAAAAACAAAAAAAAAAIAAAACAAAAAgAAAAIAAAACAAAAAAAAAAAAAAAAAAAAAgAAAAAAAAACAAAAAAAAAAIAAAAAAAAAAAAAAAIAAAACAAAAAgAAAAIAAAAAAAAAAAAAAAIAAAACAAAAAAAAAAIAAAAAAAAAAAAAAAAAAAACAAAAAgAAAAIAAAACAAAAAAAAAAAAAAAAAAAAAAAAAAAAAAACAAAAAgAAAAIAAAAAAAAAAAAAAAIAAAACAAAAAgAAAAAAAAAAAAAAAgAAAAAAAAACAAAAAAAAAAAAAAACAAAAAgAAAAIAAAACAAAAAgAAAAAAAAAAAAAAAAAAAAIAAAACAAAAAAAAAAIAAAACAAAAAAAAAAAAAAAAAAAAAgAAAAAAAAAAAAAAAAAAAAIAAAACAAAAAgAAAAAAAAACAAAAAAAAAAIAAAAAAAAAAAAAAAIAAAAAAAAAAgAAAAAAAAACAAAAAAAAAAIAAAAAAAAAAAAAAAAAAAAAAAAAAgAAAAAAAAACAAAAAgAAAAAAAAACAAAAAgAAAAAAAAACAAAAAAAAAAAAAAACAAAAAgAAAAIAAAACAAAAAgAAAAIAAAACAAAAAgAAAAAAAAAAAAAAAgAAAAAAAAACAAAAAAAAAAIAAAACAAAAAAAAAAIAAAAAAAAAAAAAAAAAAAACAAAAAgAAAAAAAAACAAAAAAAAAAAAAAACAAAAAAAAAAAAAAAAAAAAAgAAAAIAAAAAAAAAAgAAAAIAAAACAAAAAAAAAAAAAAACAAAAAgAAAAAAAAAAAAAAAgAAAAAAAAAAAAAAAAAAAAAAAAACAAAAAgAAAAAAAAACAAAAAgAAAAIAAAACAAAAAgAAAAAAAAACAAAAAgAAAAAAAAACAAAAAAAAAAAAAAAAAAAAAAAAAAIAAAACAAAAAAAAAAAAAAAAAAAAAAAAAAAAAAACAAAAAAAAAAAAAAAAAAAAAAAAAAAAAAAAAAAAAAAAAAIAAAAAAAAAAAAAAAAAAAAAAAAAAAAAAAIAAAAAAAAAAgAAAAAAAAAAAAAAAAAAAAIAAAAAAAAAAgAAAAAAAAAAAAAAAgAAAAAAAAACAAAAAAAAAAAAAAACAAAAAAAAAAIAAAAAAAAAAAAAAAAAAAACAAAAAAAAAAIAAAACAAAAAgAAAAAAAAAAAAAAAgAAAAAAAAAAAAAAAAAAAAIAAAACAAAAAgAAAAAAAAAAAAAAAAAAAAIAAAACAAAAAgAAAAAAAAAAAAAAAAAAAAAAAAAAAAAAAAAAAAAAAAACAAAAAAAAAAAAAAAAAAAAAAAAAAAAAAAAAAAAAAAAAAAAAAACAAAAAAAAAAAAAAAAAAAAAAAAAAAAAAAAAAAAAgAAAAIAAAAAAAAAAgAAAAAAAAAAAAAAAAAAAAAAAAAAAAAAAAAAAAIAAAAAAAAAAgAAAAAAAAACAAAAAgAAAAAAAAAAAAAAAgAAAAIAAAAAAAAAAgAAAAIAAAAAAAAAAgAAAAIAAAACAAAAAgAAAAAAAAACAAAAAAAAAAAAAAAAAAAAAgAAAAAAAAAAAAAAAAAAAAIAAAAAAAAAAAAAAAAAAAAAAAAAAAAAAAIAAAAAAAAAAAAAAAIAAAACAAAAAAAAAAIAAAAAAAAAAAAAAAAAAAAAAAAAAAAAAAIAAAAAAAAAAgAAAAAAAAACAAAAAgAAAAIAAAACAAAAAAAAAAIAAAAAAAAAAAAAAAIAAAAAAAAAAgAAAAAAAAACAAAAAgAAAAAAAAACAAAAAAAAAAIAAAACAAAAAgAAAAAAAAACAAAAAAAAAAIAAAAAAAAAAgAAAAAAAAADAAAAAgAAAAAAAAACAAAAAgAAAAIAAAACAAAAAgAAAAIAAAAAAAAAAAAAAAIAAAAAAAAAAAAAAAAAAAACAAAAAAAAAAIAAAAAAAAAAgAAAAAAAAACAAAAAAAAAAAAAAAAAAAAAAAAAAIAAAAAAAAAAAAAAAIAAAAAAAAAAAAAAAAAAAAAAAAAAAAAAAAAAAACAAAAAgAAAAIAAAACAAAAAgAAAAIAAAAAAAAAAAAAAAAAAAAAAAAAAAAAAAIAAAAAAAAAAgAAAAIAAAACAAAAAAAAAAAAAAACAAAAAgAAAAIAAAAAAAAAAAAAAAIAAAAAAAAAAAAAAAIAAAACAAAAAAAAAAIAAAAAAAAAAgAAAAIAAAAAAAAAAAAAAAAAAAACAAAAAgAAAAIAAAAAAAAAAAAAAAAAAAACAAAAAAAAAAIAAAACAAAAAAAAAAIAAAACAAAAAgAAAAIAAAACAAAAAgAAAAAAAAADAAAAAwAAAAIAAAACAAAAAgAAAAIAAAACAAAAAgAAAAAAAAAAAAAAAAAAAAAAAAAAAAAAAAAAAAIAAAACAAAAAgAAAAIAAAACAAAAAgAAAAAAAAACAAAAAAAAAAAAAAACAAAAAgAAAAAAAAACAAAAAAAAAAAAAAAAAAAAAAAAAAAAAAAAAAAAAAAAAAIAAAAAAAAAAAAAAAIAAAAAAAAAAAAAAAIAAAACAAAAAAAAAAIAAAAAAAAAAgAAAAIAAAACAAAAAgAAAAAAAAAAAAAAAgAAAAAAAAACAAAAAAAAAAAAAAAAAAAAAAAAAAAAAAAAAAAAAgAAAAIAAAACAAAAAAAAAAAAAAAAAAAAAAAAAAAAAAAAAAAAAAAAAAIAAAAAAAAAAgAAAAIAAAAAAAAAAgAAAAIAAAAAAAAAAAAAAAAAAAAAAAAAAgAAAAAAAAACAAAAAAAAAAAAAAAAAAAAAgAAAAAAAAAAAAAAAAAAAAIAAAADAAAAAAAAAAIAAAAAAAAAAgAAAAIAAAACAAAAAgAAAAIAAAAAAAAAAgAAAAAAAAACAAAAAAAAAAIAAAAAAAAAAgAAAAIAAAACAAAAAgAAAAIAAAACAAAAAgAAAAAAAAACAAAAAAAAAAIAAAAAAAAAAAAAAAIAAAAAAAAAAAAAAAIAAAAAAAAAAAAAAAAAAAACAAAAAgAAAAIAAAACAAAAAAAAAAAAAAAAAAAAAAAAAAIAAAACAAAAAAAAAAIAAAAAAAAAAAAAAAIAAAAAAAAAAAAAAAAAAAAAAAAAAgAAAAIAAAAAAAAAAAAAAAAAAAACAAAAAAAAAAIAAAACAAAAAAAAAAAAAAACAAAAAAAAAAAAAAAAAAAAAgAAAAIAAAAAAAAAAAAAAAAAAAAAAAAAAAAAAAIAAAAAAAAAAAAAAAAAAAACAAAAAAAAAAIAAAAAAAAAAgAAAAAAAAACAAAAAAAAAAMAAAAAAAAAAQAAAAAAAAAAAAAAAAAAAAIAAAACAAAAAAAAAA==\",\"dtype\":\"int32\",\"order\":\"little\",\"shape\":[685]}},\"selected\":{\"id\":\"1636\"},\"selection_policy\":{\"id\":\"1670\"}},\"id\":\"1635\",\"type\":\"ColumnDataSource\"},{\"attributes\":{},\"id\":\"1637\",\"type\":\"StringFormatter\"},{\"attributes\":{\"columns\":[{\"id\":\"1639\"},{\"id\":\"1644\"},{\"id\":\"1649\"},{\"id\":\"1654\"},{\"id\":\"1659\"},{\"id\":\"1664\"}],\"height\":300,\"reorderable\":false,\"source\":{\"id\":\"1635\"},\"view\":{\"id\":\"1669\"},\"width\":700},\"id\":\"1667\",\"type\":\"DataTable\"},{\"attributes\":{\"editor\":{\"id\":\"1638\"},\"field\":\"CoinName\",\"formatter\":{\"id\":\"1637\"},\"title\":\"CoinName\"},\"id\":\"1639\",\"type\":\"TableColumn\"},{\"attributes\":{\"margin\":[5,5,5,5],\"name\":\"HSpacer02661\",\"sizing_mode\":\"stretch_width\"},\"id\":\"1634\",\"type\":\"Spacer\"},{\"attributes\":{\"editor\":{\"id\":\"1658\"},\"field\":\"TotalCoinsMined\",\"formatter\":{\"id\":\"1657\"},\"title\":\"TotalCoinsMined\"},\"id\":\"1659\",\"type\":\"TableColumn\"}],\"root_ids\":[\"1633\"]},\"title\":\"Bokeh Application\",\"version\":\"2.4.2\"}};\n",
       "    var render_items = [{\"docid\":\"5e0a5e71-c508-472f-b646-3f7c83b837bc\",\"root_ids\":[\"1633\"],\"roots\":{\"1633\":\"8ab18500-c8fd-483f-a122-b6bef4a53a7c\"}}];\n",
       "    root.Bokeh.embed.embed_items_notebook(docs_json, render_items);\n",
       "  }\n",
       "  if (root.Bokeh !== undefined && root.Bokeh.Panel !== undefined) {\n",
       "    embed_document(root);\n",
       "  } else {\n",
       "    var attempts = 0;\n",
       "    var timer = setInterval(function(root) {\n",
       "      if (root.Bokeh !== undefined && root.Bokeh.Panel !== undefined) {\n",
       "        clearInterval(timer);\n",
       "        embed_document(root);\n",
       "      } else if (document.readyState == \"complete\") {\n",
       "        attempts++;\n",
       "        if (attempts > 200) {\n",
       "          clearInterval(timer);\n",
       "          console.log(\"Bokeh: ERROR: Unable to run BokehJS code because BokehJS library is missing\");\n",
       "        }\n",
       "      }\n",
       "    }, 25, root)\n",
       "  }\n",
       "})(window);</script>"
      ],
      "text/plain": [
       ":Table   [CoinName,Algorithm,ProofType,TotalCoinSupply,TotalCoinsMined,class]"
      ]
     },
     "execution_count": 127,
     "metadata": {
      "application/vnd.holoviews_exec.v0+json": {
       "id": "1633"
      }
     },
     "output_type": "execute_result"
    }
   ],
   "source": [
    "# Table with tradable cryptos\n",
    "clustered_df.hvplot.table(columns=['CoinName', \"Algorithm\", \"ProofType\", \"TotalCoinSupply\", \"TotalCoinsMined\", \"class\"])"
   ]
  },
  {
   "cell_type": "code",
   "execution_count": 128,
   "id": "1b0b9621",
   "metadata": {},
   "outputs": [
    {
     "name": "stdout",
     "output_type": "stream",
     "text": [
      "The total number of tradable cryptocurrencies are 685.\n"
     ]
    }
   ],
   "source": [
    "# Print the total number of tradable cryptocurrencies\n",
    "total_trade_coins = len(clustered_df.CoinName)\n",
    "print(f\"The total number of tradable cryptocurrencies are {total_trade_coins}.\")"
   ]
  },
  {
   "cell_type": "markdown",
   "id": "7ea0b929",
   "metadata": {},
   "source": [
    "Scatter Plot with Tradable Cryptocurrencies"
   ]
  },
  {
   "cell_type": "code",
   "execution_count": 129,
   "id": "73369f98",
   "metadata": {},
   "outputs": [],
   "source": [
    "# Scale data to create the scatter plot\n",
    "scaler = MinMaxScaler()\n",
    "\n",
    "clustered_columns = [\"TotalCoinsMined\", \"TotalCoinSupply\"]\n",
    "x = clustered_df[clustered_columns].values\n",
    "x_scaled = scaler.fit_transform(x)"
   ]
  },
  {
   "cell_type": "code",
   "execution_count": 130,
   "id": "dec7e94c",
   "metadata": {},
   "outputs": [
    {
     "data": {
      "text/html": [
       "<div>\n",
       "<style scoped>\n",
       "    .dataframe tbody tr th:only-of-type {\n",
       "        vertical-align: middle;\n",
       "    }\n",
       "\n",
       "    .dataframe tbody tr th {\n",
       "        vertical-align: top;\n",
       "    }\n",
       "\n",
       "    .dataframe thead th {\n",
       "        text-align: right;\n",
       "    }\n",
       "</style>\n",
       "<table border=\"1\" class=\"dataframe\">\n",
       "  <thead>\n",
       "    <tr style=\"text-align: right;\">\n",
       "      <th></th>\n",
       "      <th>TotalCoinsMined</th>\n",
       "      <th>TotalCoinSupply</th>\n",
       "    </tr>\n",
       "  </thead>\n",
       "  <tbody>\n",
       "    <tr>\n",
       "      <th>0</th>\n",
       "      <td>0.005942</td>\n",
       "      <td>4.553649e-16</td>\n",
       "    </tr>\n",
       "    <tr>\n",
       "      <th>1</th>\n",
       "      <td>0.007002</td>\n",
       "      <td>5.767956e-09</td>\n",
       "    </tr>\n",
       "    <tr>\n",
       "      <th>2</th>\n",
       "      <td>0.005942</td>\n",
       "      <td>0.000000e+00</td>\n",
       "    </tr>\n",
       "    <tr>\n",
       "      <th>3</th>\n",
       "      <td>0.035342</td>\n",
       "      <td>3.406122e-06</td>\n",
       "    </tr>\n",
       "    <tr>\n",
       "      <th>4</th>\n",
       "      <td>0.005960</td>\n",
       "      <td>2.276825e-10</td>\n",
       "    </tr>\n",
       "  </tbody>\n",
       "</table>\n",
       "</div>"
      ],
      "text/plain": [
       "   TotalCoinsMined  TotalCoinSupply\n",
       "0         0.005942     4.553649e-16\n",
       "1         0.007002     5.767956e-09\n",
       "2         0.005942     0.000000e+00\n",
       "3         0.035342     3.406122e-06\n",
       "4         0.005960     2.276825e-10"
      ]
     },
     "execution_count": 130,
     "metadata": {},
     "output_type": "execute_result"
    }
   ],
   "source": [
    "# Create a dataframe with scaled data\n",
    "tradable_coins_df = pd.DataFrame(\n",
    "    data=x_scaled, columns=clustered_columns\n",
    ")\n",
    "tradable_coins_df.head()"
   ]
  },
  {
   "cell_type": "code",
   "execution_count": 131,
   "id": "bda47c98",
   "metadata": {},
   "outputs": [
    {
     "data": {
      "text/html": [
       "<div>\n",
       "<style scoped>\n",
       "    .dataframe tbody tr th:only-of-type {\n",
       "        vertical-align: middle;\n",
       "    }\n",
       "\n",
       "    .dataframe tbody tr th {\n",
       "        vertical-align: top;\n",
       "    }\n",
       "\n",
       "    .dataframe thead th {\n",
       "        text-align: right;\n",
       "    }\n",
       "</style>\n",
       "<table border=\"1\" class=\"dataframe\">\n",
       "  <thead>\n",
       "    <tr style=\"text-align: right;\">\n",
       "      <th></th>\n",
       "      <th>Algorithm</th>\n",
       "      <th>ProofType</th>\n",
       "      <th>PC 1</th>\n",
       "      <th>PC 2</th>\n",
       "      <th>PC 3</th>\n",
       "      <th>class</th>\n",
       "      <th>CoinName</th>\n",
       "    </tr>\n",
       "    <tr>\n",
       "      <th>Ticker</th>\n",
       "      <th></th>\n",
       "      <th></th>\n",
       "      <th></th>\n",
       "      <th></th>\n",
       "      <th></th>\n",
       "      <th></th>\n",
       "      <th></th>\n",
       "    </tr>\n",
       "  </thead>\n",
       "  <tbody>\n",
       "    <tr>\n",
       "      <th>42</th>\n",
       "      <td>Scrypt</td>\n",
       "      <td>PoW/PoS</td>\n",
       "      <td>-0.311909</td>\n",
       "      <td>1.223115</td>\n",
       "      <td>-0.395829</td>\n",
       "      <td>0</td>\n",
       "      <td>42 Coin</td>\n",
       "    </tr>\n",
       "    <tr>\n",
       "      <th>404</th>\n",
       "      <td>Scrypt</td>\n",
       "      <td>PoW/PoS</td>\n",
       "      <td>-0.298060</td>\n",
       "      <td>1.221307</td>\n",
       "      <td>-0.396157</td>\n",
       "      <td>0</td>\n",
       "      <td>404Coin</td>\n",
       "    </tr>\n",
       "    <tr>\n",
       "      <th>808</th>\n",
       "      <td>SHA-256</td>\n",
       "      <td>PoW/PoS</td>\n",
       "      <td>-0.140324</td>\n",
       "      <td>0.793454</td>\n",
       "      <td>-0.275268</td>\n",
       "      <td>0</td>\n",
       "      <td>808</td>\n",
       "    </tr>\n",
       "    <tr>\n",
       "      <th>1337</th>\n",
       "      <td>X13</td>\n",
       "      <td>PoW/PoS</td>\n",
       "      <td>0.287620</td>\n",
       "      <td>1.871280</td>\n",
       "      <td>-0.456194</td>\n",
       "      <td>0</td>\n",
       "      <td>EliteCoin</td>\n",
       "    </tr>\n",
       "    <tr>\n",
       "      <th>BTC</th>\n",
       "      <td>SHA-256</td>\n",
       "      <td>PoW</td>\n",
       "      <td>-0.161219</td>\n",
       "      <td>-1.456436</td>\n",
       "      <td>0.085173</td>\n",
       "      <td>2</td>\n",
       "      <td>Bitcoin</td>\n",
       "    </tr>\n",
       "  </tbody>\n",
       "</table>\n",
       "</div>"
      ],
      "text/plain": [
       "       Algorithm ProofType      PC 1      PC 2      PC 3  class   CoinName\n",
       "Ticker                                                                    \n",
       "42        Scrypt   PoW/PoS -0.311909  1.223115 -0.395829      0    42 Coin\n",
       "404       Scrypt   PoW/PoS -0.298060  1.221307 -0.396157      0    404Coin\n",
       "808      SHA-256   PoW/PoS -0.140324  0.793454 -0.275268      0        808\n",
       "1337         X13   PoW/PoS  0.287620  1.871280 -0.456194      0  EliteCoin\n",
       "BTC      SHA-256       PoW -0.161219 -1.456436  0.085173      2    Bitcoin"
      ]
     },
     "execution_count": 131,
     "metadata": {},
     "output_type": "execute_result"
    }
   ],
   "source": [
    "# Drop the existing columns `TotalCoinsMined` and `TotalCoinSupply` from the `clustered_df` dataframe to avoid duplicates.\n",
    "clustered_df.drop(columns=clustered_columns, inplace=True)\n",
    "clustered_df.head()"
   ]
  },
  {
   "cell_type": "code",
   "execution_count": 132,
   "id": "6f5b5f64",
   "metadata": {},
   "outputs": [
    {
     "data": {
      "text/html": [
       "<div>\n",
       "<style scoped>\n",
       "    .dataframe tbody tr th:only-of-type {\n",
       "        vertical-align: middle;\n",
       "    }\n",
       "\n",
       "    .dataframe tbody tr th {\n",
       "        vertical-align: top;\n",
       "    }\n",
       "\n",
       "    .dataframe thead th {\n",
       "        text-align: right;\n",
       "    }\n",
       "</style>\n",
       "<table border=\"1\" class=\"dataframe\">\n",
       "  <thead>\n",
       "    <tr style=\"text-align: right;\">\n",
       "      <th></th>\n",
       "      <th>Algorithm</th>\n",
       "      <th>ProofType</th>\n",
       "      <th>PC 1</th>\n",
       "      <th>PC 2</th>\n",
       "      <th>PC 3</th>\n",
       "      <th>class</th>\n",
       "      <th>CoinName</th>\n",
       "      <th>TotalCoinsMined</th>\n",
       "      <th>TotalCoinSupply</th>\n",
       "    </tr>\n",
       "  </thead>\n",
       "  <tbody>\n",
       "  </tbody>\n",
       "</table>\n",
       "</div>"
      ],
      "text/plain": [
       "Empty DataFrame\n",
       "Columns: [Algorithm, ProofType, PC 1, PC 2, PC 3, class, CoinName, TotalCoinsMined, TotalCoinSupply]\n",
       "Index: []"
      ]
     },
     "execution_count": 132,
     "metadata": {},
     "output_type": "execute_result"
    }
   ],
   "source": [
    "# Concate the two dataframes `clustered_df` and `tradable_coins_df`\n",
    "clustered_tradable_df = pd.concat([clustered_df, tradable_coins_df], axis='columns', join='inner')\n",
    "clustered_tradable_df.head()"
   ]
  },
  {
   "cell_type": "code",
   "execution_count": 133,
   "id": "7b44b2e8",
   "metadata": {},
   "outputs": [
    {
     "name": "stderr",
     "output_type": "stream",
     "text": [
      "C:\\Users\\gregg\\Anaconda3\\envs\\pyvizenv\\lib\\site-packages\\altair\\utils\\core.py:221: UserWarning:\n",
      "\n",
      "I don't know how to infer vegalite type from 'empty'.  Defaulting to nominal.\n",
      "\n"
     ]
    },
    {
     "data": {
      "text/html": [
       "\n",
       "<div id=\"altair-viz-3782ce2173fe442f92b6fefaba12d63c\"></div>\n",
       "<script type=\"text/javascript\">\n",
       "  var VEGA_DEBUG = (typeof VEGA_DEBUG == \"undefined\") ? {} : VEGA_DEBUG;\n",
       "  (function(spec, embedOpt){\n",
       "    let outputDiv = document.currentScript.previousElementSibling;\n",
       "    if (outputDiv.id !== \"altair-viz-3782ce2173fe442f92b6fefaba12d63c\") {\n",
       "      outputDiv = document.getElementById(\"altair-viz-3782ce2173fe442f92b6fefaba12d63c\");\n",
       "    }\n",
       "    const paths = {\n",
       "      \"vega\": \"https://cdn.jsdelivr.net/npm//vega@5?noext\",\n",
       "      \"vega-lib\": \"https://cdn.jsdelivr.net/npm//vega-lib?noext\",\n",
       "      \"vega-lite\": \"https://cdn.jsdelivr.net/npm//vega-lite@4.17.0?noext\",\n",
       "      \"vega-embed\": \"https://cdn.jsdelivr.net/npm//vega-embed@6?noext\",\n",
       "    };\n",
       "\n",
       "    function maybeLoadScript(lib, version) {\n",
       "      var key = `${lib.replace(\"-\", \"\")}_version`;\n",
       "      return (VEGA_DEBUG[key] == version) ?\n",
       "        Promise.resolve(paths[lib]) :\n",
       "        new Promise(function(resolve, reject) {\n",
       "          var s = document.createElement('script');\n",
       "          document.getElementsByTagName(\"head\")[0].appendChild(s);\n",
       "          s.async = true;\n",
       "          s.onload = () => {\n",
       "            VEGA_DEBUG[key] = version;\n",
       "            return resolve(paths[lib]);\n",
       "          };\n",
       "          s.onerror = () => reject(`Error loading script: ${paths[lib]}`);\n",
       "          s.src = paths[lib];\n",
       "        });\n",
       "    }\n",
       "\n",
       "    function showError(err) {\n",
       "      outputDiv.innerHTML = `<div class=\"error\" style=\"color:red;\">${err}</div>`;\n",
       "      throw err;\n",
       "    }\n",
       "\n",
       "    function displayChart(vegaEmbed) {\n",
       "      vegaEmbed(outputDiv, spec, embedOpt)\n",
       "        .catch(err => showError(`Javascript Error: ${err.message}<br>This usually means there's a typo in your chart specification. See the javascript console for the full traceback.`));\n",
       "    }\n",
       "\n",
       "    if(typeof define === \"function\" && define.amd) {\n",
       "      requirejs.config({paths});\n",
       "      require([\"vega-embed\"], displayChart, err => showError(`Error loading script: ${err.message}`));\n",
       "    } else {\n",
       "      maybeLoadScript(\"vega\", \"5\")\n",
       "        .then(() => maybeLoadScript(\"vega-lite\", \"4.17.0\"))\n",
       "        .then(() => maybeLoadScript(\"vega-embed\", \"6\"))\n",
       "        .catch(showError)\n",
       "        .then(() => displayChart(vegaEmbed));\n",
       "    }\n",
       "  })({\"config\": {\"view\": {\"continuousWidth\": 400, \"continuousHeight\": 300}}, \"data\": {\"name\": \"data-d751713988987e9331980363e24189ce\"}, \"mark\": {\"type\": \"circle\", \"size\": 100}, \"encoding\": {\"color\": {\"field\": \"CoinName\", \"type\": \"nominal\"}, \"tooltip\": [{\"field\": \"CoinName\", \"type\": \"nominal\"}, {\"field\": \"TotalCoinsMined\", \"type\": \"quantitative\"}, {\"field\": \"TotalCoinSupply\", \"type\": \"quantitative\"}], \"x\": {\"field\": \"TotalCoinsMined\", \"scale\": {\"zero\": false}, \"title\": \"TotalCoinsMined\", \"type\": \"quantitative\"}, \"y\": {\"field\": \"TotalCoinSupply\", \"scale\": {\"zero\": false}, \"title\": \"TotalCoinSupply\", \"type\": \"quantitative\"}}, \"height\": 300, \"selection\": {\"selector003\": {\"type\": \"interval\", \"bind\": \"scales\", \"encodings\": [\"x\", \"y\"]}}, \"title\": \"TotalCoinsMined versus TotalCoinSupply\", \"width\": 500, \"$schema\": \"https://vega.github.io/schema/vega-lite/v4.17.0.json\", \"datasets\": {\"data-d751713988987e9331980363e24189ce\": []}}, {\"mode\": \"vega-lite\"});\n",
       "</script>"
      ],
      "text/plain": [
       "alt.Chart(...)"
      ]
     },
     "execution_count": 133,
     "metadata": {},
     "output_type": "execute_result"
    }
   ],
   "source": [
    "# Plot the scatter with x=\"TotalCoinsMined\" and y=\"TotalCoinSupply\"\n",
    "fig2 = alt.Chart(clustered_tradable_df).mark_circle(\n",
    "    size=100\n",
    ").encode(\n",
    "    alt.X(\"TotalCoinsMined\", title=\"TotalCoinsMined\", scale=alt.Scale(zero=False)),\n",
    "    alt.Y(\"TotalCoinSupply\", title=\"TotalCoinSupply\", scale=alt.Scale(zero=False)),\n",
    "    color=\"CoinName\",\n",
    "    tooltip=[\"CoinName\", \"TotalCoinsMined\", \"TotalCoinSupply\"]\n",
    ").properties(\n",
    "    height=300,\n",
    "    width=500,\n",
    "    title=\"TotalCoinsMined versus TotalCoinSupply\").interactive()\n",
    "fig2"
   ]
  },
  {
   "cell_type": "code",
   "execution_count": null,
   "id": "5e5f1334",
   "metadata": {},
   "outputs": [],
   "source": []
  },
  {
   "cell_type": "code",
   "execution_count": null,
   "id": "26874d32",
   "metadata": {},
   "outputs": [],
   "source": []
  }
 ],
 "metadata": {
  "kernelspec": {
   "display_name": "Python [conda env:pyvizenv] *",
   "language": "python",
   "name": "conda-env-pyvizenv-py"
  },
  "language_info": {
   "codemirror_mode": {
    "name": "ipython",
    "version": 3
   },
   "file_extension": ".py",
   "mimetype": "text/x-python",
   "name": "python",
   "nbconvert_exporter": "python",
   "pygments_lexer": "ipython3",
   "version": "3.7.11"
  }
 },
 "nbformat": 4,
 "nbformat_minor": 5
}
